{
 "cells": [
  {
   "cell_type": "markdown",
   "id": "849176a839229329",
   "metadata": {
    "collapsed": false
   },
   "source": [
    "## CMPE/CISC 452 NLP Text Classification\n",
    "\n",
    "By: Liam, Hayden, Taylor, Andrew"
   ]
  },
  {
   "cell_type": "code",
   "execution_count": 10,
   "id": "d7523af2c3627bab",
   "metadata": {
    "collapsed": false,
    "ExecuteTime": {
     "end_time": "2023-12-04T16:01:22.653390300Z",
     "start_time": "2023-12-04T16:01:22.642715100Z"
    }
   },
   "outputs": [],
   "source": [
    "# Data Visualization\n",
    "import pandas as pd\n",
    "import matplotlib.pyplot as plt\n",
    "import matplotlib.patches as mpatches\n",
    "import numpy as np\n",
    "from sklearn.metrics import confusion_matrix\n"
   ]
  },
  {
   "cell_type": "code",
   "execution_count": 11,
   "id": "cd718a926474c55a",
   "metadata": {
    "collapsed": false,
    "ExecuteTime": {
     "end_time": "2023-12-04T16:01:23.611392Z",
     "start_time": "2023-12-04T16:01:23.600766Z"
    }
   },
   "outputs": [
    {
     "name": "stderr",
     "output_type": "stream",
     "text": [
      "[nltk_data] Downloading package stopwords to C:\\Users\\Hayden\n",
      "[nltk_data]     Murphy\\AppData\\Roaming\\nltk_data...\n",
      "[nltk_data]   Package stopwords is already up-to-date!\n"
     ]
    }
   ],
   "source": [
    "# Preprocessing Imports\n",
    "import re    # RegEx for removing non-letter characters\n",
    "import nltk  # natural language processing\n",
    "\n",
    "nltk.download(\"stopwords\")\n",
    "from nltk.corpus import stopwords\n",
    "from nltk.stem.porter import *\n",
    "from sklearn.feature_extraction.text import CountVectorizer\n",
    "import time\n",
    "from sklearn.preprocessing import LabelEncoder\n",
    "# from sklearn.feature_extraction.text import TfidfVectorizer"
   ]
  },
  {
   "cell_type": "code",
   "execution_count": 12,
   "id": "7ab75522ecefdc18",
   "metadata": {
    "collapsed": false,
    "ExecuteTime": {
     "end_time": "2023-12-04T16:01:24.806334Z",
     "start_time": "2023-12-04T16:01:24.792626400Z"
    }
   },
   "outputs": [],
   "source": [
    "# Tokenizing & Padding Imports\n",
    "from keras.preprocessing.text import Tokenizer\n",
    "from keras.preprocessing.sequence import pad_sequences\n",
    "import os\n",
    "import pickle"
   ]
  },
  {
   "cell_type": "code",
   "execution_count": 13,
   "id": "d757e3687fe43eb4",
   "metadata": {
    "collapsed": false,
    "ExecuteTime": {
     "end_time": "2023-12-04T16:01:25.783683800Z",
     "start_time": "2023-12-04T16:01:25.761734400Z"
    }
   },
   "outputs": [],
   "source": [
    "# For Building the model imports\n",
    "from sklearn.model_selection import train_test_split\n",
    "import tensorflow as tf\n",
    "import seaborn as sns\n",
    "import keras.backend as K"
   ]
  },
  {
   "cell_type": "code",
   "execution_count": 14,
   "id": "c54688b2b1a67931",
   "metadata": {
    "collapsed": false,
    "ExecuteTime": {
     "end_time": "2023-12-04T16:01:26.866562600Z",
     "start_time": "2023-12-04T16:01:26.853377600Z"
    }
   },
   "outputs": [],
   "source": [
    "# Bidirectional LSTM Using NN\n",
    "from keras.models import Sequential\n",
    "from keras.layers import Embedding, Conv1D, MaxPooling1D, Bidirectional, LSTM, Dense, Dropout\n",
    "from keras.metrics import Precision, Recall\n",
    "from keras.optimizers import SGD\n",
    "from keras.models import load_model\n",
    "\n",
    "from keras.optimizers import RMSprop\n",
    "from keras import datasets\n",
    "\n",
    "from keras.callbacks import LearningRateScheduler\n",
    "from keras.callbacks import History\n",
    "\n",
    "from keras import losses"
   ]
  },
  {
   "cell_type": "code",
   "execution_count": 15,
   "id": "22eb489649c1f49d",
   "metadata": {
    "collapsed": false,
    "ExecuteTime": {
     "end_time": "2023-12-04T16:01:28.076449300Z",
     "start_time": "2023-12-04T16:01:28.066814100Z"
    }
   },
   "outputs": [],
   "source": [
    "# Completed by ???\n",
    "def load_datasets():\n",
    "    # Load Mobi Tweet dataset\n",
    "    mobi_tweets = pd.read_csv('dataset/Twitter_Data.csv')\n",
    "    \n",
    "    # Load Apple Tweet dataset\n",
    "    apple_tweets = pd.read_csv('dataset/apple-twitter-sentiment-texts.csv')\n",
    "    apple_tweets = apple_tweets.rename(columns={'text': 'clean_text', 'sentiment': 'category'})\n",
    "    apple_tweets['category'] = apple_tweets['category'].map({-1: -1.0, 0: 0.0, 1: 1.0})\n",
    "    \n",
    "    # Load Airplane Tweet dataset\n",
    "    airplane_tweets = pd.read_csv('dataset/Tweets.csv')\n",
    "    airplane_tweets = airplane_tweets.rename(columns={'text': 'clean_text', 'airline_sentiment': 'category'})\n",
    "    airplane_tweets['category'] = airplane_tweets['category'].map({'negative': -1.0, 'neutral': 0.0, 'positive': 1.0})\n",
    "    airplane_tweets = airplane_tweets[['category', 'clean_text']]\n",
    "    \n",
    "    # Combine datasets\n",
    "    combined_tweets = pd.concat([mobi_tweets, apple_tweets, airplane_tweets], ignore_index=True)\n",
    "    \n",
    "    # Check for missing values\n",
    "    print(\"Number of missing values in combined dataset:\\n\", combined_tweets.isnull().sum())\n",
    "    \n",
    "    # Drop missing rows\n",
    "    combined_tweets.dropna(axis=0, inplace=True)\n",
    "    \n",
    "    # Print the shape of the dataset\n",
    "    print(\"Shape of the combined dataset:\", combined_tweets.shape)\n",
    "    \n",
    "    # Map tweet categories\n",
    "    combined_tweets['category'] = combined_tweets['category'].map({-1.0: 'Negative', 0.0: 'Neutral', 1.0: 'Positive'})\n",
    "    \n",
    "    # Output first five rows\n",
    "    print(\"First five rows of the combined dataset:\\n\", combined_tweets.head())\n",
    "    \n",
    "    # Return the combined Data Frame\n",
    "    return combined_tweets\n",
    "   "
   ]
  },
  {
   "cell_type": "code",
   "execution_count": 16,
   "id": "4e2e595998db8edd",
   "metadata": {
    "collapsed": false,
    "ExecuteTime": {
     "end_time": "2023-12-04T16:01:29.474443Z",
     "start_time": "2023-12-04T16:01:29.462714700Z"
    }
   },
   "outputs": [],
   "source": [
    "# Completed by ???\n",
    "def visualize_Data (df):\n",
    "    \"\"\"\n",
    "    Visualizes the distribution of sentiments in the provided DataFrame.\n",
    "\n",
    "    Parameters:\n",
    "    df (pandas.DataFrame): DataFrame containing tweet data.\n",
    "    \"\"\"\n",
    "    \n",
    "    # Grouping by 'category' and counting occurrences\n",
    "    sentiment_counts = df['category'].value_counts()\n",
    "\n",
    "    # Plotting the counts as a bar plot\n",
    "    plt.figure(figsize=(8, 6))\n",
    "    sns.barplot(x=sentiment_counts.index, y=sentiment_counts.values)\n",
    "    \n",
    "    # Setting plot labels and title\n",
    "    plt.xlabel('Category')\n",
    "    plt.ylabel('Number of Tweets')\n",
    "    plt.title('Distribution of Sentiments in Tweet Data')\n",
    "    plt.show()"
   ]
  },
  {
   "cell_type": "code",
   "execution_count": 17,
   "id": "3e447fd62829af31",
   "metadata": {
    "collapsed": false,
    "ExecuteTime": {
     "end_time": "2023-12-04T16:01:30.835166400Z",
     "start_time": "2023-12-04T16:01:30.827002800Z"
    }
   },
   "outputs": [],
   "source": [
    "# Completed by ???\n",
    "def tweet_to_words(tweet):\n",
    "    \"\"\"\n",
    "    Converts the text from a tweet into a list of words for further use.\n",
    "\n",
    "    Parameters:\n",
    "    tweet: String that forms a tweet to be converted into seperate words.\n",
    "    \"\"\"\n",
    "\n",
    "    # Convert the tweet to lowercase\n",
    "    text = tweet.lower()\n",
    "    # Remove any non letter characters\n",
    "    text = re.sub(r\"[^a-zA-Z0-9]\", \" \", text)\n",
    "    # Tokenize the tweet\n",
    "    words = text.split()\n",
    "    # Remove the stopwords, leaving only words that may indicate sentement \n",
    "    words = [w for w in words if w not in stopwords.words(\"english\")]\n",
    "    # Apply stemming\n",
    "    words = [PorterStemmer().stem(w) for w in words]\n",
    "\n",
    "    return words"
   ]
  },
  {
   "cell_type": "code",
   "execution_count": 18,
   "id": "a925863028ef4a74",
   "metadata": {
    "collapsed": false,
    "ExecuteTime": {
     "end_time": "2023-12-04T16:01:31.917859100Z",
     "start_time": "2023-12-04T16:01:31.895792800Z"
    }
   },
   "outputs": [],
   "source": [
    "# Completed by ???\n",
    "def preprocessing(df):\n",
    "    \"\"\"\n",
    "    Preprocesses the data in the given DataFrame using tweet_to_words function\n",
    "\n",
    "    Parameters:\n",
    "    df (pandas.DataFrame): DataFrame containing tweet data. \n",
    "    \"\"\"\n",
    "    \n",
    "    # Tracking the start time of the tweet_to_words function\n",
    "    start_time = time.time()\n",
    "\n",
    "    print(\"Running Preprocessing\")\n",
    "    # Apply data preprocessing to each tweet\n",
    "    X = list(map(tweet_to_words, df['clean_text']))\n",
    "\n",
    "    # Calculate End time of tweet_to_words function\n",
    "    end_time = time.time()\n",
    "\n",
    "    # Calculate elapsed time\n",
    "    elapsed_time = end_time - start_time\n",
    "    print(\"Finished Preprocessing\")\n",
    "    print(f\"Elapsed time: {elapsed_time} seconds\")\n",
    "\n",
    "    print(X[0])\n",
    "   \n",
    "    return X"
   ]
  },
  {
   "cell_type": "code",
   "execution_count": 19,
   "id": "ddd1244546257223",
   "metadata": {
    "collapsed": false,
    "ExecuteTime": {
     "end_time": "2023-12-04T16:01:33.511743700Z",
     "start_time": "2023-12-04T16:01:33.501089Z"
    }
   },
   "outputs": [],
   "source": [
    "# Completed by ???\n",
    "def tokenize_pad_sequences(text, max_words, max_len):\n",
    "    \"\"\"\n",
    "    Tokenize the input text into sequnences of intergers, then pad each sequence to the same length.\n",
    "\n",
    "    Parameters: \n",
    "    text: Dataset containing all the tweets.\n",
    "    max_words: maximum amount of words that can be tokenized \n",
    "    max_len: maximum length of sequences\n",
    "    \"\"\"\n",
    "    \n",
    "    # Text tokenization\n",
    "    tokenizer = Tokenizer(num_words=max_words, lower=True, split=' ')\n",
    "    tokenizer.fit_on_texts(text)\n",
    "    # Transforms text to a sequence of integers\n",
    "    X = tokenizer.texts_to_sequences(text)\n",
    "    # Pad sequences to the same length\n",
    "    X = pad_sequences(X, padding='post', maxlen=max_len)\n",
    "    # return sequences\n",
    "    return X, tokenizer"
   ]
  },
  {
   "cell_type": "code",
   "execution_count": 20,
   "id": "952dbc00e0597664",
   "metadata": {
    "collapsed": false,
    "ExecuteTime": {
     "end_time": "2023-12-04T16:01:34.841923700Z",
     "start_time": "2023-12-04T16:01:34.831648900Z"
    }
   },
   "outputs": [],
   "source": [
    "# Completed by ???\n",
    "def f1_score(precision, recall):\n",
    "    \"\"\"\n",
    "    Calculate the f1 score.\n",
    "\n",
    "    Parameters:\n",
    "    precision: Precision score from the trained model\n",
    "    recall: Recall score from the trained model\n",
    "    \"\"\"\n",
    "\n",
    "    f1_val = 2 * (precision * recall) / (precision + recall + K.epsilon())\n",
    "    return f1_val"
   ]
  },
  {
   "cell_type": "code",
   "execution_count": 21,
   "id": "3a37f10a462845e3",
   "metadata": {
    "collapsed": false,
    "ExecuteTime": {
     "end_time": "2023-12-04T16:11:43.072026800Z",
     "start_time": "2023-12-04T16:01:35.938823800Z"
    }
   },
   "outputs": [
    {
     "name": "stdout",
     "output_type": "stream",
     "text": [
      "Number of missing values in combined dataset:\n",
      " clean_text    4\n",
      "category      7\n",
      "dtype: int64\n",
      "Shape of the combined dataset: (179239, 2)\n",
      "First five rows of the combined dataset:\n",
      "                                           clean_text  category\n",
      "0  when modi promised “minimum government maximum...  Negative\n",
      "1  talk all the nonsense and continue all the dra...   Neutral\n",
      "2  what did just say vote for modi  welcome bjp t...  Positive\n",
      "3  asking his supporters prefix chowkidar their n...  Positive\n",
      "4  answer who among these the most powerful world...  Positive\n"
     ]
    },
    {
     "name": "stderr",
     "output_type": "stream",
     "text": [
      "G:\\Conda\\envs\\school\\Lib\\site-packages\\seaborn\\_oldcore.py:1498: FutureWarning: is_categorical_dtype is deprecated and will be removed in a future version. Use isinstance(dtype, CategoricalDtype) instead\n",
      "  if pd.api.types.is_categorical_dtype(vector):\n",
      "G:\\Conda\\envs\\school\\Lib\\site-packages\\seaborn\\_oldcore.py:1498: FutureWarning: is_categorical_dtype is deprecated and will be removed in a future version. Use isinstance(dtype, CategoricalDtype) instead\n",
      "  if pd.api.types.is_categorical_dtype(vector):\n",
      "G:\\Conda\\envs\\school\\Lib\\site-packages\\seaborn\\_oldcore.py:1498: FutureWarning: is_categorical_dtype is deprecated and will be removed in a future version. Use isinstance(dtype, CategoricalDtype) instead\n",
      "  if pd.api.types.is_categorical_dtype(vector):\n"
     ]
    },
    {
     "data": {
      "text/plain": "<Figure size 800x600 with 1 Axes>",
      "image/png": "[encoded data removed]"
     },
     "metadata": {},
     "output_type": "display_data"
    },
    {
     "name": "stdout",
     "output_type": "stream",
     "text": [
      "Running Preprocessing\n",
      "Finished Preprocessing\n",
      "Elapsed time: 606.62415766716 seconds\n",
      "['modi', 'promis', 'minimum', 'govern', 'maximum', 'govern', 'expect', 'begin', 'difficult', 'job', 'reform', 'state', 'take', 'year', 'get', 'justic', 'state', 'busi', 'exit', 'psu', 'templ']\n"
     ]
    }
   ],
   "source": [
    "# Load Datasets\n",
    "df = load_datasets()\n",
    "\n",
    "# Visualize Data\n",
    "visualize_Data(df)\n",
    "\n",
    "# Preprocessing\n",
    "X = preprocessing(df)"
   ]
  },
  {
   "cell_type": "code",
   "execution_count": 22,
   "id": "b6ae55c9113ac5c1",
   "metadata": {
    "collapsed": false,
    "ExecuteTime": {
     "end_time": "2023-12-04T16:17:17.730714300Z",
     "start_time": "2023-12-04T16:17:10.584415Z"
    }
   },
   "outputs": [
    {
     "name": "stderr",
     "output_type": "stream",
     "text": [
      "G:\\Conda\\envs\\school\\Lib\\site-packages\\sklearn\\feature_extraction\\text.py:528: UserWarning: The parameter 'token_pattern' will not be used since 'tokenizer' is not None'\n",
      "  warnings.warn(\n"
     ]
    },
    {
     "data": {
      "text/plain": "<Figure size 640x480 with 1 Axes>",
      "image/png": "[encoded data removed]"
     },
     "metadata": {},
     "output_type": "display_data"
    },
    {
     "name": "stdout",
     "output_type": "stream",
     "text": [
      "Before Tokenization & Padding \n",
      " ['modi', 'promis', 'minimum', 'govern', 'maximum', 'govern', 'expect', 'begin', 'difficult', 'job', 'reform', 'state', 'take', 'year', 'get', 'justic', 'state', 'busi', 'exit', 'psu', 'templ']\n",
      "After Tokenization & Padding \n",
      " [   1   63  758   27 1631   27  273  920 1143   61 1273  123   28   17\n",
      "   15 1047  123  250 2728 2791 1189    0    0    0    0    0    0    0\n",
      "    0    0    0    0    0    0    0    0    0    0    0    0    0    0\n",
      "    0    0    0    0    0    0    0    0    0    0    0    0    0    0\n",
      "    0    0    0    0    0    0    0    0    0    0    0    0    0    0\n",
      "    0    0    0    0    0    0    0    0    0    0    0    0    0    0\n",
      "    0    0    0    0    0    0    0    0    0    0    0    0    0    0\n",
      "    0    0]\n"
     ]
    }
   ],
   "source": [
    "# Completed by ???\n",
    "# ---Tokenizing & Padding---\n",
    "# Train and test split\n",
    "y = pd.get_dummies(df['category'])\n",
    "X_train, X_test, y_train, y_test = train_test_split(X, y, test_size=0.2, random_state=1)\n",
    "X_train, X_val, y_train, y_val = train_test_split(X_train, y_train, test_size=0.25, random_state=1)\n",
    "\n",
    "vocabulary_size = 5000\n",
    "\n",
    "# Tweets have already been preprocessed hence dummy function will be passed into preprocessor & tokenizer step\n",
    "count_vector = CountVectorizer(max_features=vocabulary_size, preprocessor=lambda x: x, tokenizer=lambda x: x)\n",
    "\n",
    "# Fit the training data\n",
    "X_train = count_vector.fit_transform(X_train).toarray()\n",
    "\n",
    "# Transform testing data\n",
    "X_test = count_vector.transform(X_test).toarray()\n",
    "\n",
    "# Plot the BoW feature vector\n",
    "plt.plot(X_train[2, :])\n",
    "plt.xlabel('Word')\n",
    "plt.ylabel('Count')\n",
    "plt.show()\n",
    "\n",
    "print('Before Tokenization & Padding \\n', X[0])\n",
    "max_words = 5000\n",
    "max_len = 100 # changed from 50 to 100\n",
    "X, tokenizer = tokenize_pad_sequences(X, max_words, max_len)\n",
    "print('After Tokenization & Padding \\n', X[0])"
   ]
  },
  {
   "cell_type": "code",
   "execution_count": 23,
   "id": "51331e6e1315e77f",
   "metadata": {
    "collapsed": false,
    "ExecuteTime": {
     "end_time": "2023-12-04T16:17:23.199628900Z",
     "start_time": "2023-12-04T16:17:22.389199500Z"
    }
   },
   "outputs": [
    {
     "name": "stderr",
     "output_type": "stream",
     "text": [
      "WARNING:absl:`lr` is deprecated in Keras optimizer, please use `learning_rate` or use the legacy optimizer, e.g.,tf.keras.optimizers.legacy.SGD.\n"
     ]
    },
    {
     "name": "stdout",
     "output_type": "stream",
     "text": [
      "Train Set -> (107543, 100) (107543, 3)\n",
      "Validation Set -> (35848, 100) (35848, 3)\n",
      "Test Set -> (35848, 100) (35848, 3)\n",
      "You must install pydot (`pip install pydot`) and install graphviz (see instructions at https://graphviz.gitlab.io/download/) for plot_model to work.\n",
      "Model: \"sequential\"\n",
      "_________________________________________________________________\n",
      " Layer (type)                Output Shape              Param #   \n",
      "=================================================================\n",
      " embedding (Embedding)       (None, 100, 64)           320000    \n",
      "                                                                 \n",
      " conv1d (Conv1D)             (None, 100, 32)           6176      \n",
      "                                                                 \n",
      " max_pooling1d (MaxPooling1  (None, 50, 32)            0         \n",
      " D)                                                              \n",
      "                                                                 \n",
      " bidirectional (Bidirection  (None, 64)                16640     \n",
      " al)                                                             \n",
      "                                                                 \n",
      " dropout (Dropout)           (None, 64)                0         \n",
      "                                                                 \n",
      " dense (Dense)               (None, 3)                 195       \n",
      "                                                                 \n",
      "=================================================================\n",
      "Total params: 343011 (1.31 MB)\n",
      "Trainable params: 343011 (1.31 MB)\n",
      "Non-trainable params: 0 (0.00 Byte)\n",
      "_________________________________________________________________\n",
      "None\n"
     ]
    }
   ],
   "source": [
    "# Completed by ???\n",
    "# ---BuildModel---\n",
    "y = pd.get_dummies(df['category'])\n",
    "X_train, X_test, y_train, y_test = train_test_split(X, y, test_size=0.2, random_state=1)\n",
    "X_train, X_val, y_train, y_val = train_test_split(X_train, y_train, test_size=0.25, random_state=1)\n",
    "print('Train Set ->', X_train.shape, y_train.shape)\n",
    "print('Validation Set ->', X_val.shape, y_val.shape)\n",
    "print('Test Set ->', X_test.shape, y_test.shape)\n",
    "\n",
    "vocab_size = 5000\n",
    "embedding_size = 64 # changed from 32 to 64\n",
    "epochs = 20\n",
    "learning_rate = 0.01\n",
    "decay_rate = learning_rate / epochs\n",
    "momentum = 0.8\n",
    "\n",
    "# Removed decay rate\n",
    "# decay=decay_rate,\n",
    "sgd = SGD(lr=learning_rate, momentum=momentum, nesterov=False)\n",
    "\n",
    "# Build model\n",
    "model = Sequential()\n",
    "model.add(Embedding(vocab_size, embedding_size, input_length=max_len))\n",
    "model.add(Conv1D(filters=32, kernel_size=3, padding='same', activation='relu'))\n",
    "model.add(MaxPooling1D(pool_size=2))\n",
    "model.add(Bidirectional(LSTM(32)))\n",
    "model.add(Dropout(0.4))\n",
    "model.add(Dense(3, activation='softmax'))\n",
    "\n",
    "tf.keras.utils.plot_model(model, show_shapes=True)\n",
    "\n",
    "print(model.summary())"
   ]
  },
  {
   "cell_type": "code",
   "execution_count": 24,
   "id": "7821a804ca504005",
   "metadata": {
    "collapsed": false,
    "ExecuteTime": {
     "end_time": "2023-12-04T16:17:26.164913700Z",
     "start_time": "2023-12-04T16:17:26.152662900Z"
    }
   },
   "outputs": [],
   "source": [
    "# Compile model\n",
    "model.compile(loss='categorical_crossentropy', optimizer=sgd, metrics=['accuracy', Precision(), Recall()])"
   ]
  },
  {
   "cell_type": "code",
   "execution_count": 25,
   "id": "dab8b2c1ee022fc8",
   "metadata": {
    "collapsed": false,
    "ExecuteTime": {
     "end_time": "2023-12-04T16:26:16.078539Z",
     "start_time": "2023-12-04T16:17:27.945459600Z"
    }
   },
   "outputs": [
    {
     "name": "stdout",
     "output_type": "stream",
     "text": [
      "Epoch 1/20\n",
      "1681/1681 [==============================] - 29s 16ms/step - loss: 1.0160 - accuracy: 0.4929 - precision: 0.5745 - recall: 0.2278 - val_loss: 0.9934 - val_accuracy: 0.5103 - val_precision: 0.5795 - val_recall: 0.3085\n",
      "Epoch 2/20\n",
      "1681/1681 [==============================] - 26s 15ms/step - loss: 0.9649 - accuracy: 0.5274 - precision: 0.6060 - recall: 0.3217 - val_loss: 0.8730 - val_accuracy: 0.5987 - val_precision: 0.6679 - val_recall: 0.4470\n",
      "Epoch 3/20\n",
      "1681/1681 [==============================] - 26s 15ms/step - loss: 0.7878 - accuracy: 0.6450 - precision: 0.7117 - recall: 0.5460 - val_loss: 0.7029 - val_accuracy: 0.7101 - val_precision: 0.7687 - val_recall: 0.6291\n",
      "Epoch 4/20\n",
      "1681/1681 [==============================] - 26s 16ms/step - loss: 0.6340 - accuracy: 0.7499 - precision: 0.7931 - recall: 0.6933 - val_loss: 0.5545 - val_accuracy: 0.7947 - val_precision: 0.8162 - val_recall: 0.7658\n",
      "Epoch 5/20\n",
      "1681/1681 [==============================] - 26s 15ms/step - loss: 0.5098 - accuracy: 0.8194 - precision: 0.8395 - recall: 0.7921 - val_loss: 0.4783 - val_accuracy: 0.8291 - val_precision: 0.8466 - val_recall: 0.8073\n",
      "Epoch 6/20\n",
      "1681/1681 [==============================] - 26s 15ms/step - loss: 0.4689 - accuracy: 0.8370 - precision: 0.8529 - recall: 0.8169 - val_loss: 0.4890 - val_accuracy: 0.8243 - val_precision: 0.8357 - val_recall: 0.8086\n",
      "Epoch 7/20\n",
      "1681/1681 [==============================] - 26s 16ms/step - loss: 0.4502 - accuracy: 0.8442 - precision: 0.8581 - recall: 0.8269 - val_loss: 0.4540 - val_accuracy: 0.8389 - val_precision: 0.8506 - val_recall: 0.8237\n",
      "Epoch 8/20\n",
      "1681/1681 [==============================] - 26s 16ms/step - loss: 0.4386 - accuracy: 0.8487 - precision: 0.8612 - recall: 0.8322 - val_loss: 0.4768 - val_accuracy: 0.8273 - val_precision: 0.8408 - val_recall: 0.8114\n",
      "Epoch 9/20\n",
      "1681/1681 [==============================] - 26s 15ms/step - loss: 0.4284 - accuracy: 0.8529 - precision: 0.8654 - recall: 0.8374 - val_loss: 0.4544 - val_accuracy: 0.8386 - val_precision: 0.8511 - val_recall: 0.8238\n",
      "Epoch 10/20\n",
      "1681/1681 [==============================] - 26s 15ms/step - loss: 0.4195 - accuracy: 0.8557 - precision: 0.8681 - recall: 0.8410 - val_loss: 0.4638 - val_accuracy: 0.8343 - val_precision: 0.8459 - val_recall: 0.8214\n",
      "Epoch 11/20\n",
      "1681/1681 [==============================] - 25s 15ms/step - loss: 0.4124 - accuracy: 0.8577 - precision: 0.8697 - recall: 0.8436 - val_loss: 0.4527 - val_accuracy: 0.8374 - val_precision: 0.8479 - val_recall: 0.8256\n",
      "Epoch 12/20\n",
      "1681/1681 [==============================] - 26s 15ms/step - loss: 0.4073 - accuracy: 0.8605 - precision: 0.8724 - recall: 0.8465 - val_loss: 0.4546 - val_accuracy: 0.8390 - val_precision: 0.8487 - val_recall: 0.8278\n",
      "Epoch 13/20\n",
      "1681/1681 [==============================] - 25s 15ms/step - loss: 0.3992 - accuracy: 0.8636 - precision: 0.8749 - recall: 0.8504 - val_loss: 0.4578 - val_accuracy: 0.8368 - val_precision: 0.8478 - val_recall: 0.8227\n",
      "Epoch 14/20\n",
      "1681/1681 [==============================] - 25s 15ms/step - loss: 0.3918 - accuracy: 0.8657 - precision: 0.8768 - recall: 0.8522 - val_loss: 0.4632 - val_accuracy: 0.8344 - val_precision: 0.8447 - val_recall: 0.8217\n",
      "Epoch 15/20\n",
      "1681/1681 [==============================] - 25s 15ms/step - loss: 0.3857 - accuracy: 0.8675 - precision: 0.8787 - recall: 0.8545 - val_loss: 0.4559 - val_accuracy: 0.8347 - val_precision: 0.8485 - val_recall: 0.8198\n",
      "Epoch 16/20\n",
      "1681/1681 [==============================] - 25s 15ms/step - loss: 0.3800 - accuracy: 0.8708 - precision: 0.8820 - recall: 0.8580 - val_loss: 0.4613 - val_accuracy: 0.8378 - val_precision: 0.8472 - val_recall: 0.8286\n",
      "Epoch 17/20\n",
      "1681/1681 [==============================] - 26s 16ms/step - loss: 0.3713 - accuracy: 0.8742 - precision: 0.8853 - recall: 0.8621 - val_loss: 0.4611 - val_accuracy: 0.8370 - val_precision: 0.8475 - val_recall: 0.8251\n",
      "Epoch 18/20\n",
      "1681/1681 [==============================] - 29s 17ms/step - loss: 0.3627 - accuracy: 0.8764 - precision: 0.8869 - recall: 0.8652 - val_loss: 0.4649 - val_accuracy: 0.8347 - val_precision: 0.8455 - val_recall: 0.8234\n",
      "Epoch 19/20\n",
      "1681/1681 [==============================] - 32s 19ms/step - loss: 0.3545 - accuracy: 0.8798 - precision: 0.8900 - recall: 0.8685 - val_loss: 0.4652 - val_accuracy: 0.8377 - val_precision: 0.8471 - val_recall: 0.8272\n",
      "Epoch 20/20\n",
      "1681/1681 [==============================] - 28s 17ms/step - loss: 0.3462 - accuracy: 0.8832 - precision: 0.8932 - recall: 0.8721 - val_loss: 0.4763 - val_accuracy: 0.8364 - val_precision: 0.8457 - val_recall: 0.8267\n"
     ]
    }
   ],
   "source": [
    " # Train model\n",
    "batch_size = 64\n",
    "history = model.fit(X_train, y_train, validation_data=(X_val, y_val), batch_size=batch_size, epochs=epochs, verbose=1)"
   ]
  },
  {
   "cell_type": "code",
   "execution_count": 26,
   "id": "939991392310a84d",
   "metadata": {
    "collapsed": false,
    "ExecuteTime": {
     "end_time": "2023-12-04T16:26:26.351570800Z",
     "start_time": "2023-12-04T16:26:20.065444600Z"
    }
   },
   "outputs": [
    {
     "name": "stdout",
     "output_type": "stream",
     "text": [
      "\n",
      "Accuracy  : 0.8366\n",
      "Precision : 0.8444\n",
      "Recall    : 0.8270\n",
      "F1 Score  : 0.8356\n"
     ]
    }
   ],
   "source": [
    "# Evaluate model on the test set\n",
    "loss, accuracy, precision, recall = model.evaluate(X_test, y_test, verbose=0)\n",
    "# Print metrics\n",
    "print('')\n",
    "print('Accuracy  : {:.4f}'.format(accuracy))\n",
    "print('Precision : {:.4f}'.format(precision))\n",
    "print('Recall    : {:.4f}'.format(recall))\n",
    "print('F1 Score  : {:.4f}'.format(f1_score(precision, recall)))"
   ]
  },
  {
   "cell_type": "code",
   "execution_count": 27,
   "id": "15fa09e239d37fa6",
   "metadata": {
    "collapsed": false,
    "ExecuteTime": {
     "end_time": "2023-12-04T16:26:52.414608400Z",
     "start_time": "2023-12-04T16:26:52.150745600Z"
    }
   },
   "outputs": [
    {
     "data": {
      "text/plain": "<Figure size 1000x400 with 2 Axes>",
      "image/png": "[encoded data removed]"
     },
     "metadata": {},
     "output_type": "display_data"
    }
   ],
   "source": [
    "# Completed by ???\n",
    "def plot_training_hist(history):\n",
    "    '''Function to plot history for accuracy and loss'''\n",
    "    \n",
    "    fig, ax = plt.subplots(1, 2, figsize=(10,4))\n",
    "    # first plot\n",
    "    ax[0].plot(history.history['accuracy'])\n",
    "    ax[0].plot(history.history['val_accuracy'])\n",
    "    ax[0].set_title('Model Accuracy')\n",
    "    ax[0].set_xlabel('epoch')\n",
    "    ax[0].set_ylabel('accuracy')\n",
    "    ax[0].legend(['train', 'validation'], loc='best')\n",
    "    # second plot\n",
    "    ax[1].plot(history.history['loss'])\n",
    "    ax[1].plot(history.history['val_loss'])\n",
    "    ax[1].set_title('Model Loss')\n",
    "    ax[1].set_xlabel('epoch')\n",
    "    ax[1].set_ylabel('loss')\n",
    "    ax[1].legend(['train', 'validation'], loc='best')\n",
    "    \n",
    "plot_training_hist(history)"
   ]
  },
  {
   "cell_type": "code",
   "execution_count": 28,
   "id": "a7d14f0df94f3ef3",
   "metadata": {
    "collapsed": false,
    "ExecuteTime": {
     "end_time": "2023-12-04T16:27:02.078445100Z",
     "start_time": "2023-12-04T16:26:56.906557400Z"
    }
   },
   "outputs": [
    {
     "name": "stdout",
     "output_type": "stream",
     "text": [
      "1121/1121 [==============================] - 5s 4ms/step\n"
     ]
    },
    {
     "data": {
      "text/plain": "<Figure size 800x600 with 2 Axes>",
      "image/png": "[encoded data removed]"
     },
     "metadata": {},
     "output_type": "display_data"
    }
   ],
   "source": [
    "# Completed by ???\n",
    "def plot_confusion_matrix(model, X_test, y_test):\n",
    "    '''Function to plot confusion matrix for the passed model and the data'''\n",
    "    \n",
    "    sentiment_classes = ['Negative', 'Neutral', 'Positive']\n",
    "    # use model to do the prediction\n",
    "    y_pred = model.predict(X_test)\n",
    "    # compute confusion matrix\n",
    "    cm = confusion_matrix(np.argmax(np.array(y_test),axis=1), np.argmax(y_pred, axis=1))\n",
    "    # plot confusion matrix\n",
    "    plt.figure(figsize=(8,6))\n",
    "    sns.heatmap(cm, cmap=plt.cm.Blues, annot=True, fmt='d', \n",
    "                xticklabels=sentiment_classes,\n",
    "                yticklabels=sentiment_classes)\n",
    "    plt.title('Confusion matrix', fontsize=16)\n",
    "    plt.xlabel('Actual label', fontsize=12)\n",
    "    plt.ylabel('Predicted label', fontsize=12)\n",
    "    \n",
    "plot_confusion_matrix(model, X_test, y_test)"
   ]
  },
  {
   "cell_type": "code",
   "execution_count": 29,
   "outputs": [
    {
     "name": "stdout",
     "output_type": "stream",
     "text": [
      "Best model saved\n"
     ]
    },
    {
     "name": "stderr",
     "output_type": "stream",
     "text": [
      "G:\\Conda\\envs\\school\\Lib\\site-packages\\keras\\src\\engine\\training.py:3000: UserWarning: You are saving your model as an HDF5 file via `model.save()`. This file format is considered legacy. We recommend using instead the native Keras format, e.g. `model.save('my_model.keras')`.\n",
      "  saving_api.save_model(\n"
     ]
    }
   ],
   "source": [
    "# Save the model architecture & the weights\n",
    "model.save('best_model.h5')\n",
    "print('Best model saved')"
   ],
   "metadata": {
    "collapsed": false,
    "ExecuteTime": {
     "end_time": "2023-12-04T16:27:04.138559800Z",
     "start_time": "2023-12-04T16:27:04.111233400Z"
    }
   },
   "id": "969451044570ab1"
  },
  {
   "cell_type": "code",
   "execution_count": 30,
   "outputs": [],
   "source": [
    "# Completed by ???\n",
    "# Load model\n",
    "model = load_model('best_model.h5')\n",
    "\n",
    "def predict_class(text):\n",
    "    '''Function to predict sentiment class of the passed text'''\n",
    "    \n",
    "    sentiment_classes = ['Negative', 'Neutral', 'Positive']\n",
    "    max_len=100\n",
    "    \n",
    "    # Transforms text to a sequence of integers using a tokenizer object\n",
    "    xt = tokenizer.texts_to_sequences(text)\n",
    "    # Pad sequences to the same length\n",
    "    xt = pad_sequences(xt, padding='post', maxlen=max_len)\n",
    "    # Do the prediction using the loaded model\n",
    "    yt = model.predict(xt).argmax(axis=1)\n",
    "    # Print the predicted sentiment\n",
    "    print('The predicted sentiment is', sentiment_classes[yt[0]])"
   ],
   "metadata": {
    "collapsed": false,
    "ExecuteTime": {
     "end_time": "2023-12-04T16:27:07.043493900Z",
     "start_time": "2023-12-04T16:27:06.592328500Z"
    }
   },
   "id": "a9cd94b5da2c7c6c"
  },
  {
   "cell_type": "code",
   "execution_count": 37,
   "outputs": [
    {
     "name": "stdout",
     "output_type": "stream",
     "text": [
      "1/1 [==============================] - 0s 19ms/step\n",
      "The predicted sentiment is Negative\n",
      "1/1 [==============================] - 0s 18ms/step\n",
      "The predicted sentiment is Neutral\n",
      "1/1 [==============================] - 0s 16ms/step\n",
      "The predicted sentiment is Positive\n",
      "1/1 [==============================] - 0s 17ms/step\n",
      "The predicted sentiment is Negative\n"
     ]
    }
   ],
   "source": [
    "# Negative Statement Test\n",
    "predict_class(['I hate flying'])\n",
    "# Neutral Statement Test\n",
    "predict_class(['I saw Mobi today'])\n",
    "# Positive Statement Test\n",
    "predict_class(['I love the new iphone'])\n",
    "\n",
    "predict_class(['I hate the prices at loblaws'])"
   ],
   "metadata": {
    "collapsed": false,
    "ExecuteTime": {
     "end_time": "2023-12-04T16:46:38.013292700Z",
     "start_time": "2023-12-04T16:46:37.789872500Z"
    }
   },
   "id": "afd01c8b38c838c"
  }
 ],
 "metadata": {
  "kernelspec": {
   "display_name": "Python 3",
   "language": "python",
   "name": "python3"
  },
  "language_info": {
   "codemirror_mode": {
    "name": "ipython",
    "version": 3
   },
   "file_extension": ".py",
   "mimetype": "text/x-python",
   "name": "python",
   "nbconvert_exporter": "python",
   "pygments_lexer": "ipython3",
   "version": "3.11.6"
  }
 },
 "nbformat": 4,
 "nbformat_minor": 5
}
