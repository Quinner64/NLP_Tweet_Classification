{
 "cells": [
  {
   "cell_type": "markdown",
   "id": "849176a839229329",
   "metadata": {
    "collapsed": false
   },
   "source": [
    "## CMPE/CISC 452 NLP Text Classification\n",
    "##### Hayden Murphy 20206447\n",
    "##### Liam Seagram 20205234\n",
    "##### Taylor Fiorelli 20204246\n",
    "##### Andrew Mun-Shimoda 20176005"
   ]
  },
  {
   "cell_type": "code",
   "execution_count": 2,
   "id": "d7523af2c3627bab",
   "metadata": {
    "ExecuteTime": {
     "end_time": "2023-12-04T16:01:22.653390300Z",
     "start_time": "2023-12-04T16:01:22.642715100Z"
    },
    "collapsed": false
   },
   "outputs": [],
   "source": [
    "# Data Visualization\n",
    "import pandas as pd\n",
    "import matplotlib.pyplot as plt\n",
    "import numpy as np\n",
    "from sklearn.metrics import confusion_matrix"
   ]
  },
  {
   "cell_type": "code",
   "execution_count": 3,
   "id": "cd718a926474c55a",
   "metadata": {
    "ExecuteTime": {
     "end_time": "2023-12-04T16:01:23.611392Z",
     "start_time": "2023-12-04T16:01:23.600766Z"
    },
    "collapsed": false
   },
   "outputs": [
    {
     "name": "stderr",
     "output_type": "stream",
     "text": [
      "[nltk_data] Downloading package stopwords to\n",
      "[nltk_data]     /Users/sealgram/nltk_data...\n",
      "[nltk_data]   Package stopwords is already up-to-date!\n"
     ]
    }
   ],
   "source": [
    "# Preprocessing Imports\n",
    "import re    # RegEx for removing non-letter characters\n",
    "import nltk  # natural language processing\n",
    "\n",
    "nltk.download(\"stopwords\")\n",
    "from nltk.corpus import stopwords\n",
    "from nltk.stem.porter import *\n",
    "from sklearn.feature_extraction.text import CountVectorizer\n",
    "import time"
   ]
  },
  {
   "cell_type": "code",
   "execution_count": 4,
   "id": "7ab75522ecefdc18",
   "metadata": {
    "ExecuteTime": {
     "end_time": "2023-12-04T16:01:24.806334Z",
     "start_time": "2023-12-04T16:01:24.792626400Z"
    },
    "collapsed": false
   },
   "outputs": [],
   "source": [
    "# Tokenizing & Padding Imports\n",
    "from keras.preprocessing.text import Tokenizer\n",
    "from keras.preprocessing.sequence import pad_sequences"
   ]
  },
  {
   "cell_type": "code",
   "execution_count": 5,
   "id": "d757e3687fe43eb4",
   "metadata": {
    "ExecuteTime": {
     "end_time": "2023-12-04T16:01:25.783683800Z",
     "start_time": "2023-12-04T16:01:25.761734400Z"
    },
    "collapsed": false
   },
   "outputs": [],
   "source": [
    "# For Building the model imports\n",
    "from sklearn.model_selection import train_test_split\n",
    "import tensorflow as tf\n",
    "import seaborn as sns\n",
    "import keras.backend as K"
   ]
  },
  {
   "cell_type": "code",
   "execution_count": 6,
   "id": "c54688b2b1a67931",
   "metadata": {
    "ExecuteTime": {
     "end_time": "2023-12-04T16:01:26.866562600Z",
     "start_time": "2023-12-04T16:01:26.853377600Z"
    },
    "collapsed": false
   },
   "outputs": [],
   "source": [
    "# Bidirectional LSTM Using NN\n",
    "from keras.models import Sequential\n",
    "from keras.layers import Embedding, Conv1D, MaxPooling1D, Bidirectional, LSTM, Dense, Dropout\n",
    "from keras.metrics import Precision, Recall\n",
    "from keras.optimizers import SGD\n",
    "from keras.models import load_model"
   ]
  },
  {
   "cell_type": "code",
   "execution_count": 7,
   "id": "22eb489649c1f49d",
   "metadata": {
    "ExecuteTime": {
     "end_time": "2023-12-04T16:01:28.076449300Z",
     "start_time": "2023-12-04T16:01:28.066814100Z"
    },
    "collapsed": false
   },
   "outputs": [],
   "source": [
    "# Completed by Hayden & Taylor, collaboratively \n",
    "def load_datasets():\n",
    "    \"\"\"\n",
    "    Loads the datasets and combines them into one dataframe\n",
    "\n",
    "    Parameters:\n",
    "    none\n",
    "    \"\"\"\n",
    "    # Load Mobi Tweet dataset\n",
    "    mobi_tweets = pd.read_csv('dataset/Twitter_Data.csv')\n",
    "    \n",
    "    # Load Apple Tweet dataset\n",
    "    apple_tweets = pd.read_csv('dataset/apple-twitter-sentiment-texts.csv')\n",
    "    apple_tweets = apple_tweets.rename(columns={'text': 'clean_text', 'sentiment': 'category'})\n",
    "    apple_tweets['category'] = apple_tweets['category'].map({-1: -1.0, 0: 0.0, 1: 1.0})\n",
    "    \n",
    "    # Load Airplane Tweet dataset\n",
    "    airplane_tweets = pd.read_csv('dataset/Tweets.csv')\n",
    "    airplane_tweets = airplane_tweets.rename(columns={'text': 'clean_text', 'airline_sentiment': 'category'})\n",
    "    airplane_tweets['category'] = airplane_tweets['category'].map({'negative': -1.0, 'neutral': 0.0, 'positive': 1.0})\n",
    "    airplane_tweets = airplane_tweets[['category', 'clean_text']]\n",
    "    \n",
    "    # Combine datasets\n",
    "    combined_tweets = pd.concat([mobi_tweets, apple_tweets, airplane_tweets], ignore_index=True)\n",
    "    \n",
    "    # Check for missing values\n",
    "    print(\"Number of missing values in combined dataset:\\n\", combined_tweets.isnull().sum())\n",
    "    \n",
    "    # Drop missing rows\n",
    "    combined_tweets.dropna(axis=0, inplace=True)\n",
    "    \n",
    "    # Print the shape of the dataset\n",
    "    print(\"Shape of the combined dataset:\", combined_tweets.shape)\n",
    "    \n",
    "    # Map tweet categories\n",
    "    combined_tweets['category'] = combined_tweets['category'].map({-1.0: 'Negative', 0.0: 'Neutral', 1.0: 'Positive'})\n",
    "    \n",
    "    # Output first five rows\n",
    "    print(\"First five rows of the combined dataset:\\n\", combined_tweets.head())\n",
    "    \n",
    "    # Return the combined Data Frame\n",
    "    return combined_tweets\n",
    "   "
   ]
  },
  {
   "cell_type": "code",
   "execution_count": 8,
   "id": "4e2e595998db8edd",
   "metadata": {
    "ExecuteTime": {
     "end_time": "2023-12-04T16:01:29.474443Z",
     "start_time": "2023-12-04T16:01:29.462714700Z"
    },
    "collapsed": false
   },
   "outputs": [],
   "source": [
    "# Completed by Hayden\n",
    "def visualize_Data (df):\n",
    "    \"\"\"\n",
    "    Visualizes the distribution of sentiments in the provided DataFrame.\n",
    "\n",
    "    Parameters:\n",
    "    df (pandas.DataFrame): DataFrame containing tweet data.\n",
    "    \"\"\"\n",
    "    \n",
    "    # Grouping by 'category' and counting occurrences\n",
    "    sentiment_counts = df['category'].value_counts()\n",
    "\n",
    "    # Plotting the counts as a bar plot\n",
    "    plt.figure(figsize=(8, 6))\n",
    "    sns.barplot(x=sentiment_counts.index, y=sentiment_counts.values)\n",
    "    \n",
    "    # Setting plot labels and title\n",
    "    plt.xlabel('Category')\n",
    "    plt.ylabel('Number of Tweets')\n",
    "    plt.title('Distribution of Sentiments in Tweet Data')\n",
    "    plt.show()"
   ]
  },
  {
   "cell_type": "code",
   "execution_count": 9,
   "id": "3e447fd62829af31",
   "metadata": {
    "ExecuteTime": {
     "end_time": "2023-12-04T16:01:30.835166400Z",
     "start_time": "2023-12-04T16:01:30.827002800Z"
    },
    "collapsed": false
   },
   "outputs": [],
   "source": [
    "# Completed by Liam\n",
    "def tweet_to_words(tweet):\n",
    "    \"\"\"\n",
    "    Converts the text from a tweet into a list of words for further use.\n",
    "\n",
    "    Parameters:\n",
    "    tweet: String that forms a tweet to be converted into seperate words.\n",
    "    \"\"\"\n",
    "\n",
    "    # Convert the tweet to lowercase\n",
    "    text = tweet.lower()\n",
    "    # Remove any non letter characters\n",
    "    text = re.sub(r\"[^a-zA-Z0-9]\", \" \", text)\n",
    "    # Tokenize the tweet\n",
    "    words = text.split()\n",
    "    # Remove the stopwords, leaving only words that may indicate sentement \n",
    "    words = [w for w in words if w not in stopwords.words(\"english\")]\n",
    "    # Apply stemming\n",
    "    words = [PorterStemmer().stem(w) for w in words]\n",
    "\n",
    "    return words"
   ]
  },
  {
   "cell_type": "code",
   "execution_count": 10,
   "id": "a925863028ef4a74",
   "metadata": {
    "ExecuteTime": {
     "end_time": "2023-12-04T16:01:31.917859100Z",
     "start_time": "2023-12-04T16:01:31.895792800Z"
    },
    "collapsed": false
   },
   "outputs": [],
   "source": [
    "# Completed by Liam & Hayden, collaboratively\n",
    "def preprocessing(df):\n",
    "    \"\"\"\n",
    "    Preprocesses the data in the given DataFrame using tweet_to_words function\n",
    "\n",
    "    Parameters:\n",
    "    df (pandas.DataFrame): DataFrame containing tweet data. \n",
    "    \"\"\"\n",
    "    \n",
    "    # Tracking the start time of the tweet_to_words function\n",
    "    start_time = time.time()\n",
    "\n",
    "    print(\"Running Preprocessing\")\n",
    "    # Apply data preprocessing to each tweet\n",
    "    X = list(map(tweet_to_words, df['clean_text']))\n",
    "\n",
    "    # Calculate End time of tweet_to_words function\n",
    "    end_time = time.time()\n",
    "\n",
    "    # Calculate elapsed time\n",
    "    elapsed_time = end_time - start_time\n",
    "    print(\"Finished Preprocessing\")\n",
    "    print(f\"Elapsed time: {elapsed_time} seconds\")\n",
    "\n",
    "    print(X[0])\n",
    "   \n",
    "    return X"
   ]
  },
  {
   "cell_type": "code",
   "execution_count": 11,
   "id": "3a37f10a462845e3",
   "metadata": {
    "ExecuteTime": {
     "end_time": "2023-12-04T16:11:43.072026800Z",
     "start_time": "2023-12-04T16:01:35.938823800Z"
    },
    "collapsed": false
   },
   "outputs": [
    {
     "name": "stdout",
     "output_type": "stream",
     "text": [
      "Number of missing values in combined dataset:\n",
      " clean_text    4\n",
      "category      7\n",
      "dtype: int64\n",
      "Shape of the combined dataset: (179239, 2)\n",
      "First five rows of the combined dataset:\n",
      "                                           clean_text  category\n",
      "0  when modi promised “minimum government maximum...  Negative\n",
      "1  talk all the nonsense and continue all the dra...   Neutral\n",
      "2  what did just say vote for modi  welcome bjp t...  Positive\n",
      "3  asking his supporters prefix chowkidar their n...  Positive\n",
      "4  answer who among these the most powerful world...  Positive\n"
     ]
    },
    {
     "data": {
      "image/png": "[encoded data removed]",
      "text/plain": [
       "<Figure size 800x600 with 1 Axes>"
      ]
     },
     "metadata": {},
     "output_type": "display_data"
    },
    {
     "name": "stdout",
     "output_type": "stream",
     "text": [
      "Running Preprocessing\n",
      "Finished Preprocessing\n",
      "Elapsed time: 139.7500548362732 seconds\n",
      "['modi', 'promis', 'minimum', 'govern', 'maximum', 'govern', 'expect', 'begin', 'difficult', 'job', 'reform', 'state', 'take', 'year', 'get', 'justic', 'state', 'busi', 'exit', 'psu', 'templ']\n"
     ]
    }
   ],
   "source": [
    "# Load Datasets\n",
    "df = load_datasets()\n",
    "\n",
    "# Visualize Data\n",
    "visualize_Data(df)\n",
    "\n",
    "# Preprocessing\n",
    "X = preprocessing(df)"
   ]
  },
  {
   "cell_type": "code",
   "execution_count": 12,
   "metadata": {},
   "outputs": [],
   "source": [
    "# Completed by Andrew & Liam, Collaboratively\n",
    "def tokenize_pad_sequences(text, max_words, max_len):\n",
    "    \"\"\"\n",
    "    Tokenize the input text into sequnences of intergers, then pad each sequence to the same length.\n",
    "\n",
    "    Parameters: \n",
    "    text: Dataset containing all the tweets.\n",
    "    max_words: maximum amount of words that can be tokenized \n",
    "    max_len: maximum length of sequences\n",
    "    \"\"\"\n",
    "    \n",
    "    # Text tokenization\n",
    "    tokenizer = Tokenizer(num_words=max_words, lower=True, split=' ')\n",
    "    tokenizer.fit_on_texts(text)\n",
    "    # Transforms text to a sequence of integers\n",
    "    X = tokenizer.texts_to_sequences(text)\n",
    "    # Pad sequences to the same length\n",
    "    X = pad_sequences(X, padding='post', maxlen=max_len)\n",
    "    # return sequences\n",
    "    return X, tokenizer"
   ]
  },
  {
   "cell_type": "code",
   "execution_count": 13,
   "id": "b6ae55c9113ac5c1",
   "metadata": {
    "ExecuteTime": {
     "end_time": "2023-12-04T16:17:17.730714300Z",
     "start_time": "2023-12-04T16:17:10.584415Z"
    },
    "collapsed": false
   },
   "outputs": [
    {
     "name": "stderr",
     "output_type": "stream",
     "text": [
      "/opt/homebrew/lib/python3.11/site-packages/sklearn/feature_extraction/text.py:525: UserWarning: The parameter 'token_pattern' will not be used since 'tokenizer' is not None'\n",
      "  warnings.warn(\n"
     ]
    },
    {
     "data": {
      "image/png": "[encoded data removed]",
      "text/plain": [
       "<Figure size 640x480 with 1 Axes>"
      ]
     },
     "metadata": {},
     "output_type": "display_data"
    },
    {
     "name": "stdout",
     "output_type": "stream",
     "text": [
      "Before Tokenization & Padding \n",
      " ['modi', 'promis', 'minimum', 'govern', 'maximum', 'govern', 'expect', 'begin', 'difficult', 'job', 'reform', 'state', 'take', 'year', 'get', 'justic', 'state', 'busi', 'exit', 'psu', 'templ']\n",
      "After Tokenization & Padding \n",
      " [   1   63  758   27 1631   27  273  920 1143   61 1273  123   28   17\n",
      "   15 1047  123  250 2728 2791 1189    0    0    0    0    0    0    0\n",
      "    0    0    0    0    0    0    0    0    0    0    0    0    0    0\n",
      "    0    0    0    0    0    0    0    0    0    0    0    0    0    0\n",
      "    0    0    0    0    0    0    0    0    0    0    0    0    0    0\n",
      "    0    0    0    0    0    0    0    0    0    0    0    0    0    0\n",
      "    0    0    0    0    0    0    0    0    0    0    0    0    0    0\n",
      "    0    0]\n"
     ]
    }
   ],
   "source": [
    "# Completed by Hayden & Andrew, Collaboratively\n",
    "\"\"\"\n",
    "Tokenizing & Padding the data to prepare it to train the model.\n",
    "\n",
    "\"\"\"\n",
    "# Train and test split\n",
    "y = pd.get_dummies(df['category'])\n",
    "X_train, X_test, y_train, y_test = train_test_split(X, y, test_size=0.2, random_state=1)\n",
    "X_train, X_val, y_train, y_val = train_test_split(X_train, y_train, test_size=0.25, random_state=1)\n",
    "\n",
    "vocabulary_size = 5000\n",
    "\n",
    "# Tweets have already been preprocessed hence dummy function will be passed into preprocessor & tokenizer step\n",
    "count_vector = CountVectorizer(max_features=vocabulary_size, preprocessor=lambda x: x, tokenizer=lambda x: x)\n",
    "\n",
    "# Fit the training data\n",
    "X_train = count_vector.fit_transform(X_train).toarray()\n",
    "\n",
    "# Transform testing data\n",
    "X_test = count_vector.transform(X_test).toarray()\n",
    "\n",
    "# Plot the BoW feature vector\n",
    "plt.plot(X_train[2, :])\n",
    "plt.xlabel('Word')\n",
    "plt.ylabel('Count')\n",
    "plt.show()\n",
    "\n",
    "print('Before Tokenization & Padding \\n', X[0])\n",
    "max_words = 5000\n",
    "max_len = 100 # changed from 50 to 100\n",
    "X, tokenizer = tokenize_pad_sequences(X, max_words, max_len)\n",
    "print('After Tokenization & Padding \\n', X[0])"
   ]
  },
  {
   "cell_type": "code",
   "execution_count": 14,
   "id": "51331e6e1315e77f",
   "metadata": {
    "ExecuteTime": {
     "end_time": "2023-12-04T16:17:23.199628900Z",
     "start_time": "2023-12-04T16:17:22.389199500Z"
    },
    "collapsed": false
   },
   "outputs": [
    {
     "name": "stderr",
     "output_type": "stream",
     "text": [
      "WARNING:absl:At this time, the v2.11+ optimizer `tf.keras.optimizers.SGD` runs slowly on M1/M2 Macs, please use the legacy Keras optimizer instead, located at `tf.keras.optimizers.legacy.SGD`.\n",
      "WARNING:absl:`lr` is deprecated in Keras optimizer, please use `learning_rate` or use the legacy optimizer, e.g.,tf.keras.optimizers.legacy.SGD.\n"
     ]
    },
    {
     "name": "stdout",
     "output_type": "stream",
     "text": [
      "Train Set -> (107543, 100) (107543, 3)\n",
      "Validation Set -> (35848, 100) (35848, 3)\n",
      "Test Set -> (35848, 100) (35848, 3)\n",
      "You must install pydot (`pip install pydot`) and install graphviz (see instructions at https://graphviz.gitlab.io/download/) for plot_model to work.\n",
      "Model: \"sequential\"\n",
      "_________________________________________________________________\n",
      " Layer (type)                Output Shape              Param #   \n",
      "=================================================================\n",
      " embedding (Embedding)       (None, 100, 64)           320000    \n",
      "                                                                 \n",
      " conv1d (Conv1D)             (None, 100, 32)           6176      \n",
      "                                                                 \n",
      " max_pooling1d (MaxPooling1  (None, 50, 32)            0         \n",
      " D)                                                              \n",
      "                                                                 \n",
      " bidirectional (Bidirection  (None, 64)                16640     \n",
      " al)                                                             \n",
      "                                                                 \n",
      " dropout (Dropout)           (None, 64)                0         \n",
      "                                                                 \n",
      " dense (Dense)               (None, 3)                 195       \n",
      "                                                                 \n",
      "=================================================================\n",
      "Total params: 343011 (1.31 MB)\n",
      "Trainable params: 343011 (1.31 MB)\n",
      "Non-trainable params: 0 (0.00 Byte)\n",
      "_________________________________________________________________\n",
      "None\n"
     ]
    }
   ],
   "source": [
    "# Completed by mainly by Hayden & Liam, Collaboratively, but the whole group had input\n",
    "# ---BuildModel---\n",
    "y = pd.get_dummies(df['category'])\n",
    "X_train, X_test, y_train, y_test = train_test_split(X, y, test_size=0.2, random_state=1)\n",
    "X_train, X_val, y_train, y_val = train_test_split(X_train, y_train, test_size=0.25, random_state=1)\n",
    "print('Train Set ->', X_train.shape, y_train.shape)\n",
    "print('Validation Set ->', X_val.shape, y_val.shape)\n",
    "print('Test Set ->', X_test.shape, y_test.shape)\n",
    "\n",
    "vocab_size = 5000\n",
    "embedding_size = 64 # changed from 32 to 64\n",
    "epochs = 20\n",
    "learning_rate = 0.01\n",
    "decay_rate = learning_rate / epochs\n",
    "momentum = 0.8\n",
    "\n",
    "# Removed decay rate\n",
    "# decay=decay_rate,\n",
    "sgd = SGD(lr=learning_rate, momentum=momentum, nesterov=False)\n",
    "\n",
    "# Build model\n",
    "model = Sequential()\n",
    "model.add(Embedding(vocab_size, embedding_size, input_length=max_len))\n",
    "model.add(Conv1D(filters=32, kernel_size=3, padding='same', activation='relu'))\n",
    "model.add(MaxPooling1D(pool_size=2))\n",
    "model.add(Bidirectional(LSTM(32)))\n",
    "model.add(Dropout(0.4))\n",
    "model.add(Dense(3, activation='softmax'))\n",
    "\n",
    "tf.keras.utils.plot_model(model, show_shapes=True)\n",
    "\n",
    "print(model.summary())"
   ]
  },
  {
   "cell_type": "code",
   "execution_count": 15,
   "id": "7821a804ca504005",
   "metadata": {
    "ExecuteTime": {
     "end_time": "2023-12-04T16:17:26.164913700Z",
     "start_time": "2023-12-04T16:17:26.152662900Z"
    },
    "collapsed": false
   },
   "outputs": [],
   "source": [
    "# Compile model\n",
    "model.compile(loss='categorical_crossentropy', optimizer=sgd, metrics=['accuracy', Precision(), Recall()])"
   ]
  },
  {
   "cell_type": "code",
   "execution_count": 16,
   "id": "dab8b2c1ee022fc8",
   "metadata": {
    "ExecuteTime": {
     "end_time": "2023-12-04T16:26:16.078539Z",
     "start_time": "2023-12-04T16:17:27.945459600Z"
    },
    "collapsed": false
   },
   "outputs": [
    {
     "name": "stdout",
     "output_type": "stream",
     "text": [
      "Epoch 1/20\n",
      "1681/1681 [==============================] - 20s 12ms/step - loss: 1.0192 - accuracy: 0.4874 - precision: 0.5760 - recall: 0.2046 - val_loss: 0.9967 - val_accuracy: 0.5045 - val_precision: 0.5724 - val_recall: 0.3189\n",
      "Epoch 2/20\n",
      "1681/1681 [==============================] - 20s 12ms/step - loss: 0.9699 - accuracy: 0.5229 - precision: 0.6055 - recall: 0.3069 - val_loss: 0.9090 - val_accuracy: 0.5626 - val_precision: 0.6526 - val_recall: 0.4054\n",
      "Epoch 3/20\n",
      "1681/1681 [==============================] - 20s 12ms/step - loss: 0.7681 - accuracy: 0.6657 - precision: 0.7375 - recall: 0.5565 - val_loss: 0.6378 - val_accuracy: 0.7482 - val_precision: 0.7898 - val_recall: 0.6880\n",
      "Epoch 4/20\n",
      "1681/1681 [==============================] - 20s 12ms/step - loss: 0.5663 - accuracy: 0.7918 - precision: 0.8197 - recall: 0.7529 - val_loss: 0.5074 - val_accuracy: 0.8180 - val_precision: 0.8374 - val_recall: 0.7928\n",
      "Epoch 5/20\n",
      "1681/1681 [==============================] - 21s 12ms/step - loss: 0.5005 - accuracy: 0.8230 - precision: 0.8409 - recall: 0.7998 - val_loss: 0.4757 - val_accuracy: 0.8296 - val_precision: 0.8427 - val_recall: 0.8130\n",
      "Epoch 6/20\n",
      "1681/1681 [==============================] - 21s 13ms/step - loss: 0.4625 - accuracy: 0.8393 - precision: 0.8530 - recall: 0.8216 - val_loss: 0.4722 - val_accuracy: 0.8312 - val_precision: 0.8423 - val_recall: 0.8186\n",
      "Epoch 7/20\n",
      "1681/1681 [==============================] - 21s 12ms/step - loss: 0.4457 - accuracy: 0.8457 - precision: 0.8587 - recall: 0.8298 - val_loss: 0.4543 - val_accuracy: 0.8400 - val_precision: 0.8519 - val_recall: 0.8258\n",
      "Epoch 8/20\n",
      "1681/1681 [==============================] - 21s 13ms/step - loss: 0.4345 - accuracy: 0.8505 - precision: 0.8623 - recall: 0.8361 - val_loss: 0.4634 - val_accuracy: 0.8356 - val_precision: 0.8459 - val_recall: 0.8234\n",
      "Epoch 9/20\n",
      "1681/1681 [==============================] - 164s 98ms/step - loss: 0.4262 - accuracy: 0.8535 - precision: 0.8650 - recall: 0.8392 - val_loss: 0.4538 - val_accuracy: 0.8409 - val_precision: 0.8521 - val_recall: 0.8267\n",
      "Epoch 10/20\n",
      "1681/1681 [==============================] - 20s 12ms/step - loss: 0.4173 - accuracy: 0.8561 - precision: 0.8673 - recall: 0.8425 - val_loss: 0.4626 - val_accuracy: 0.8357 - val_precision: 0.8463 - val_recall: 0.8238\n",
      "Epoch 11/20\n",
      "1681/1681 [==============================] - 21s 12ms/step - loss: 0.4117 - accuracy: 0.8583 - precision: 0.8699 - recall: 0.8448 - val_loss: 0.4562 - val_accuracy: 0.8380 - val_precision: 0.8484 - val_recall: 0.8269\n",
      "Epoch 12/20\n",
      "1681/1681 [==============================] - 21s 12ms/step - loss: 0.4046 - accuracy: 0.8602 - precision: 0.8716 - recall: 0.8470 - val_loss: 0.4491 - val_accuracy: 0.8399 - val_precision: 0.8519 - val_recall: 0.8264\n",
      "Epoch 13/20\n",
      "1681/1681 [==============================] - 21s 12ms/step - loss: 0.3991 - accuracy: 0.8632 - precision: 0.8741 - recall: 0.8506 - val_loss: 0.4505 - val_accuracy: 0.8409 - val_precision: 0.8503 - val_recall: 0.8292\n",
      "Epoch 14/20\n",
      "1681/1681 [==============================] - 21s 13ms/step - loss: 0.3919 - accuracy: 0.8652 - precision: 0.8765 - recall: 0.8533 - val_loss: 0.4531 - val_accuracy: 0.8387 - val_precision: 0.8511 - val_recall: 0.8238\n",
      "Epoch 15/20\n",
      "1681/1681 [==============================] - 21s 13ms/step - loss: 0.3855 - accuracy: 0.8684 - precision: 0.8793 - recall: 0.8559 - val_loss: 0.4610 - val_accuracy: 0.8381 - val_precision: 0.8467 - val_recall: 0.8287\n",
      "Epoch 16/20\n",
      "1681/1681 [==============================] - 21s 13ms/step - loss: 0.3780 - accuracy: 0.8708 - precision: 0.8817 - recall: 0.8592 - val_loss: 0.4537 - val_accuracy: 0.8401 - val_precision: 0.8492 - val_recall: 0.8293\n",
      "Epoch 17/20\n",
      "1681/1681 [==============================] - 21s 13ms/step - loss: 0.3711 - accuracy: 0.8732 - precision: 0.8837 - recall: 0.8614 - val_loss: 0.4585 - val_accuracy: 0.8361 - val_precision: 0.8466 - val_recall: 0.8233\n",
      "Epoch 18/20\n",
      "1681/1681 [==============================] - 21s 13ms/step - loss: 0.3629 - accuracy: 0.8760 - precision: 0.8864 - recall: 0.8643 - val_loss: 0.4590 - val_accuracy: 0.8361 - val_precision: 0.8459 - val_recall: 0.8243\n",
      "Epoch 19/20\n",
      "1681/1681 [==============================] - 21s 13ms/step - loss: 0.3539 - accuracy: 0.8796 - precision: 0.8897 - recall: 0.8682 - val_loss: 0.4646 - val_accuracy: 0.8375 - val_precision: 0.8470 - val_recall: 0.8278\n",
      "Epoch 20/20\n",
      "1681/1681 [==============================] - 21s 13ms/step - loss: 0.3471 - accuracy: 0.8817 - precision: 0.8918 - recall: 0.8707 - val_loss: 0.4712 - val_accuracy: 0.8327 - val_precision: 0.8434 - val_recall: 0.8201\n"
     ]
    }
   ],
   "source": [
    " # Train model\n",
    "batch_size = 64\n",
    "history = model.fit(X_train, y_train, validation_data=(X_val, y_val), batch_size=batch_size, epochs=epochs, verbose=1)"
   ]
  },
  {
   "cell_type": "code",
   "execution_count": 17,
   "metadata": {},
   "outputs": [],
   "source": [
    "# Completed by Taylor\n",
    "def f1_score(precision, recall):\n",
    "    \"\"\"\n",
    "    Calculate the f1 score.\n",
    "\n",
    "    Parameters:\n",
    "    precision: Precision score from the trained model\n",
    "    recall: Recall score from the trained model\n",
    "    \"\"\"\n",
    "\n",
    "    f1_val = 2 * (precision * recall) / (precision + recall + K.epsilon())\n",
    "    return f1_val"
   ]
  },
  {
   "cell_type": "code",
   "execution_count": 18,
   "id": "939991392310a84d",
   "metadata": {
    "ExecuteTime": {
     "end_time": "2023-12-04T16:26:26.351570800Z",
     "start_time": "2023-12-04T16:26:20.065444600Z"
    },
    "collapsed": false
   },
   "outputs": [
    {
     "name": "stdout",
     "output_type": "stream",
     "text": [
      "\n",
      "Accuracy  : 0.8323\n",
      "Precision : 0.8433\n",
      "Recall    : 0.8199\n",
      "F1 Score  : 0.8315\n"
     ]
    }
   ],
   "source": [
    "# Evaluate model on the test set\n",
    "loss, accuracy, precision, recall = model.evaluate(X_test, y_test, verbose=0)\n",
    "# Print metrics\n",
    "print('')\n",
    "print('Accuracy  : {:.4f}'.format(accuracy))\n",
    "print('Precision : {:.4f}'.format(precision))\n",
    "print('Recall    : {:.4f}'.format(recall))\n",
    "print('F1 Score  : {:.4f}'.format(f1_score(precision, recall)))"
   ]
  },
  {
   "cell_type": "code",
   "execution_count": 19,
   "id": "15fa09e239d37fa6",
   "metadata": {
    "ExecuteTime": {
     "end_time": "2023-12-04T16:26:52.414608400Z",
     "start_time": "2023-12-04T16:26:52.150745600Z"
    },
    "collapsed": false
   },
   "outputs": [
    {
     "data": {
      "image/png": "[encoded data removed]",
      "text/plain": [
       "<Figure size 1000x400 with 2 Axes>"
      ]
     },
     "metadata": {},
     "output_type": "display_data"
    }
   ],
   "source": [
    "# Completed by Taylor & Andrew\n",
    "def plot_training_hist(history):\n",
    "    \"\"\"\n",
    "    Plot the training history, using accuracy and loss. \n",
    "\n",
    "    Parameters:\n",
    "    history: trained model object.\n",
    "    \"\"\"\n",
    "    \n",
    "    fig, ax = plt.subplots(1, 2, figsize=(10,4))\n",
    "    # first plot\n",
    "    ax[0].plot(history.history['accuracy'])\n",
    "    ax[0].plot(history.history['val_accuracy'])\n",
    "    ax[0].set_title('Model Accuracy')\n",
    "    ax[0].set_xlabel('epoch')\n",
    "    ax[0].set_ylabel('accuracy')\n",
    "    ax[0].legend(['train', 'validation'], loc='best')\n",
    "    # second plot\n",
    "    ax[1].plot(history.history['loss'])\n",
    "    ax[1].plot(history.history['val_loss'])\n",
    "    ax[1].set_title('Model Loss')\n",
    "    ax[1].set_xlabel('epoch')\n",
    "    ax[1].set_ylabel('loss')\n",
    "    ax[1].legend(['train', 'validation'], loc='best')\n",
    "    \n",
    "plot_training_hist(history)"
   ]
  },
  {
   "cell_type": "code",
   "execution_count": 20,
   "id": "a7d14f0df94f3ef3",
   "metadata": {
    "ExecuteTime": {
     "end_time": "2023-12-04T16:27:02.078445100Z",
     "start_time": "2023-12-04T16:26:56.906557400Z"
    },
    "collapsed": false
   },
   "outputs": [
    {
     "name": "stdout",
     "output_type": "stream",
     "text": [
      "1121/1121 [==============================] - 3s 2ms/step\n"
     ]
    },
    {
     "data": {
      "image/png": "[encoded data removed]",
      "text/plain": [
       "<Figure size 800x600 with 2 Axes>"
      ]
     },
     "metadata": {},
     "output_type": "display_data"
    }
   ],
   "source": [
    "# Completed by Taylor & Andrew\n",
    "def plot_confusion_matrix(model, X_test, y_test):\n",
    "    \"\"\"\n",
    "    Plot the confusion matrix for the passed model and the data. \n",
    "\n",
    "    Parameters:\n",
    "    model: trained model object.\n",
    "    X_test: Predicted Labels\n",
    "    y_test: Training Data\n",
    "    \"\"\"\n",
    "    \n",
    "    sentiment_classes = ['Negative', 'Neutral', 'Positive']\n",
    "    # use model to do the prediction\n",
    "    y_pred = model.predict(X_test)\n",
    "    # compute confusion matrix\n",
    "    cm = confusion_matrix(np.argmax(np.array(y_test),axis=1), np.argmax(y_pred, axis=1))\n",
    "    # plot confusion matrix\n",
    "    plt.figure(figsize=(8,6))\n",
    "    sns.heatmap(cm, cmap=plt.cm.Blues, annot=True, fmt='d', \n",
    "                xticklabels=sentiment_classes,\n",
    "                yticklabels=sentiment_classes)\n",
    "    plt.title('Confusion matrix', fontsize=16)\n",
    "    plt.xlabel('Actual label', fontsize=12)\n",
    "    plt.ylabel('Predicted label', fontsize=12)\n",
    "    \n",
    "plot_confusion_matrix(model, X_test, y_test)"
   ]
  },
  {
   "cell_type": "code",
   "execution_count": 21,
   "id": "969451044570ab1",
   "metadata": {
    "ExecuteTime": {
     "end_time": "2023-12-04T16:27:04.138559800Z",
     "start_time": "2023-12-04T16:27:04.111233400Z"
    },
    "collapsed": false
   },
   "outputs": [
    {
     "name": "stdout",
     "output_type": "stream",
     "text": [
      "Best model saved\n"
     ]
    },
    {
     "name": "stderr",
     "output_type": "stream",
     "text": [
      "/opt/homebrew/lib/python3.11/site-packages/keras/src/engine/training.py:3103: UserWarning: You are saving your model as an HDF5 file via `model.save()`. This file format is considered legacy. We recommend using instead the native Keras format, e.g. `model.save('my_model.keras')`.\n",
      "  saving_api.save_model(\n"
     ]
    }
   ],
   "source": [
    "# Save the model architecture & the weights\n",
    "model.save('best_model.h5')\n",
    "print('Best model saved')"
   ]
  },
  {
   "cell_type": "code",
   "execution_count": 22,
   "id": "a9cd94b5da2c7c6c",
   "metadata": {
    "ExecuteTime": {
     "end_time": "2023-12-04T16:27:07.043493900Z",
     "start_time": "2023-12-04T16:27:06.592328500Z"
    },
    "collapsed": false
   },
   "outputs": [
    {
     "name": "stderr",
     "output_type": "stream",
     "text": [
      "WARNING:absl:At this time, the v2.11+ optimizer `tf.keras.optimizers.SGD` runs slowly on M1/M2 Macs, please use the legacy Keras optimizer instead, located at `tf.keras.optimizers.legacy.SGD`.\n"
     ]
    }
   ],
   "source": [
    "# Completed by Hayden & Liam\n",
    "# Load model\n",
    "model = load_model('best_model.h5')\n",
    "\n",
    "def predict_class(text):\n",
    "    \"\"\"\n",
    "    Predict sentiment class of the passed in text. \n",
    "\n",
    "    Parameters:\n",
    "    text: passed string that is preprocessed as a tweet and evaluated with the trained model.\n",
    "    \"\"\"\n",
    "    \n",
    "    sentiment_classes = ['Negative', 'Neutral', 'Positive']\n",
    "    max_len=100\n",
    "    \n",
    "    # Transforms text to a sequence of integers using a tokenizer object\n",
    "    xt = tokenizer.texts_to_sequences(text)\n",
    "    # Pad sequences to the same length\n",
    "    xt = pad_sequences(xt, padding='post', maxlen=max_len)\n",
    "    # Do the prediction using the loaded model\n",
    "    yt = model.predict(xt).argmax(axis=1)\n",
    "    # Print the predicted sentiment\n",
    "    print('The predicted sentiment is', sentiment_classes[yt[0]])"
   ]
  },
  {
   "cell_type": "code",
   "execution_count": 23,
   "id": "afd01c8b38c838c",
   "metadata": {
    "ExecuteTime": {
     "end_time": "2023-12-04T16:46:38.013292700Z",
     "start_time": "2023-12-04T16:46:37.789872500Z"
    },
    "collapsed": false
   },
   "outputs": [
    {
     "name": "stdout",
     "output_type": "stream",
     "text": [
      "1/1 [==============================] - 0s 251ms/step\n",
      "The predicted sentiment is Negative\n",
      "1/1 [==============================] - 0s 10ms/step\n",
      "The predicted sentiment is Neutral\n",
      "1/1 [==============================] - 0s 8ms/step\n",
      "The predicted sentiment is Positive\n"
     ]
    }
   ],
   "source": [
    "# Negative Statement Test\n",
    "predict_class(['I hate flying'])\n",
    "# Neutral Statement Test\n",
    "predict_class(['I saw Mobi today'])\n",
    "# Positive Statement Test\n",
    "predict_class(['I love the new iphone'])"
   ]
  }
 ],
 "metadata": {
  "kernelspec": {
   "display_name": "Python 3",
   "language": "python",
   "name": "python3"
  },
  "language_info": {
   "codemirror_mode": {
    "name": "ipython",
    "version": 3
   },
   "file_extension": ".py",
   "mimetype": "text/x-python",
   "name": "python",
   "nbconvert_exporter": "python",
   "pygments_lexer": "ipython3",
   "version": "3.11.6"
  }
 },
 "nbformat": 4,
 "nbformat_minor": 5
}
