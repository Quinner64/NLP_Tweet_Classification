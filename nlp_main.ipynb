{
 "cells": [
  {
   "cell_type": "markdown",
   "source": [
    "## CMPE/CISC 452 NLP Text Classification\n",
    "\n",
    "BY Liam, Hayden, Taylor, Andrew"
   ],
   "metadata": {
    "collapsed": false
   },
   "id": "849176a839229329"
  },
  {
   "cell_type": "code",
   "execution_count": 40,
   "outputs": [],
   "source": [
    "# Data Visualization\n",
    "import pandas as pd\n",
    "import matplotlib.pyplot as plt\n",
    "import matplotlib.patches as mpatches\n",
    "import numpy as np"
   ],
   "metadata": {
    "collapsed": false,
    "ExecuteTime": {
     "end_time": "2023-11-28T22:12:12.970897700Z",
     "start_time": "2023-11-28T22:12:12.956624800Z"
    }
   },
   "id": "d7523af2c3627bab"
  },
  {
   "cell_type": "code",
   "execution_count": 19,
   "outputs": [
    {
     "name": "stderr",
     "output_type": "stream",
     "text": [
      "[nltk_data] Downloading package stopwords to C:\\Users\\Hayden\n",
      "[nltk_data]     Murphy\\AppData\\Roaming\\nltk_data...\n",
      "[nltk_data]   Package stopwords is already up-to-date!\n"
     ]
    }
   ],
   "source": [
    "# Preprocessing Imports\n",
    "import re    # RegEx for removing non-letter characters\n",
    "import nltk  # natural language processing\n",
    "nltk.download(\"stopwords\")\n",
    "from nltk.corpus import stopwords\n",
    "from nltk.stem.porter import *\n",
    "from sklearn.feature_extraction.text import CountVectorizer\n",
    "import time\n",
    "from sklearn.preprocessing import LabelEncoder\n",
    "# from sklearn.feature_extraction.text import TfidfVectorizer"
   ],
   "metadata": {
    "collapsed": false,
    "ExecuteTime": {
     "end_time": "2023-11-28T21:38:30.068906300Z",
     "start_time": "2023-11-28T21:38:30.057219200Z"
    }
   },
   "id": "cd718a926474c55a"
  },
  {
   "cell_type": "code",
   "execution_count": 20,
   "outputs": [],
   "source": [
    "# Tokenizing & Padding Imports\n",
    "from keras.preprocessing.text import Tokenizer\n",
    "from keras.preprocessing.sequence import pad_sequences\n",
    "import os\n",
    "import pickle"
   ],
   "metadata": {
    "collapsed": false,
    "ExecuteTime": {
     "end_time": "2023-11-28T21:38:31.495954300Z",
     "start_time": "2023-11-28T21:38:31.482267800Z"
    }
   },
   "id": "7ab75522ecefdc18"
  },
  {
   "cell_type": "code",
   "execution_count": 21,
   "outputs": [],
   "source": [
    "# For Building the model imports\n",
    "from sklearn.model_selection import train_test_split\n",
    "import tensorflow as tf\n",
    "import seaborn as sns\n",
    "import keras.backend as K"
   ],
   "metadata": {
    "collapsed": false,
    "ExecuteTime": {
     "end_time": "2023-11-28T21:38:32.341317300Z",
     "start_time": "2023-11-28T21:38:32.328018700Z"
    }
   },
   "id": "d757e3687fe43eb4"
  },
  {
   "cell_type": "code",
   "execution_count": 22,
   "outputs": [],
   "source": [
    "# Bidirectional LSTM Using NN\n",
    "from keras.models import Sequential\n",
    "from keras.layers import Embedding, Conv1D, MaxPooling1D, Bidirectional, LSTM, Dense, Dropout\n",
    "from keras.metrics import Precision, Recall\n",
    "from keras.optimizers import SGD\n",
    "from keras.optimizers import RMSprop\n",
    "from keras import datasets\n",
    "\n",
    "from keras.callbacks import LearningRateScheduler\n",
    "from keras.callbacks import History\n",
    "\n",
    "from keras import losses"
   ],
   "metadata": {
    "collapsed": false,
    "ExecuteTime": {
     "end_time": "2023-11-28T21:38:33.543687300Z",
     "start_time": "2023-11-28T21:38:33.519737900Z"
    }
   },
   "id": "c54688b2b1a67931"
  },
  {
   "cell_type": "code",
   "execution_count": 23,
   "outputs": [],
   "source": [
    "def load_datasets():\n",
    "    # Load Mobi Tweet dataset\n",
    "    df1 = pd.read_csv('dataset/Twitter_Data.csv')\n",
    "\n",
    "    # Print Modi Tweets\n",
    "    # print(df1.head())\n",
    "\n",
    "    # Load Apple Tweet dataset\n",
    "    df2 = pd.read_csv('dataset/apple-twitter-sentiment-texts.csv')\n",
    "    df2 = df2.rename(columns={'text': 'clean_text', 'sentiment': 'category'})\n",
    "    df2['category'] = df2['category'].map({-1: -1.0, 0: 0.0, 1: 1.0})\n",
    "\n",
    "    # Print Apple Tweets\n",
    "    # print(df2.head())\n",
    "\n",
    "    # Load Airplane Tweet dataset\n",
    "    df3 = pd.read_csv('dataset/Tweets.csv')\n",
    "    df3 = df3.rename(columns={'text': 'clean_text', 'airline_sentiment': 'category'})\n",
    "    df3['category'] = df3['category'].map({'negative': -1.0, 'neutral': 0.0, 'positive': 1.0})\n",
    "    df3 = df3[['category', 'clean_text']]\n",
    "\n",
    "    # Print Airplane tweets\n",
    "    # print(df3.head())\n",
    "\n",
    "    # Combine datasets\n",
    "    df = pd.concat([df1, df2, df3], ignore_index=True)\n",
    "\n",
    "    df.isnull().sum()\n",
    "\n",
    "    # Drop missing rows\n",
    "    df.dropna(axis=0, inplace=True)\n",
    "\n",
    "    # Dimensionality of the data\n",
    "    df.shape\n",
    "\n",
    "    # Map tweet categories\n",
    "    df['category'] = df['category'].map({-1.0: 'Negative', 0.0: 'Neutral', 1.0: 'Positive'})\n",
    "\n",
    "    # Output first five rows\n",
    "    df.head()\n",
    "\n",
    "    # Return Data Frame\n",
    "    return df"
   ],
   "metadata": {
    "collapsed": false,
    "ExecuteTime": {
     "end_time": "2023-11-28T21:38:35.318025300Z",
     "start_time": "2023-11-28T21:38:35.294069600Z"
    }
   },
   "id": "22eb489649c1f49d"
  },
  {
   "cell_type": "code",
   "execution_count": 24,
   "outputs": [],
   "source": [
    "def visualize_Data (df):\n",
    "    # The distribution of sentiments\n",
    "    df.groupby('category').count().plot(kind='bar')\n",
    "\n",
    "    # Grouping by 'category' and counting occurrences, then plotting the counts as a bar plot\n",
    "\n",
    "    plt.xlabel('Category')\n",
    "    plt.ylabel('Value')\n",
    "    plt.title('Tweet Data Visualization')\n",
    "    plt.show()\n",
    "\n",
    "# TODO Remove Value "
   ],
   "metadata": {
    "collapsed": false,
    "ExecuteTime": {
     "end_time": "2023-11-28T21:38:37.968721900Z",
     "start_time": "2023-11-28T21:38:37.944752800Z"
    }
   },
   "id": "4e2e595998db8edd"
  },
  {
   "cell_type": "code",
   "execution_count": 25,
   "outputs": [],
   "source": [
    "def tweet_to_words(tweet):\n",
    "    ''' Convert tweet text into a sequence of words '''\n",
    "\n",
    "    # convert to lowercase\n",
    "    text = tweet.lower()\n",
    "    # remove non letters\n",
    "    text = re.sub(r\"[^a-zA-Z0-9]\", \" \", text)\n",
    "    # tokenize\n",
    "    words = text.split()\n",
    "    # remove stopwords\n",
    "    words = [w for w in words if w not in stopwords.words(\"english\")]\n",
    "    # apply stemming\n",
    "    words = [PorterStemmer().stem(w) for w in words]\n",
    "    \n",
    "    # Test Print\n",
    "    #print(words)\n",
    "\n",
    "    # return list\n",
    "    return words"
   ],
   "metadata": {
    "collapsed": false,
    "ExecuteTime": {
     "end_time": "2023-11-28T21:38:39.504984700Z",
     "start_time": "2023-11-28T21:38:39.491143900Z"
    }
   },
   "id": "3e447fd62829af31"
  },
  {
   "cell_type": "code",
   "execution_count": 26,
   "outputs": [],
   "source": [
    "def preprocessing(df):\n",
    "    # Calculate Start time of tweet_to_words function\n",
    "    start_time = time.time()\n",
    "    print(\"Running Preprocessing\")\n",
    "    # Apply data preprocessing to each tweet\n",
    "    X = list(map(tweet_to_words, df['clean_text']))\n",
    "\n",
    "    # Calculate End time of tweet_to_words function\n",
    "    end_time = time.time()\n",
    "\n",
    "    # Calculate elapsed time\n",
    "    elapsed_time = end_time - start_time\n",
    "    print(\"Finished Preprocessing\")\n",
    "    print(f\"Elapsed time: {elapsed_time} seconds\")\n",
    "\n",
    "    # Encode target labels\n",
    "    le = LabelEncoder()\n",
    "    Y = le.fit_transform(df['category'])\n",
    "\n",
    "    print(X[0])\n",
    "    print(Y[0])\n",
    "   \n",
    "    return X, Y"
   ],
   "metadata": {
    "collapsed": false,
    "ExecuteTime": {
     "end_time": "2023-11-28T21:38:41.240893200Z",
     "start_time": "2023-11-28T21:38:41.230210900Z"
    }
   },
   "id": "a925863028ef4a74"
  },
  {
   "cell_type": "code",
   "execution_count": 27,
   "outputs": [],
   "source": [
    "max_words = 5000\n",
    "max_len=50"
   ],
   "metadata": {
    "collapsed": false,
    "ExecuteTime": {
     "end_time": "2023-11-28T21:38:43.328032500Z",
     "start_time": "2023-11-28T21:38:43.314276Z"
    }
   },
   "id": "8523fcbe99d9a27"
  },
  {
   "cell_type": "code",
   "execution_count": 28,
   "outputs": [],
   "source": [
    "def tokenize_pad_sequences(text):\n",
    "    '''\n",
    "    This function tokenize the input text into sequnences of intergers and then\n",
    "    pad each sequence to the same length\n",
    "    '''\n",
    "    # Text tokenization\n",
    "    tokenizer = Tokenizer(num_words=max_words, lower=True, split=' ')\n",
    "    tokenizer.fit_on_texts(text)\n",
    "    # Transforms text to a sequence of integers\n",
    "    X = tokenizer.texts_to_sequences(text)\n",
    "    # Pad sequences to the same length\n",
    "    X = pad_sequences(X, padding='post', maxlen=max_len)\n",
    "    # return sequences\n",
    "    return X, tokenizer"
   ],
   "metadata": {
    "collapsed": false,
    "ExecuteTime": {
     "end_time": "2023-11-28T21:38:44.385872300Z",
     "start_time": "2023-11-28T21:38:44.373216100Z"
    }
   },
   "id": "ddd1244546257223"
  },
  {
   "cell_type": "code",
   "execution_count": 29,
   "outputs": [],
   "source": [
    "def f1_score(precision, recall):\n",
    "    ''' Function to calculate f1 score '''\n",
    "\n",
    "    f1_val = 2 * (precision * recall) / (precision + recall + K.epsilon())\n",
    "    return f1_val"
   ],
   "metadata": {
    "collapsed": false,
    "ExecuteTime": {
     "end_time": "2023-11-28T21:38:46.083182400Z",
     "start_time": "2023-11-28T21:38:46.068891500Z"
    }
   },
   "id": "952dbc00e0597664"
  },
  {
   "cell_type": "code",
   "execution_count": 30,
   "outputs": [
    {
     "data": {
      "text/plain": "<Figure size 640x480 with 1 Axes>",
      "image/png": "[encoded data removed]"
     },
     "metadata": {},
     "output_type": "display_data"
    },
    {
     "name": "stdout",
     "output_type": "stream",
     "text": [
      "Running Preprocessing\n",
      "Finished Preprocessing\n",
      "Elapsed time: 571.9264113903046 seconds\n",
      "['modi', 'promis', 'minimum', 'govern', 'maximum', 'govern', 'expect', 'begin', 'difficult', 'job', 'reform', 'state', 'take', 'year', 'get', 'justic', 'state', 'busi', 'exit', 'psu', 'templ']\n",
      "0\n"
     ]
    },
    {
     "name": "stderr",
     "output_type": "stream",
     "text": [
      "G:\\Conda\\envs\\school\\Lib\\site-packages\\sklearn\\utils\\validation.py:605: FutureWarning: is_sparse is deprecated and will be removed in a future version. Check `isinstance(dtype, pd.SparseDtype)` instead.\n",
      "  if is_sparse(pd_dtype):\n",
      "G:\\Conda\\envs\\school\\Lib\\site-packages\\sklearn\\utils\\validation.py:614: FutureWarning: is_sparse is deprecated and will be removed in a future version. Check `isinstance(dtype, pd.SparseDtype)` instead.\n",
      "  if is_sparse(pd_dtype) or not is_extension_array_dtype(pd_dtype):\n"
     ]
    }
   ],
   "source": [
    "# Load Datasets\n",
    "df = load_datasets()\n",
    "\n",
    "# Visualize Data\n",
    "visualize_Data(df)\n",
    "\n",
    "# Preprocessing\n",
    "X, Y = preprocessing(df)"
   ],
   "metadata": {
    "collapsed": false,
    "ExecuteTime": {
     "end_time": "2023-11-28T21:48:20.248995900Z",
     "start_time": "2023-11-28T21:38:47.803963200Z"
    }
   },
   "id": "3a37f10a462845e3"
  },
  {
   "cell_type": "code",
   "execution_count": 31,
   "outputs": [
    {
     "name": "stderr",
     "output_type": "stream",
     "text": [
      "G:\\Conda\\envs\\school\\Lib\\site-packages\\sklearn\\feature_extraction\\text.py:528: UserWarning: The parameter 'token_pattern' will not be used since 'tokenizer' is not None'\n",
      "  warnings.warn(\n"
     ]
    },
    {
     "data": {
      "text/plain": "<Figure size 640x480 with 1 Axes>",
      "image/png": "[encoded data removed]"
     },
     "metadata": {},
     "output_type": "display_data"
    },
    {
     "name": "stdout",
     "output_type": "stream",
     "text": [
      "Before Tokenization & Padding \n",
      " when modi promised “minimum government maximum governance” expected him begin the difficult job reforming the state why does take years get justice state should and not business and should exit psus and temples\n",
      "After Tokenization & Padding \n",
      " [  41    1  346   72 1888 1161   44 2450    2 1275  219    2  241   31\n",
      "  163  102   53   58 1171  241   50    3    6  534    3   50 3755    3\n",
      " 3041    0    0    0    0    0    0    0    0    0    0    0    0    0\n",
      "    0    0    0    0    0    0    0    0]\n"
     ]
    }
   ],
   "source": [
    "# ---Tokenizing & Padding---\n",
    "# Train and test split\n",
    "# TODO place these 3 lines in function (Used multiple times)\n",
    "y = pd.get_dummies(df['category'])\n",
    "X_train, X_test, y_train, y_test = train_test_split(X, y, test_size=0.2, random_state=1)\n",
    "X_train, X_val, y_train, y_val = train_test_split(X_train, y_train, test_size=0.25, random_state=1)\n",
    "\n",
    "vocabulary_size = 5000\n",
    "\n",
    "# Tweets have already been preprocessed hence dummy function will be passed in\n",
    "# to preprocessor & tokenizer step\n",
    "count_vector = CountVectorizer(max_features=vocabulary_size,\n",
    "                                   #                               ngram_range=(1,2),    # unigram and bigram\n",
    "                                   preprocessor=lambda x: x,\n",
    "                                   tokenizer=lambda x: x)\n",
    "# tfidf_vector = TfidfVectorizer(lowercase=True, stop_words='english')\n",
    "\n",
    "# Fit the training data\n",
    "X_train = count_vector.fit_transform(X_train).toarray()\n",
    "\n",
    "# Transform testing data\n",
    "X_test = count_vector.transform(X_test).toarray()\n",
    "\n",
    "# Plot the BoW feature vector\n",
    "plt.plot(X_train[2, :])\n",
    "plt.xlabel('Word')\n",
    "plt.ylabel('Count')\n",
    "plt.show()\n",
    "\n",
    "print('Before Tokenization & Padding \\n', df['clean_text'][0])\n",
    "X, tokenizer = tokenize_pad_sequences(df['clean_text'])\n",
    "print('After Tokenization & Padding \\n', X[0])"
   ],
   "metadata": {
    "collapsed": false,
    "ExecuteTime": {
     "end_time": "2023-11-28T21:58:42.515225300Z",
     "start_time": "2023-11-28T21:58:35.426409800Z"
    }
   },
   "id": "b6ae55c9113ac5c1"
  },
  {
   "cell_type": "code",
   "execution_count": 32,
   "outputs": [
    {
     "data": {
      "text/plain": "'\\nfile_path = \"tokenizer.pickle\"\\n\\nif os.path.exists(file_path):\\n    print(\"Loading tokenizer file\")\\n    # loading\\n    with open(\\'tokenizer.pickle\\', \\'rb\\') as handle:\\n        tokenizer = pickle.load(handle)\\nelse:\\n    print(\"Tokenizer does not exist\")\\n    # saving\\n    with open(\\'tokenizer.pickle\\', \\'wb\\') as handle:\\n        pickle.dump(tokenizer, handle, protocol=pickle.HIGHEST_PROTOCOL)\\n'"
     },
     "execution_count": 32,
     "metadata": {},
     "output_type": "execute_result"
    }
   ],
   "source": [
    "# TODO Fix Loading Issue\n",
    "'''\n",
    "file_path = \"tokenizer.pickle\"\n",
    "\n",
    "if os.path.exists(file_path):\n",
    "    print(\"Loading tokenizer file\")\n",
    "    # loading\n",
    "    with open('tokenizer.pickle', 'rb') as handle:\n",
    "        tokenizer = pickle.load(handle)\n",
    "else:\n",
    "    print(\"Tokenizer does not exist\")\n",
    "    # saving\n",
    "    with open('tokenizer.pickle', 'wb') as handle:\n",
    "        pickle.dump(tokenizer, handle, protocol=pickle.HIGHEST_PROTOCOL)\n",
    "'''"
   ],
   "metadata": {
    "collapsed": false,
    "ExecuteTime": {
     "end_time": "2023-11-28T21:58:54.358980300Z",
     "start_time": "2023-11-28T21:58:54.337663800Z"
    }
   },
   "id": "80b680a2d28c5806"
  },
  {
   "cell_type": "code",
   "execution_count": 34,
   "outputs": [
    {
     "name": "stderr",
     "output_type": "stream",
     "text": [
      "WARNING:absl:`lr` is deprecated in Keras optimizer, please use `learning_rate` or use the legacy optimizer, e.g.,tf.keras.optimizers.legacy.SGD.\n"
     ]
    },
    {
     "name": "stdout",
     "output_type": "stream",
     "text": [
      "Train Set -> (107543, 50) (107543, 3)\n",
      "Validation Set -> (35848, 50) (35848, 3)\n",
      "Test Set -> (35848, 50) (35848, 3)\n",
      "You must install pydot (`pip install pydot`) and install graphviz (see instructions at https://graphviz.gitlab.io/download/) for plot_model to work.\n",
      "Model: \"sequential\"\n",
      "_________________________________________________________________\n",
      " Layer (type)                Output Shape              Param #   \n",
      "=================================================================\n",
      " embedding (Embedding)       (None, 50, 32)            160000    \n",
      "                                                                 \n",
      " conv1d (Conv1D)             (None, 50, 32)            3104      \n",
      "                                                                 \n",
      " max_pooling1d (MaxPooling1  (None, 25, 32)            0         \n",
      " D)                                                              \n",
      "                                                                 \n",
      " bidirectional (Bidirection  (None, 64)                16640     \n",
      " al)                                                             \n",
      "                                                                 \n",
      " dropout (Dropout)           (None, 64)                0         \n",
      "                                                                 \n",
      " dense (Dense)               (None, 3)                 195       \n",
      "                                                                 \n",
      "=================================================================\n",
      "Total params: 179939 (702.89 KB)\n",
      "Trainable params: 179939 (702.89 KB)\n",
      "Non-trainable params: 0 (0.00 Byte)\n",
      "_________________________________________________________________\n",
      "None\n"
     ]
    }
   ],
   "source": [
    "# ---BuildModel---\n",
    "y = pd.get_dummies(df['category'])\n",
    "X_train, X_test, y_train, y_test = train_test_split(X, y, test_size=0.2, random_state=1)\n",
    "X_train, X_val, y_train, y_val = train_test_split(X_train, y_train, test_size=0.25, random_state=1)\n",
    "print('Train Set ->', X_train.shape, y_train.shape)\n",
    "print('Validation Set ->', X_val.shape, y_val.shape)\n",
    "print('Test Set ->', X_test.shape, y_test.shape)\n",
    "\n",
    "vocab_size = 5000\n",
    "embedding_size = 32\n",
    "epochs = 20\n",
    "learning_rate = 0.1\n",
    "decay_rate = learning_rate / epochs\n",
    "momentum = 0.8\n",
    "\n",
    "# Removed decay rate\n",
    "# decay=decay_rate,\n",
    "sgd = SGD(lr=learning_rate, momentum=momentum, nesterov=False)\n",
    "\n",
    "# Build model\n",
    "model = Sequential()\n",
    "model.add(Embedding(vocab_size, embedding_size, input_length=max_len))\n",
    "model.add(Conv1D(filters=32, kernel_size=3, padding='same', activation='relu'))\n",
    "model.add(MaxPooling1D(pool_size=2))\n",
    "model.add(Bidirectional(LSTM(32)))\n",
    "model.add(Dropout(0.4))\n",
    "model.add(Dense(3, activation='softmax'))\n",
    "\n",
    "tf.keras.utils.plot_model(model, show_shapes=True)\n",
    "\n",
    "print(model.summary())"
   ],
   "metadata": {
    "collapsed": false,
    "ExecuteTime": {
     "end_time": "2023-11-28T21:59:22.081012100Z",
     "start_time": "2023-11-28T21:59:21.005815400Z"
    }
   },
   "id": "51331e6e1315e77f"
  },
  {
   "cell_type": "code",
   "execution_count": 35,
   "outputs": [],
   "source": [
    "# Compile model\n",
    "model.compile(loss='categorical_crossentropy', optimizer=sgd, metrics=['accuracy', Precision(), Recall()])"
   ],
   "metadata": {
    "collapsed": false,
    "ExecuteTime": {
     "end_time": "2023-11-28T21:59:27.527473100Z",
     "start_time": "2023-11-28T21:59:27.510187200Z"
    }
   },
   "id": "7821a804ca504005"
  },
  {
   "cell_type": "code",
   "execution_count": 36,
   "outputs": [
    {
     "name": "stdout",
     "output_type": "stream",
     "text": [
      "Epoch 1/20\n",
      "1681/1681 [==============================] - 17s 9ms/step - loss: 1.0176 - accuracy: 0.4846 - precision: 0.5687 - recall: 0.1967 - val_loss: 0.9901 - val_accuracy: 0.5104 - val_precision: 0.5703 - val_recall: 0.3065\n",
      "Epoch 2/20\n",
      "1681/1681 [==============================] - 14s 8ms/step - loss: 0.9677 - accuracy: 0.5238 - precision: 0.5908 - recall: 0.2974 - val_loss: 0.9533 - val_accuracy: 0.5242 - val_precision: 0.5700 - val_recall: 0.4065\n",
      "Epoch 3/20\n",
      "1681/1681 [==============================] - 14s 8ms/step - loss: 0.7437 - accuracy: 0.6656 - precision: 0.7111 - recall: 0.5885 - val_loss: 0.6165 - val_accuracy: 0.7304 - val_precision: 0.7653 - val_recall: 0.6861\n",
      "Epoch 4/20\n",
      "1681/1681 [==============================] - 14s 8ms/step - loss: 0.5641 - accuracy: 0.7832 - precision: 0.8050 - recall: 0.7488 - val_loss: 0.4605 - val_accuracy: 0.8447 - val_precision: 0.8552 - val_recall: 0.8251\n",
      "Epoch 5/20\n",
      "1681/1681 [==============================] - 14s 8ms/step - loss: 0.4009 - accuracy: 0.8731 - precision: 0.8818 - recall: 0.8609 - val_loss: 0.3255 - val_accuracy: 0.8999 - val_precision: 0.9042 - val_recall: 0.8943\n",
      "Epoch 6/20\n",
      "1681/1681 [==============================] - 14s 8ms/step - loss: 0.3234 - accuracy: 0.9044 - precision: 0.9105 - recall: 0.8971 - val_loss: 0.2897 - val_accuracy: 0.9138 - val_precision: 0.9182 - val_recall: 0.9085\n",
      "Epoch 7/20\n",
      "1681/1681 [==============================] - 14s 8ms/step - loss: 0.2882 - accuracy: 0.9166 - precision: 0.9218 - recall: 0.9103 - val_loss: 0.2793 - val_accuracy: 0.9171 - val_precision: 0.9220 - val_recall: 0.9124\n",
      "Epoch 8/20\n",
      "1681/1681 [==============================] - 14s 8ms/step - loss: 0.2721 - accuracy: 0.9227 - precision: 0.9277 - recall: 0.9174 - val_loss: 0.2701 - val_accuracy: 0.9185 - val_precision: 0.9231 - val_recall: 0.9143\n",
      "Epoch 9/20\n",
      "1681/1681 [==============================] - 14s 8ms/step - loss: 0.2629 - accuracy: 0.9254 - precision: 0.9304 - recall: 0.9198 - val_loss: 0.2707 - val_accuracy: 0.9187 - val_precision: 0.9233 - val_recall: 0.9143\n",
      "Epoch 10/20\n",
      "1681/1681 [==============================] - 14s 8ms/step - loss: 0.2542 - accuracy: 0.9281 - precision: 0.9330 - recall: 0.9229 - val_loss: 0.2638 - val_accuracy: 0.9216 - val_precision: 0.9263 - val_recall: 0.9171\n",
      "Epoch 11/20\n",
      "1681/1681 [==============================] - 14s 8ms/step - loss: 0.2471 - accuracy: 0.9304 - precision: 0.9355 - recall: 0.9249 - val_loss: 0.2635 - val_accuracy: 0.9222 - val_precision: 0.9269 - val_recall: 0.9176\n",
      "Epoch 12/20\n",
      "1681/1681 [==============================] - 14s 8ms/step - loss: 0.2397 - accuracy: 0.9317 - precision: 0.9368 - recall: 0.9266 - val_loss: 0.2615 - val_accuracy: 0.9227 - val_precision: 0.9275 - val_recall: 0.9175\n",
      "Epoch 13/20\n",
      "1681/1681 [==============================] - 14s 8ms/step - loss: 0.2335 - accuracy: 0.9340 - precision: 0.9387 - recall: 0.9286 - val_loss: 0.2612 - val_accuracy: 0.9221 - val_precision: 0.9270 - val_recall: 0.9170\n",
      "Epoch 14/20\n",
      "1681/1681 [==============================] - 14s 8ms/step - loss: 0.2282 - accuracy: 0.9349 - precision: 0.9400 - recall: 0.9299 - val_loss: 0.2563 - val_accuracy: 0.9239 - val_precision: 0.9290 - val_recall: 0.9190\n",
      "Epoch 15/20\n",
      "1681/1681 [==============================] - 14s 8ms/step - loss: 0.2206 - accuracy: 0.9369 - precision: 0.9420 - recall: 0.9318 - val_loss: 0.2579 - val_accuracy: 0.9218 - val_precision: 0.9277 - val_recall: 0.9162\n",
      "Epoch 16/20\n",
      "1681/1681 [==============================] - 14s 8ms/step - loss: 0.2149 - accuracy: 0.9379 - precision: 0.9436 - recall: 0.9325 - val_loss: 0.2542 - val_accuracy: 0.9241 - val_precision: 0.9293 - val_recall: 0.9193\n",
      "Epoch 17/20\n",
      "1681/1681 [==============================] - 14s 8ms/step - loss: 0.2100 - accuracy: 0.9397 - precision: 0.9455 - recall: 0.9345 - val_loss: 0.2581 - val_accuracy: 0.9228 - val_precision: 0.9272 - val_recall: 0.9185\n",
      "Epoch 18/20\n",
      "1681/1681 [==============================] - 14s 8ms/step - loss: 0.2056 - accuracy: 0.9408 - precision: 0.9466 - recall: 0.9352 - val_loss: 0.2614 - val_accuracy: 0.9216 - val_precision: 0.9283 - val_recall: 0.9154\n",
      "Epoch 19/20\n",
      "1681/1681 [==============================] - 14s 8ms/step - loss: 0.2006 - accuracy: 0.9421 - precision: 0.9480 - recall: 0.9368 - val_loss: 0.2527 - val_accuracy: 0.9241 - val_precision: 0.9303 - val_recall: 0.9185\n",
      "Epoch 20/20\n",
      "1681/1681 [==============================] - 14s 8ms/step - loss: 0.1950 - accuracy: 0.9437 - precision: 0.9497 - recall: 0.9382 - val_loss: 0.2591 - val_accuracy: 0.9244 - val_precision: 0.9299 - val_recall: 0.9190\n"
     ]
    }
   ],
   "source": [
    " # Train model\n",
    "batch_size = 64\n",
    "history = model.fit(X_train, y_train, validation_data=(X_val, y_val), batch_size=batch_size, epochs=epochs, verbose=1)"
   ],
   "metadata": {
    "collapsed": false,
    "ExecuteTime": {
     "end_time": "2023-11-28T22:04:11.588039300Z",
     "start_time": "2023-11-28T21:59:29.706308800Z"
    }
   },
   "id": "dab8b2c1ee022fc8"
  },
  {
   "cell_type": "code",
   "execution_count": 37,
   "outputs": [
    {
     "name": "stdout",
     "output_type": "stream",
     "text": [
      "\n",
      "Accuracy  : 0.9225\n",
      "Precision : 0.9280\n",
      "Recall    : 0.9173\n",
      "F1 Score  : 0.9226\n"
     ]
    }
   ],
   "source": [
    "# Evaluate model on the test set\n",
    "loss, accuracy, precision, recall = model.evaluate(X_test, y_test, verbose=0)\n",
    "# Print metrics\n",
    "print('')\n",
    "print('Accuracy  : {:.4f}'.format(accuracy))\n",
    "print('Precision : {:.4f}'.format(precision))\n",
    "print('Recall    : {:.4f}'.format(recall))\n",
    "print('F1 Score  : {:.4f}'.format(f1_score(precision, recall)))"
   ],
   "metadata": {
    "collapsed": false,
    "ExecuteTime": {
     "end_time": "2023-11-28T22:11:06.436386800Z",
     "start_time": "2023-11-28T22:11:04.136920900Z"
    }
   },
   "id": "939991392310a84d"
  },
  {
   "cell_type": "code",
   "execution_count": 38,
   "outputs": [
    {
     "data": {
      "text/plain": "<Figure size 1000x400 with 2 Axes>",
      "image/png": "[encoded data removed]"
     },
     "metadata": {},
     "output_type": "display_data"
    }
   ],
   "source": [
    "def plot_training_hist(history):\n",
    "    '''Function to plot history for accuracy and loss'''\n",
    "    \n",
    "    fig, ax = plt.subplots(1, 2, figsize=(10,4))\n",
    "    # first plot\n",
    "    ax[0].plot(history.history['accuracy'])\n",
    "    ax[0].plot(history.history['val_accuracy'])\n",
    "    ax[0].set_title('Model Accuracy')\n",
    "    ax[0].set_xlabel('epoch')\n",
    "    ax[0].set_ylabel('accuracy')\n",
    "    ax[0].legend(['train', 'validation'], loc='best')\n",
    "    # second plot\n",
    "    ax[1].plot(history.history['loss'])\n",
    "    ax[1].plot(history.history['val_loss'])\n",
    "    ax[1].set_title('Model Loss')\n",
    "    ax[1].set_xlabel('epoch')\n",
    "    ax[1].set_ylabel('loss')\n",
    "    ax[1].legend(['train', 'validation'], loc='best')\n",
    "    \n",
    "plot_training_hist(history)"
   ],
   "metadata": {
    "collapsed": false,
    "ExecuteTime": {
     "end_time": "2023-11-28T22:11:11.111056900Z",
     "start_time": "2023-11-28T22:11:10.857776Z"
    }
   },
   "id": "15fa09e239d37fa6"
  },
  {
   "cell_type": "code",
   "execution_count": 41,
   "outputs": [
    {
     "name": "stdout",
     "output_type": "stream",
     "text": [
      "1121/1121 [==============================] - 2s 2ms/step\n"
     ]
    },
    {
     "data": {
      "text/plain": "<Figure size 800x600 with 2 Axes>",
      "image/png": "[encoded data removed]"
     },
     "metadata": {},
     "output_type": "display_data"
    }
   ],
   "source": [
    "from sklearn.metrics import confusion_matrix\n",
    "\n",
    "def plot_confusion_matrix(model, X_test, y_test):\n",
    "    '''Function to plot confusion matrix for the passed model and the data'''\n",
    "    \n",
    "    sentiment_classes = ['Negative', 'Neutral', 'Positive']\n",
    "    # use model to do the prediction\n",
    "    y_pred = model.predict(X_test)\n",
    "    # compute confusion matrix\n",
    "    cm = confusion_matrix(np.argmax(np.array(y_test),axis=1), np.argmax(y_pred, axis=1))\n",
    "    # plot confusion matrix\n",
    "    plt.figure(figsize=(8,6))\n",
    "    sns.heatmap(cm, cmap=plt.cm.Blues, annot=True, fmt='d', \n",
    "                xticklabels=sentiment_classes,\n",
    "                yticklabels=sentiment_classes)\n",
    "    plt.title('Confusion matrix', fontsize=16)\n",
    "    plt.xlabel('Actual label', fontsize=12)\n",
    "    plt.ylabel('Predicted label', fontsize=12)\n",
    "    \n",
    "plot_confusion_matrix(model, X_test, y_test)"
   ],
   "metadata": {
    "collapsed": false,
    "ExecuteTime": {
     "end_time": "2023-11-28T22:12:23.937406700Z",
     "start_time": "2023-11-28T22:12:21.360936300Z"
    }
   },
   "id": "a7d14f0df94f3ef3"
  }
 ],
 "metadata": {
  "kernelspec": {
   "display_name": "Python 3",
   "language": "python",
   "name": "python3"
  },
  "language_info": {
   "codemirror_mode": {
    "name": "ipython",
    "version": 2
   },
   "file_extension": ".py",
   "mimetype": "text/x-python",
   "name": "python",
   "nbconvert_exporter": "python",
   "pygments_lexer": "ipython2",
   "version": "2.7.6"
  }
 },
 "nbformat": 4,
 "nbformat_minor": 5
}
