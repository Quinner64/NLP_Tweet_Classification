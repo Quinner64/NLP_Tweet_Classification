{
 "cells": [
  {
   "cell_type": "markdown",
   "id": "849176a839229329",
   "metadata": {
    "collapsed": false
   },
   "source": [
    "## CMPE/CISC 452 NLP Text Classification\n",
    "\n",
    "By: Liam, Hayden, Taylor, Andrew"
   ]
  },
  {
   "cell_type": "code",
   "execution_count": 2,
   "id": "d7523af2c3627bab",
   "metadata": {
    "collapsed": false,
    "ExecuteTime": {
     "end_time": "2023-12-04T03:16:46.895915800Z",
     "start_time": "2023-12-04T03:16:46.887682200Z"
    }
   },
   "outputs": [],
   "source": [
    "# Data Visualization\n",
    "import pandas as pd\n",
    "import matplotlib.pyplot as plt\n",
    "import matplotlib.patches as mpatches\n",
    "import numpy as np\n"
   ]
  },
  {
   "cell_type": "code",
   "execution_count": 3,
   "id": "cd718a926474c55a",
   "metadata": {
    "collapsed": false,
    "ExecuteTime": {
     "end_time": "2023-12-04T03:16:48.639366500Z",
     "start_time": "2023-12-04T03:16:48.000181400Z"
    }
   },
   "outputs": [
    {
     "name": "stderr",
     "output_type": "stream",
     "text": [
      "[nltk_data] Downloading package stopwords to C:\\Users\\Hayden\n",
      "[nltk_data]     Murphy\\AppData\\Roaming\\nltk_data...\n",
      "[nltk_data]   Package stopwords is already up-to-date!\n"
     ]
    }
   ],
   "source": [
    "# Preprocessing Imports\n",
    "import re    # RegEx for removing non-letter characters\n",
    "import nltk  # natural language processing\n",
    "\n",
    "nltk.download(\"stopwords\")\n",
    "from nltk.corpus import stopwords\n",
    "from nltk.stem.porter import *\n",
    "from sklearn.feature_extraction.text import CountVectorizer\n",
    "import time\n",
    "from sklearn.preprocessing import LabelEncoder\n",
    "# from sklearn.feature_extraction.text import TfidfVectorizer"
   ]
  },
  {
   "cell_type": "code",
   "execution_count": 4,
   "id": "7ab75522ecefdc18",
   "metadata": {
    "collapsed": false,
    "ExecuteTime": {
     "end_time": "2023-12-04T03:16:53.437257300Z",
     "start_time": "2023-12-04T03:16:51.169471600Z"
    }
   },
   "outputs": [],
   "source": [
    "# Tokenizing & Padding Imports\n",
    "from keras.preprocessing.text import Tokenizer\n",
    "from keras.preprocessing.sequence import pad_sequences\n",
    "import os\n",
    "import pickle"
   ]
  },
  {
   "cell_type": "code",
   "execution_count": 5,
   "id": "d757e3687fe43eb4",
   "metadata": {
    "collapsed": false,
    "ExecuteTime": {
     "end_time": "2023-12-04T03:16:55.755017900Z",
     "start_time": "2023-12-04T03:16:55.743283700Z"
    }
   },
   "outputs": [],
   "source": [
    "# For Building the model imports\n",
    "from sklearn.model_selection import train_test_split\n",
    "import tensorflow as tf\n",
    "import seaborn as sns\n",
    "import keras.backend as K"
   ]
  },
  {
   "cell_type": "code",
   "execution_count": 22,
   "id": "c54688b2b1a67931",
   "metadata": {
    "collapsed": false,
    "ExecuteTime": {
     "end_time": "2023-12-04T03:39:36.786623600Z",
     "start_time": "2023-12-04T03:39:36.776338600Z"
    }
   },
   "outputs": [],
   "source": [
    "# Bidirectional LSTM Using NN\n",
    "from keras.models import Sequential\n",
    "from keras.layers import Embedding, Conv1D, MaxPooling1D, Bidirectional, LSTM, Dense, Dropout\n",
    "from keras.metrics import Precision, Recall\n",
    "from keras.optimizers import SGD\n",
    "from keras.models import load_model\n",
    "\n",
    "from keras.optimizers import RMSprop\n",
    "from keras import datasets\n",
    "\n",
    "from keras.callbacks import LearningRateScheduler\n",
    "from keras.callbacks import History\n",
    "\n",
    "from keras import losses"
   ]
  },
  {
   "cell_type": "code",
   "execution_count": 7,
   "id": "22eb489649c1f49d",
   "metadata": {
    "collapsed": false,
    "ExecuteTime": {
     "end_time": "2023-12-04T03:16:59.237050300Z",
     "start_time": "2023-12-04T03:16:59.226822100Z"
    }
   },
   "outputs": [],
   "source": [
    "def load_datasets():\n",
    "    # Load Mobi Tweet dataset\n",
    "    mobi_tweets = pd.read_csv('dataset/Twitter_Data.csv')\n",
    "    \n",
    "    # Load Apple Tweet dataset\n",
    "    apple_tweets = pd.read_csv('dataset/apple-twitter-sentiment-texts.csv')\n",
    "    apple_tweets = apple_tweets.rename(columns={'text': 'clean_text', 'sentiment': 'category'})\n",
    "    apple_tweets['category'] = apple_tweets['category'].map({-1: -1.0, 0: 0.0, 1: 1.0})\n",
    "    \n",
    "    # Load Airplane Tweet dataset\n",
    "    airplane_tweets = pd.read_csv('dataset/Tweets.csv')\n",
    "    airplane_tweets = airplane_tweets.rename(columns={'text': 'clean_text', 'airline_sentiment': 'category'})\n",
    "    airplane_tweets['category'] = airplane_tweets['category'].map({'negative': -1.0, 'neutral': 0.0, 'positive': 1.0})\n",
    "    airplane_tweets = airplane_tweets[['category', 'clean_text']]\n",
    "    \n",
    "    # Combine datasets\n",
    "    combined_tweets = pd.concat([mobi_tweets, apple_tweets, airplane_tweets], ignore_index=True)\n",
    "    \n",
    "    # Check for missing values\n",
    "    print(\"Number of missing values in combined dataset:\\n\", combined_tweets.isnull().sum())\n",
    "    \n",
    "    # Drop missing rows\n",
    "    combined_tweets.dropna(axis=0, inplace=True)\n",
    "    \n",
    "    # Print the shape of the dataset\n",
    "    print(\"Shape of the combined dataset:\", combined_tweets.shape)\n",
    "    \n",
    "    # Map tweet categories\n",
    "    combined_tweets['category'] = combined_tweets['category'].map({-1.0: 'Negative', 0.0: 'Neutral', 1.0: 'Positive'})\n",
    "    \n",
    "    # Output first five rows\n",
    "    print(\"First five rows of the combined dataset:\\n\", combined_tweets.head())\n",
    "    \n",
    "    # Return the combined Data Frame\n",
    "    return combined_tweets\n",
    "   "
   ]
  },
  {
   "cell_type": "code",
   "execution_count": 8,
   "id": "4e2e595998db8edd",
   "metadata": {
    "collapsed": false,
    "ExecuteTime": {
     "end_time": "2023-12-04T03:17:00.739928300Z",
     "start_time": "2023-12-04T03:17:00.727582Z"
    }
   },
   "outputs": [],
   "source": [
    "def visualize_Data (df):\n",
    "    \"\"\"\n",
    "    Visualizes the distribution of sentiments in the provided DataFrame.\n",
    "\n",
    "    Parameters:\n",
    "    df (pandas.DataFrame): DataFrame containing tweet data.\n",
    "    \"\"\"\n",
    "    \n",
    "    # Grouping by 'category' and counting occurrences\n",
    "    sentiment_counts = df['category'].value_counts()\n",
    "\n",
    "    # Plotting the counts as a bar plot\n",
    "    plt.figure(figsize=(8, 6))\n",
    "    sns.barplot(x=sentiment_counts.index, y=sentiment_counts.values)\n",
    "    \n",
    "    # Setting plot labels and title\n",
    "    plt.xlabel('Category')\n",
    "    plt.ylabel('Number of Tweets')\n",
    "    plt.title('Distribution of Sentiments in Tweet Data')\n",
    "    plt.show()"
   ]
  },
  {
   "cell_type": "code",
   "execution_count": 9,
   "id": "3e447fd62829af31",
   "metadata": {
    "collapsed": false,
    "ExecuteTime": {
     "end_time": "2023-12-04T03:17:01.983404600Z",
     "start_time": "2023-12-04T03:17:01.957803200Z"
    }
   },
   "outputs": [],
   "source": [
    "def tweet_to_words(tweet):\n",
    "    \"\"\"\n",
    "    Converts the text from a tweet into a list of words for further use.\n",
    "\n",
    "    Parameters:\n",
    "    tweet: String that forms a tweet to be converted into seperate words.\n",
    "    \"\"\"\n",
    "\n",
    "    # Convert the tweet to lowercase\n",
    "    text = tweet.lower()\n",
    "    # Remove any non letter characters\n",
    "    text = re.sub(r\"[^a-zA-Z0-9]\", \" \", text)\n",
    "    # Tokenize the tweet\n",
    "    words = text.split()\n",
    "    # Remove the stopwords, leaving only words that may indicate sentement \n",
    "    words = [w for w in words if w not in stopwords.words(\"english\")]\n",
    "    # Apply stemming\n",
    "    words = [PorterStemmer().stem(w) for w in words]\n",
    "\n",
    "    return words"
   ]
  },
  {
   "cell_type": "code",
   "execution_count": 10,
   "id": "a925863028ef4a74",
   "metadata": {
    "collapsed": false,
    "ExecuteTime": {
     "end_time": "2023-12-04T03:17:03.525985800Z",
     "start_time": "2023-12-04T03:17:03.514736600Z"
    }
   },
   "outputs": [],
   "source": [
    "def preprocessing(df):\n",
    "    \"\"\"\n",
    "    Preprocesses the data in the given DataFrame using tweet_to_words function\n",
    "\n",
    "    Parameters:\n",
    "    df (pandas.DataFrame): DataFrame containing tweet data. \n",
    "    \"\"\"\n",
    "    \n",
    "    # Tracking the start time of the tweet_to_words function\n",
    "    start_time = time.time()\n",
    "\n",
    "    print(\"Running Preprocessing\")\n",
    "    # Apply data preprocessing to each tweet\n",
    "    X = list(map(tweet_to_words, df['clean_text']))\n",
    "\n",
    "    # Calculate End time of tweet_to_words function\n",
    "    end_time = time.time()\n",
    "\n",
    "    # Calculate elapsed time\n",
    "    elapsed_time = end_time - start_time\n",
    "    print(\"Finished Preprocessing\")\n",
    "    print(f\"Elapsed time: {elapsed_time} seconds\")\n",
    "\n",
    "    print(X[0])\n",
    "   \n",
    "    return X"
   ]
  },
  {
   "cell_type": "code",
   "execution_count": 11,
   "id": "ddd1244546257223",
   "metadata": {
    "collapsed": false,
    "ExecuteTime": {
     "end_time": "2023-12-04T03:17:05.284486700Z",
     "start_time": "2023-12-04T03:17:05.271703200Z"
    }
   },
   "outputs": [],
   "source": [
    "def tokenize_pad_sequences(text, max_words, max_len):\n",
    "    \"\"\"\n",
    "    Tokenize the input text into sequnences of intergers, then pad each sequence to the same length.\n",
    "\n",
    "    Parameters: \n",
    "    text: Dataset containing all the tweets.\n",
    "    max_words: maximum amount of words that can be tokenized \n",
    "    max_len: maximum length of sequences\n",
    "    \"\"\"\n",
    "    \n",
    "    # Text tokenization\n",
    "    tokenizer = Tokenizer(num_words=max_words, lower=True, split=' ')\n",
    "    tokenizer.fit_on_texts(text)\n",
    "    # Transforms text to a sequence of integers\n",
    "    X = tokenizer.texts_to_sequences(text)\n",
    "    # Pad sequences to the same length\n",
    "    X = pad_sequences(X, padding='post', maxlen=max_len)\n",
    "    # return sequences\n",
    "    return X, tokenizer"
   ]
  },
  {
   "cell_type": "code",
   "execution_count": 12,
   "id": "952dbc00e0597664",
   "metadata": {
    "collapsed": false,
    "ExecuteTime": {
     "end_time": "2023-12-04T03:17:06.679375900Z",
     "start_time": "2023-12-04T03:17:06.668682600Z"
    }
   },
   "outputs": [],
   "source": [
    "def f1_score(precision, recall):\n",
    "    \"\"\"\n",
    "    Calculate the f1 score.\n",
    "\n",
    "    Parameters:\n",
    "    precision: Precision score from the trained model\n",
    "    recall: Recall score from the trained model\n",
    "    \"\"\"\n",
    "\n",
    "    f1_val = 2 * (precision * recall) / (precision + recall + K.epsilon())\n",
    "    return f1_val"
   ]
  },
  {
   "cell_type": "code",
   "execution_count": 13,
   "id": "3a37f10a462845e3",
   "metadata": {
    "collapsed": false,
    "ExecuteTime": {
     "end_time": "2023-12-04T03:25:35.099981900Z",
     "start_time": "2023-12-04T03:17:08.334358600Z"
    }
   },
   "outputs": [
    {
     "name": "stdout",
     "output_type": "stream",
     "text": [
      "Number of missing values in combined dataset:\n",
      " clean_text    4\n",
      "category      7\n",
      "dtype: int64\n",
      "Shape of the combined dataset: (179239, 2)\n",
      "First five rows of the combined dataset:\n",
      "                                           clean_text  category\n",
      "0  when modi promised “minimum government maximum...  Negative\n",
      "1  talk all the nonsense and continue all the dra...   Neutral\n",
      "2  what did just say vote for modi  welcome bjp t...  Positive\n",
      "3  asking his supporters prefix chowkidar their n...  Positive\n",
      "4  answer who among these the most powerful world...  Positive\n"
     ]
    },
    {
     "name": "stderr",
     "output_type": "stream",
     "text": [
      "G:\\Conda\\envs\\school\\Lib\\site-packages\\seaborn\\_oldcore.py:1498: FutureWarning: is_categorical_dtype is deprecated and will be removed in a future version. Use isinstance(dtype, CategoricalDtype) instead\n",
      "  if pd.api.types.is_categorical_dtype(vector):\n",
      "G:\\Conda\\envs\\school\\Lib\\site-packages\\seaborn\\_oldcore.py:1498: FutureWarning: is_categorical_dtype is deprecated and will be removed in a future version. Use isinstance(dtype, CategoricalDtype) instead\n",
      "  if pd.api.types.is_categorical_dtype(vector):\n",
      "G:\\Conda\\envs\\school\\Lib\\site-packages\\seaborn\\_oldcore.py:1498: FutureWarning: is_categorical_dtype is deprecated and will be removed in a future version. Use isinstance(dtype, CategoricalDtype) instead\n",
      "  if pd.api.types.is_categorical_dtype(vector):\n"
     ]
    },
    {
     "data": {
      "text/plain": "<Figure size 800x600 with 1 Axes>",
      "image/png": "[encoded data removed]"
     },
     "metadata": {},
     "output_type": "display_data"
    },
    {
     "name": "stdout",
     "output_type": "stream",
     "text": [
      "Running Preprocessing\n",
      "Finished Preprocessing\n",
      "Elapsed time: 506.31749534606934 seconds\n",
      "['modi', 'promis', 'minimum', 'govern', 'maximum', 'govern', 'expect', 'begin', 'difficult', 'job', 'reform', 'state', 'take', 'year', 'get', 'justic', 'state', 'busi', 'exit', 'psu', 'templ']\n"
     ]
    }
   ],
   "source": [
    "# Load Datasets\n",
    "df = load_datasets()\n",
    "\n",
    "# Visualize Data\n",
    "visualize_Data(df)\n",
    "\n",
    "# Preprocessing\n",
    "X = preprocessing(df)"
   ]
  },
  {
   "cell_type": "code",
   "execution_count": 14,
   "id": "b6ae55c9113ac5c1",
   "metadata": {
    "collapsed": false,
    "ExecuteTime": {
     "end_time": "2023-12-04T03:26:16.614285100Z",
     "start_time": "2023-12-04T03:26:12.767334300Z"
    }
   },
   "outputs": [
    {
     "name": "stderr",
     "output_type": "stream",
     "text": [
      "G:\\Conda\\envs\\school\\Lib\\site-packages\\sklearn\\feature_extraction\\text.py:528: UserWarning: The parameter 'token_pattern' will not be used since 'tokenizer' is not None'\n",
      "  warnings.warn(\n"
     ]
    },
    {
     "data": {
      "text/plain": "<Figure size 640x480 with 1 Axes>",
      "image/png": "[encoded data removed]"
     },
     "metadata": {},
     "output_type": "display_data"
    },
    {
     "name": "stdout",
     "output_type": "stream",
     "text": [
      "Before Tokenization & Padding \n",
      " ['modi', 'promis', 'minimum', 'govern', 'maximum', 'govern', 'expect', 'begin', 'difficult', 'job', 'reform', 'state', 'take', 'year', 'get', 'justic', 'state', 'busi', 'exit', 'psu', 'templ']\n",
      "After Tokenization & Padding \n",
      " [   1   63  758   27 1631   27  273  920 1143   61 1273  123   28   17\n",
      "   15 1047  123  250 2728 2791 1189    0    0    0    0    0    0    0\n",
      "    0    0    0    0    0    0    0    0    0    0    0    0    0    0\n",
      "    0    0    0    0    0    0    0    0    0    0    0    0    0    0\n",
      "    0    0    0    0    0    0    0    0    0    0    0    0    0    0\n",
      "    0    0    0    0    0    0    0    0    0    0    0    0    0    0\n",
      "    0    0    0    0    0    0    0    0    0    0    0    0    0    0\n",
      "    0    0]\n"
     ]
    }
   ],
   "source": [
    "# ---Tokenizing & Padding---\n",
    "# Train and test split\n",
    "y = pd.get_dummies(df['category'])\n",
    "X_train, X_test, y_train, y_test = train_test_split(X, y, test_size=0.2, random_state=1)\n",
    "X_train, X_val, y_train, y_val = train_test_split(X_train, y_train, test_size=0.25, random_state=1)\n",
    "\n",
    "vocabulary_size = 5000\n",
    "\n",
    "# Tweets have already been preprocessed hence dummy function will be passed into preprocessor & tokenizer step\n",
    "count_vector = CountVectorizer(max_features=vocabulary_size, preprocessor=lambda x: x, tokenizer=lambda x: x)\n",
    "\n",
    "# Fit the training data\n",
    "X_train = count_vector.fit_transform(X_train).toarray()\n",
    "\n",
    "# Transform testing data\n",
    "X_test = count_vector.transform(X_test).toarray()\n",
    "\n",
    "# Plot the BoW feature vector\n",
    "plt.plot(X_train[2, :])\n",
    "plt.xlabel('Word')\n",
    "plt.ylabel('Count')\n",
    "plt.show()\n",
    "\n",
    "print('Before Tokenization & Padding \\n', X[0])\n",
    "max_words = 5000\n",
    "max_len = 100 # changed from 50 to 100\n",
    "X, tokenizer = tokenize_pad_sequences(X, max_words, max_len)\n",
    "print('After Tokenization & Padding \\n', X[0])"
   ]
  },
  {
   "cell_type": "code",
   "execution_count": 15,
   "id": "51331e6e1315e77f",
   "metadata": {
    "collapsed": false,
    "ExecuteTime": {
     "end_time": "2023-12-04T03:26:19.436401600Z",
     "start_time": "2023-12-04T03:26:18.675546300Z"
    }
   },
   "outputs": [
    {
     "name": "stderr",
     "output_type": "stream",
     "text": [
      "WARNING:absl:`lr` is deprecated in Keras optimizer, please use `learning_rate` or use the legacy optimizer, e.g.,tf.keras.optimizers.legacy.SGD.\n"
     ]
    },
    {
     "name": "stdout",
     "output_type": "stream",
     "text": [
      "Train Set -> (107543, 100) (107543, 3)\n",
      "Validation Set -> (35848, 100) (35848, 3)\n",
      "Test Set -> (35848, 100) (35848, 3)\n",
      "You must install pydot (`pip install pydot`) and install graphviz (see instructions at https://graphviz.gitlab.io/download/) for plot_model to work.\n",
      "Model: \"sequential\"\n",
      "_________________________________________________________________\n",
      " Layer (type)                Output Shape              Param #   \n",
      "=================================================================\n",
      " embedding (Embedding)       (None, 100, 64)           320000    \n",
      "                                                                 \n",
      " conv1d (Conv1D)             (None, 100, 32)           6176      \n",
      "                                                                 \n",
      " max_pooling1d (MaxPooling1  (None, 50, 32)            0         \n",
      " D)                                                              \n",
      "                                                                 \n",
      " bidirectional (Bidirection  (None, 64)                16640     \n",
      " al)                                                             \n",
      "                                                                 \n",
      " dropout (Dropout)           (None, 64)                0         \n",
      "                                                                 \n",
      " dense (Dense)               (None, 3)                 195       \n",
      "                                                                 \n",
      "=================================================================\n",
      "Total params: 343011 (1.31 MB)\n",
      "Trainable params: 343011 (1.31 MB)\n",
      "Non-trainable params: 0 (0.00 Byte)\n",
      "_________________________________________________________________\n",
      "None\n"
     ]
    }
   ],
   "source": [
    "# ---BuildModel---\n",
    "y = pd.get_dummies(df['category'])\n",
    "X_train, X_test, y_train, y_test = train_test_split(X, y, test_size=0.2, random_state=1)\n",
    "X_train, X_val, y_train, y_val = train_test_split(X_train, y_train, test_size=0.25, random_state=1)\n",
    "print('Train Set ->', X_train.shape, y_train.shape)\n",
    "print('Validation Set ->', X_val.shape, y_val.shape)\n",
    "print('Test Set ->', X_test.shape, y_test.shape)\n",
    "\n",
    "vocab_size = 5000\n",
    "embedding_size = 64 # changed from 32 to 64\n",
    "epochs = 20\n",
    "learning_rate = 0.01\n",
    "decay_rate = learning_rate / epochs\n",
    "momentum = 0.8\n",
    "\n",
    "# Removed decay rate\n",
    "# decay=decay_rate,\n",
    "sgd = SGD(lr=learning_rate, momentum=momentum, nesterov=False)\n",
    "\n",
    "# Build model\n",
    "model = Sequential()\n",
    "model.add(Embedding(vocab_size, embedding_size, input_length=max_len))\n",
    "model.add(Conv1D(filters=32, kernel_size=3, padding='same', activation='relu'))\n",
    "model.add(MaxPooling1D(pool_size=2))\n",
    "model.add(Bidirectional(LSTM(32)))\n",
    "model.add(Dropout(0.4))\n",
    "model.add(Dense(3, activation='softmax'))\n",
    "\n",
    "tf.keras.utils.plot_model(model, show_shapes=True)\n",
    "\n",
    "print(model.summary())"
   ]
  },
  {
   "cell_type": "code",
   "execution_count": 16,
   "id": "7821a804ca504005",
   "metadata": {
    "collapsed": false,
    "ExecuteTime": {
     "end_time": "2023-12-04T03:26:22.288012Z",
     "start_time": "2023-12-04T03:26:22.274203300Z"
    }
   },
   "outputs": [],
   "source": [
    "# Compile model\n",
    "model.compile(loss='categorical_crossentropy', optimizer=sgd, metrics=['accuracy', Precision(), Recall()])"
   ]
  },
  {
   "cell_type": "code",
   "execution_count": 17,
   "id": "dab8b2c1ee022fc8",
   "metadata": {
    "collapsed": false,
    "ExecuteTime": {
     "end_time": "2023-12-04T03:35:07.879889700Z",
     "start_time": "2023-12-04T03:26:26.598243400Z"
    }
   },
   "outputs": [
    {
     "name": "stdout",
     "output_type": "stream",
     "text": [
      "Epoch 1/20\n",
      "1681/1681 [==============================] - 30s 16ms/step - loss: 1.0171 - accuracy: 0.4913 - precision: 0.5750 - recall: 0.2143 - val_loss: 0.9943 - val_accuracy: 0.5102 - val_precision: 0.5830 - val_recall: 0.3038\n",
      "Epoch 2/20\n",
      "1681/1681 [==============================] - 26s 16ms/step - loss: 0.9643 - accuracy: 0.5282 - precision: 0.6063 - recall: 0.3183 - val_loss: 0.8697 - val_accuracy: 0.5899 - val_precision: 0.6588 - val_recall: 0.4549\n",
      "Epoch 3/20\n",
      "1681/1681 [==============================] - 26s 16ms/step - loss: 0.7809 - accuracy: 0.6515 - precision: 0.7212 - recall: 0.5484 - val_loss: 0.6964 - val_accuracy: 0.7158 - val_precision: 0.7710 - val_recall: 0.6319\n",
      "Epoch 4/20\n",
      "1681/1681 [==============================] - 26s 16ms/step - loss: 0.6298 - accuracy: 0.7541 - precision: 0.7954 - recall: 0.6990 - val_loss: 0.5331 - val_accuracy: 0.8016 - val_precision: 0.8260 - val_recall: 0.7691\n",
      "Epoch 5/20\n",
      "1681/1681 [==============================] - 26s 16ms/step - loss: 0.5118 - accuracy: 0.8177 - precision: 0.8383 - recall: 0.7911 - val_loss: 0.4769 - val_accuracy: 0.8291 - val_precision: 0.8467 - val_recall: 0.8084\n",
      "Epoch 6/20\n",
      "1681/1681 [==============================] - 26s 16ms/step - loss: 0.4689 - accuracy: 0.8357 - precision: 0.8515 - recall: 0.8163 - val_loss: 0.4642 - val_accuracy: 0.8361 - val_precision: 0.8524 - val_recall: 0.8163\n",
      "Epoch 7/20\n",
      "1681/1681 [==============================] - 26s 16ms/step - loss: 0.4478 - accuracy: 0.8440 - precision: 0.8582 - recall: 0.8273 - val_loss: 0.4515 - val_accuracy: 0.8397 - val_precision: 0.8518 - val_recall: 0.8253\n",
      "Epoch 8/20\n",
      "1681/1681 [==============================] - 26s 16ms/step - loss: 0.4341 - accuracy: 0.8498 - precision: 0.8629 - recall: 0.8335 - val_loss: 0.4548 - val_accuracy: 0.8380 - val_precision: 0.8503 - val_recall: 0.8243\n",
      "Epoch 9/20\n",
      "1681/1681 [==============================] - 26s 16ms/step - loss: 0.4261 - accuracy: 0.8526 - precision: 0.8652 - recall: 0.8379 - val_loss: 0.4489 - val_accuracy: 0.8397 - val_precision: 0.8511 - val_recall: 0.8273\n",
      "Epoch 10/20\n",
      "1681/1681 [==============================] - 26s 16ms/step - loss: 0.4179 - accuracy: 0.8565 - precision: 0.8678 - recall: 0.8425 - val_loss: 0.4526 - val_accuracy: 0.8385 - val_precision: 0.8495 - val_recall: 0.8260\n",
      "Epoch 11/20\n",
      "1681/1681 [==============================] - 26s 16ms/step - loss: 0.4098 - accuracy: 0.8583 - precision: 0.8703 - recall: 0.8442 - val_loss: 0.4522 - val_accuracy: 0.8387 - val_precision: 0.8490 - val_recall: 0.8281\n",
      "Epoch 12/20\n",
      "1681/1681 [==============================] - 26s 15ms/step - loss: 0.4049 - accuracy: 0.8607 - precision: 0.8725 - recall: 0.8470 - val_loss: 0.4535 - val_accuracy: 0.8378 - val_precision: 0.8482 - val_recall: 0.8272\n",
      "Epoch 13/20\n",
      "1681/1681 [==============================] - 25s 15ms/step - loss: 0.3977 - accuracy: 0.8635 - precision: 0.8754 - recall: 0.8501 - val_loss: 0.4486 - val_accuracy: 0.8409 - val_precision: 0.8509 - val_recall: 0.8303\n",
      "Epoch 14/20\n",
      "1681/1681 [==============================] - 26s 15ms/step - loss: 0.3901 - accuracy: 0.8658 - precision: 0.8772 - recall: 0.8530 - val_loss: 0.4562 - val_accuracy: 0.8378 - val_precision: 0.8486 - val_recall: 0.8257\n",
      "Epoch 15/20\n",
      "1681/1681 [==============================] - 25s 15ms/step - loss: 0.3836 - accuracy: 0.8689 - precision: 0.8804 - recall: 0.8559 - val_loss: 0.4528 - val_accuracy: 0.8393 - val_precision: 0.8503 - val_recall: 0.8275\n",
      "Epoch 16/20\n",
      "1681/1681 [==============================] - 26s 15ms/step - loss: 0.3763 - accuracy: 0.8723 - precision: 0.8838 - recall: 0.8591 - val_loss: 0.4536 - val_accuracy: 0.8376 - val_precision: 0.8473 - val_recall: 0.8271\n",
      "Epoch 17/20\n",
      "1681/1681 [==============================] - 25s 15ms/step - loss: 0.3689 - accuracy: 0.8741 - precision: 0.8852 - recall: 0.8616 - val_loss: 0.4595 - val_accuracy: 0.8375 - val_precision: 0.8474 - val_recall: 0.8269\n",
      "Epoch 18/20\n",
      "1681/1681 [==============================] - 25s 15ms/step - loss: 0.3606 - accuracy: 0.8776 - precision: 0.8883 - recall: 0.8654 - val_loss: 0.4767 - val_accuracy: 0.8362 - val_precision: 0.8440 - val_recall: 0.8264\n",
      "Epoch 19/20\n",
      "1681/1681 [==============================] - 26s 16ms/step - loss: 0.3522 - accuracy: 0.8801 - precision: 0.8905 - recall: 0.8686 - val_loss: 0.4687 - val_accuracy: 0.8346 - val_precision: 0.8448 - val_recall: 0.8257\n",
      "Epoch 20/20\n",
      "1681/1681 [==============================] - 25s 15ms/step - loss: 0.3432 - accuracy: 0.8831 - precision: 0.8933 - recall: 0.8720 - val_loss: 0.4911 - val_accuracy: 0.8295 - val_precision: 0.8387 - val_recall: 0.8185\n"
     ]
    }
   ],
   "source": [
    " # Train model\n",
    "batch_size = 64\n",
    "history = model.fit(X_train, y_train, validation_data=(X_val, y_val), batch_size=batch_size, epochs=epochs, verbose=1)"
   ]
  },
  {
   "cell_type": "code",
   "execution_count": 18,
   "id": "939991392310a84d",
   "metadata": {
    "collapsed": false,
    "ExecuteTime": {
     "end_time": "2023-12-04T03:35:14.924905800Z",
     "start_time": "2023-12-04T03:35:10.815045500Z"
    }
   },
   "outputs": [
    {
     "name": "stdout",
     "output_type": "stream",
     "text": [
      "\n",
      "Accuracy  : 0.8291\n",
      "Precision : 0.8388\n",
      "Recall    : 0.8198\n",
      "F1 Score  : 0.8292\n"
     ]
    }
   ],
   "source": [
    "# Evaluate model on the test set\n",
    "loss, accuracy, precision, recall = model.evaluate(X_test, y_test, verbose=0)\n",
    "# Print metrics\n",
    "print('')\n",
    "print('Accuracy  : {:.4f}'.format(accuracy))\n",
    "print('Precision : {:.4f}'.format(precision))\n",
    "print('Recall    : {:.4f}'.format(recall))\n",
    "print('F1 Score  : {:.4f}'.format(f1_score(precision, recall)))"
   ]
  },
  {
   "cell_type": "code",
   "execution_count": 19,
   "id": "15fa09e239d37fa6",
   "metadata": {
    "collapsed": false,
    "ExecuteTime": {
     "end_time": "2023-12-04T03:35:43.367702500Z",
     "start_time": "2023-12-04T03:35:43.136477700Z"
    }
   },
   "outputs": [
    {
     "data": {
      "text/plain": "<Figure size 1000x400 with 2 Axes>",
      "image/png": "[encoded data removed]"
     },
     "metadata": {},
     "output_type": "display_data"
    }
   ],
   "source": [
    "def plot_training_hist(history):\n",
    "    '''Function to plot history for accuracy and loss'''\n",
    "    \n",
    "    fig, ax = plt.subplots(1, 2, figsize=(10,4))\n",
    "    # first plot\n",
    "    ax[0].plot(history.history['accuracy'])\n",
    "    ax[0].plot(history.history['val_accuracy'])\n",
    "    ax[0].set_title('Model Accuracy')\n",
    "    ax[0].set_xlabel('epoch')\n",
    "    ax[0].set_ylabel('accuracy')\n",
    "    ax[0].legend(['train', 'validation'], loc='best')\n",
    "    # second plot\n",
    "    ax[1].plot(history.history['loss'])\n",
    "    ax[1].plot(history.history['val_loss'])\n",
    "    ax[1].set_title('Model Loss')\n",
    "    ax[1].set_xlabel('epoch')\n",
    "    ax[1].set_ylabel('loss')\n",
    "    ax[1].legend(['train', 'validation'], loc='best')\n",
    "    \n",
    "plot_training_hist(history)"
   ]
  },
  {
   "cell_type": "code",
   "execution_count": 28,
   "id": "a7d14f0df94f3ef3",
   "metadata": {
    "collapsed": false,
    "ExecuteTime": {
     "end_time": "2023-12-04T03:41:51.048226Z",
     "start_time": "2023-12-04T03:41:46.672441300Z"
    }
   },
   "outputs": [
    {
     "name": "stdout",
     "output_type": "stream",
     "text": [
      "1121/1121 [==============================] - 4s 4ms/step\n"
     ]
    },
    {
     "data": {
      "text/plain": "<Figure size 800x600 with 2 Axes>",
      "image/png": "[encoded data removed]"
     },
     "metadata": {},
     "output_type": "display_data"
    }
   ],
   "source": [
    "from sklearn.metrics import confusion_matrix\n",
    "\n",
    "def plot_confusion_matrix(model, X_test, y_test):\n",
    "    '''Function to plot confusion matrix for the passed model and the data'''\n",
    "    \n",
    "    sentiment_classes = ['Negative', 'Neutral', 'Positive']\n",
    "    # use model to do the prediction\n",
    "    y_pred = model.predict(X_test)\n",
    "    # compute confusion matrix\n",
    "    cm = confusion_matrix(np.argmax(np.array(y_test),axis=1), np.argmax(y_pred, axis=1))\n",
    "    # plot confusion matrix\n",
    "    plt.figure(figsize=(8,6))\n",
    "    sns.heatmap(cm, cmap=plt.cm.Blues, annot=True, fmt='d', \n",
    "                xticklabels=sentiment_classes,\n",
    "                yticklabels=sentiment_classes)\n",
    "    plt.title('Confusion matrix', fontsize=16)\n",
    "    plt.xlabel('Actual label', fontsize=12)\n",
    "    plt.ylabel('Predicted label', fontsize=12)\n",
    "    \n",
    "plot_confusion_matrix(model, X_test, y_test)"
   ]
  },
  {
   "cell_type": "code",
   "execution_count": 20,
   "outputs": [
    {
     "name": "stdout",
     "output_type": "stream",
     "text": [
      "Best model saved\n"
     ]
    },
    {
     "name": "stderr",
     "output_type": "stream",
     "text": [
      "G:\\Conda\\envs\\school\\Lib\\site-packages\\keras\\src\\engine\\training.py:3000: UserWarning: You are saving your model as an HDF5 file via `model.save()`. This file format is considered legacy. We recommend using instead the native Keras format, e.g. `model.save('my_model.keras')`.\n",
      "  saving_api.save_model(\n"
     ]
    }
   ],
   "source": [
    "# Save the model architecture & the weights\n",
    "model.save('best_model.h5')\n",
    "print('Best model saved')"
   ],
   "metadata": {
    "collapsed": false,
    "ExecuteTime": {
     "end_time": "2023-12-04T03:38:16.198315300Z",
     "start_time": "2023-12-04T03:38:16.158267800Z"
    }
   },
   "id": "969451044570ab1"
  },
  {
   "cell_type": "code",
   "execution_count": 26,
   "outputs": [],
   "source": [
    "# Load model\n",
    "model = load_model('best_model.h5')\n",
    "\n",
    "def predict_class(text):\n",
    "    '''Function to predict sentiment class of the passed text'''\n",
    "    \n",
    "    sentiment_classes = ['Negative', 'Neutral', 'Positive']\n",
    "    max_len=100\n",
    "    \n",
    "    # Transforms text to a sequence of integers using a tokenizer object\n",
    "    xt = tokenizer.texts_to_sequences(text)\n",
    "    # Pad sequences to the same length\n",
    "    xt = pad_sequences(xt, padding='post', maxlen=max_len)\n",
    "    # Do the prediction using the loaded model\n",
    "    yt = model.predict(xt).argmax(axis=1)\n",
    "    # Print the predicted sentiment\n",
    "    print('The predicted sentiment is', sentiment_classes[yt[0]])"
   ],
   "metadata": {
    "collapsed": false,
    "ExecuteTime": {
     "end_time": "2023-12-04T03:40:36.596361500Z",
     "start_time": "2023-12-04T03:40:36.142392700Z"
    }
   },
   "id": "a9cd94b5da2c7c6c"
  },
  {
   "cell_type": "code",
   "execution_count": 27,
   "outputs": [
    {
     "name": "stdout",
     "output_type": "stream",
     "text": [
      "1/1 [==============================] - 1s 651ms/step\n",
      "The predicted sentiment is Negative\n",
      "1/1 [==============================] - 0s 14ms/step\n",
      "The predicted sentiment is Neutral\n",
      "1/1 [==============================] - 0s 14ms/step\n",
      "The predicted sentiment is Positive\n"
     ]
    }
   ],
   "source": [
    "predict_class(['\"I hate when I have to call and wake people up'])\n",
    "predict_class(['The food was meh'])\n",
    "predict_class(['He is a best minister india ever had seen'])"
   ],
   "metadata": {
    "collapsed": false,
    "ExecuteTime": {
     "end_time": "2023-12-04T03:40:38.490609100Z",
     "start_time": "2023-12-04T03:40:37.728339500Z"
    }
   },
   "id": "afd01c8b38c838c"
  }
 ],
 "metadata": {
  "kernelspec": {
   "display_name": "Python 3",
   "language": "python",
   "name": "python3"
  },
  "language_info": {
   "codemirror_mode": {
    "name": "ipython",
    "version": 3
   },
   "file_extension": ".py",
   "mimetype": "text/x-python",
   "name": "python",
   "nbconvert_exporter": "python",
   "pygments_lexer": "ipython3",
   "version": "3.11.6"
  }
 },
 "nbformat": 4,
 "nbformat_minor": 5
}
