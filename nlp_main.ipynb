{
 "cells": [
  {
   "cell_type": "markdown",
   "id": "849176a839229329",
   "metadata": {
    "collapsed": false
   },
   "source": [
    "## CMPE/CISC 452 NLP Text Classification\n",
    "\n",
    "By: Liam, Hayden, Taylor, Andrew"
   ]
  },
  {
   "cell_type": "code",
   "execution_count": 42,
   "id": "d7523af2c3627bab",
   "metadata": {
    "ExecuteTime": {
     "end_time": "2023-12-03T01:20:30.404495500Z",
     "start_time": "2023-12-03T01:20:30.393287200Z"
    },
    "collapsed": false
   },
   "outputs": [],
   "source": [
    "# Data Visualization\n",
    "import pandas as pd\n",
    "import matplotlib.pyplot as plt\n",
    "import matplotlib.patches as mpatches\n",
    "import numpy as np\n"
   ]
  },
  {
   "cell_type": "code",
   "execution_count": 43,
   "id": "cd718a926474c55a",
   "metadata": {
    "ExecuteTime": {
     "end_time": "2023-12-03T01:20:35.854404800Z",
     "start_time": "2023-12-03T01:20:34.134909200Z"
    },
    "collapsed": false
   },
   "outputs": [
    {
     "name": "stderr",
     "output_type": "stream",
     "text": [
      "[nltk_data] Downloading package stopwords to\n",
      "[nltk_data]     /Users/sealgram/nltk_data...\n",
      "[nltk_data]   Package stopwords is already up-to-date!\n"
     ]
    }
   ],
   "source": [
    "# Preprocessing Imports\n",
    "import re    # RegEx for removing non-letter characters\n",
    "import nltk  # natural language processing\n",
    "\n",
    "nltk.download(\"stopwords\")\n",
    "from nltk.corpus import stopwords\n",
    "from nltk.stem.porter import *\n",
    "from sklearn.feature_extraction.text import CountVectorizer\n",
    "import time\n",
    "from sklearn.preprocessing import LabelEncoder\n",
    "# from sklearn.feature_extraction.text import TfidfVectorizer"
   ]
  },
  {
   "cell_type": "code",
   "execution_count": 44,
   "id": "7ab75522ecefdc18",
   "metadata": {
    "ExecuteTime": {
     "end_time": "2023-12-03T01:20:40.132756200Z",
     "start_time": "2023-12-03T01:20:37.999093800Z"
    },
    "collapsed": false
   },
   "outputs": [],
   "source": [
    "# Tokenizing & Padding Imports\n",
    "from keras.preprocessing.text import Tokenizer\n",
    "from keras.preprocessing.sequence import pad_sequences\n",
    "import os\n",
    "import pickle"
   ]
  },
  {
   "cell_type": "code",
   "execution_count": 45,
   "id": "d757e3687fe43eb4",
   "metadata": {
    "ExecuteTime": {
     "end_time": "2023-12-03T01:20:41.451622900Z",
     "start_time": "2023-12-03T01:20:41.440380300Z"
    },
    "collapsed": false
   },
   "outputs": [],
   "source": [
    "# For Building the model imports\n",
    "from sklearn.model_selection import train_test_split\n",
    "import tensorflow as tf\n",
    "import seaborn as sns\n",
    "import keras.backend as K"
   ]
  },
  {
   "cell_type": "code",
   "execution_count": 46,
   "id": "c54688b2b1a67931",
   "metadata": {
    "ExecuteTime": {
     "end_time": "2023-12-03T01:20:42.771775300Z",
     "start_time": "2023-12-03T01:20:42.757525200Z"
    },
    "collapsed": false
   },
   "outputs": [],
   "source": [
    "# Bidirectional LSTM Using NN\n",
    "from keras.models import Sequential\n",
    "from keras.layers import Embedding, Conv1D, MaxPooling1D, Bidirectional, LSTM, Dense, Dropout\n",
    "from keras.metrics import Precision, Recall\n",
    "from keras.optimizers import SGD\n",
    "from keras.optimizers import RMSprop\n",
    "from keras import datasets\n",
    "\n",
    "from keras.callbacks import LearningRateScheduler\n",
    "from keras.callbacks import History\n",
    "\n",
    "from keras import losses"
   ]
  },
  {
   "cell_type": "code",
   "execution_count": 47,
   "id": "22eb489649c1f49d",
   "metadata": {
    "ExecuteTime": {
     "end_time": "2023-12-03T01:20:44.330203900Z",
     "start_time": "2023-12-03T01:20:44.317987300Z"
    },
    "collapsed": false
   },
   "outputs": [],
   "source": [
    "def load_datasets():\n",
    "    # Load Mobi Tweet dataset\n",
    "    mobi_tweets = pd.read_csv('dataset/Twitter_Data.csv')\n",
    "    \n",
    "    # Load Apple Tweet dataset\n",
    "    apple_tweets = pd.read_csv('dataset/apple-twitter-sentiment-texts.csv')\n",
    "    apple_tweets = apple_tweets.rename(columns={'text': 'clean_text', 'sentiment': 'category'})\n",
    "    apple_tweets['category'] = apple_tweets['category'].map({-1: -1.0, 0: 0.0, 1: 1.0})\n",
    "    \n",
    "    # Load Airplane Tweet dataset\n",
    "    airplane_tweets = pd.read_csv('dataset/Tweets.csv')\n",
    "    airplane_tweets = airplane_tweets.rename(columns={'text': 'clean_text', 'airline_sentiment': 'category'})\n",
    "    airplane_tweets['category'] = airplane_tweets['category'].map({'negative': -1.0, 'neutral': 0.0, 'positive': 1.0})\n",
    "    airplane_tweets = airplane_tweets[['category', 'clean_text']]\n",
    "    \n",
    "    # Combine datasets\n",
    "    combined_tweets = pd.concat([mobi_tweets, apple_tweets, airplane_tweets], ignore_index=True)\n",
    "    \n",
    "    # Check for missing values\n",
    "    print(\"Number of missing values in combined dataset:\\n\", combined_tweets.isnull().sum())\n",
    "    \n",
    "    # Drop missing rows\n",
    "    combined_tweets.dropna(axis=0, inplace=True)\n",
    "    \n",
    "    # Print the shape of the dataset\n",
    "    print(\"Shape of the combined dataset:\", combined_tweets.shape)\n",
    "    \n",
    "    # Map tweet categories\n",
    "    combined_tweets['category'] = combined_tweets['category'].map({-1.0: 'Negative', 0.0: 'Neutral', 1.0: 'Positive'})\n",
    "    \n",
    "    # Output first five rows\n",
    "    print(\"First five rows of the combined dataset:\\n\", combined_tweets.head())\n",
    "    \n",
    "    # Return the combined Data Frame\n",
    "    return combined_tweets\n",
    "   "
   ]
  },
  {
   "cell_type": "code",
   "execution_count": 48,
   "id": "4e2e595998db8edd",
   "metadata": {
    "ExecuteTime": {
     "end_time": "2023-12-03T01:25:17.627899500Z",
     "start_time": "2023-12-03T01:25:17.615598400Z"
    },
    "collapsed": false
   },
   "outputs": [],
   "source": [
    "def visualize_Data (df):\n",
    "    \"\"\"\n",
    "    Visualizes the distribution of sentiments in the provided DataFrame.\n",
    "\n",
    "    Parameters:\n",
    "    df (pandas.DataFrame): DataFrame containing tweet data.\n",
    "    \"\"\"\n",
    "    \n",
    "    # Grouping by 'category' and counting occurrences\n",
    "    sentiment_counts = df['category'].value_counts()\n",
    "\n",
    "    # Plotting the counts as a bar plot\n",
    "    plt.figure(figsize=(8, 6))\n",
    "    sns.barplot(x=sentiment_counts.index, y=sentiment_counts.values)\n",
    "    \n",
    "    # Setting plot labels and title\n",
    "    plt.xlabel('Category')\n",
    "    plt.ylabel('Number of Tweets')\n",
    "    plt.title('Distribution of Sentiments in Tweet Data')\n",
    "    plt.show()"
   ]
  },
  {
   "cell_type": "code",
   "execution_count": 49,
   "id": "3e447fd62829af31",
   "metadata": {
    "ExecuteTime": {
     "end_time": "2023-12-03T01:25:19.596568300Z",
     "start_time": "2023-12-03T01:25:19.585154800Z"
    },
    "collapsed": false
   },
   "outputs": [],
   "source": [
    "def tweet_to_words(tweet):\n",
    "    \"\"\"\n",
    "    Converts the text from a tweet into a list of words for further use.\n",
    "\n",
    "    Parameters:\n",
    "    tweet: String that forms a tweet to be converted into seperate words.\n",
    "    \"\"\"\n",
    "\n",
    "    # Convert the tweet to lowercase\n",
    "    text = tweet.lower()\n",
    "    # Remove any non letter characters\n",
    "    text = re.sub(r\"[^a-zA-Z0-9]\", \" \", text)\n",
    "    # Tokenize the tweet\n",
    "    words = text.split()\n",
    "    # Remove the stopwords, leaving only words that may indicate sentement \n",
    "    words = [w for w in words if w not in stopwords.words(\"english\")]\n",
    "    # Apply stemming\n",
    "    words = [PorterStemmer().stem(w) for w in words]\n",
    "\n",
    "    return words"
   ]
  },
  {
   "cell_type": "code",
   "execution_count": 50,
   "id": "a925863028ef4a74",
   "metadata": {
    "ExecuteTime": {
     "end_time": "2023-12-03T01:25:21.084849600Z",
     "start_time": "2023-12-03T01:25:21.069514700Z"
    },
    "collapsed": false
   },
   "outputs": [],
   "source": [
    "def preprocessing(df):\n",
    "    \"\"\"\n",
    "    Preprocesses the data in the given DataFrame using tweet_to_words function\n",
    "\n",
    "    Parameters:\n",
    "    df (pandas.DataFrame): DataFrame containing tweet data. \n",
    "    \"\"\"\n",
    "    \n",
    "    # Tracking the start time of the tweet_to_words function\n",
    "    start_time = time.time()\n",
    "\n",
    "    print(\"Running Preprocessing\")\n",
    "    # Apply data preprocessing to each tweet\n",
    "    X = list(map(tweet_to_words, df['clean_text']))\n",
    "\n",
    "    # Calculate End time of tweet_to_words function\n",
    "    end_time = time.time()\n",
    "\n",
    "    # Calculate elapsed time\n",
    "    elapsed_time = end_time - start_time\n",
    "    print(\"Finished Preprocessing\")\n",
    "    print(f\"Elapsed time: {elapsed_time} seconds\")\n",
    "\n",
    "    # Encode target labels\n",
    "    le = LabelEncoder()\n",
    "    Y = le.fit_transform(df['category'])\n",
    "\n",
    "    print(X[0])\n",
    "    print(Y[0])\n",
    "   \n",
    "    return X, Y"
   ]
  },
  {
   "cell_type": "code",
   "execution_count": 51,
   "id": "ddd1244546257223",
   "metadata": {
    "ExecuteTime": {
     "end_time": "2023-12-03T01:25:23.305415300Z",
     "start_time": "2023-12-03T01:25:23.293108500Z"
    },
    "collapsed": false
   },
   "outputs": [],
   "source": [
    "def tokenize_pad_sequences(text, max_words, max_len):\n",
    "    \"\"\"\n",
    "    Tokenize the input text into sequnences of intergers, then pad each sequence to the same length.\n",
    "\n",
    "    Parameters: \n",
    "    text: Dataset containing all the tweets.\n",
    "    max_words: maximum amount of words that can be tokenized \n",
    "    max_len: maximum length of sequences\n",
    "    \"\"\"\n",
    "    \n",
    "    # Text tokenization\n",
    "    tokenizer = Tokenizer(num_words=max_words, lower=True, split=' ')\n",
    "    tokenizer.fit_on_texts(text)\n",
    "    # Transforms text to a sequence of integers\n",
    "    X = tokenizer.texts_to_sequences(text)\n",
    "    # Pad sequences to the same length\n",
    "    X = pad_sequences(X, padding='post', maxlen=max_len)\n",
    "    # return sequences\n",
    "    return X, tokenizer"
   ]
  },
  {
   "cell_type": "code",
   "execution_count": 52,
   "id": "952dbc00e0597664",
   "metadata": {
    "ExecuteTime": {
     "end_time": "2023-12-03T01:25:24.749842900Z",
     "start_time": "2023-12-03T01:25:24.735485400Z"
    },
    "collapsed": false
   },
   "outputs": [],
   "source": [
    "def f1_score(precision, recall):\n",
    "    \"\"\"\n",
    "    Calculate the f1 score.\n",
    "\n",
    "    Parameters:\n",
    "    precision: Precision score from the trained model\n",
    "    recall: Recall score from the trained model\n",
    "    \"\"\"\n",
    "\n",
    "    f1_val = 2 * (precision * recall) / (precision + recall + K.epsilon())\n",
    "    return f1_val"
   ]
  },
  {
   "cell_type": "code",
   "execution_count": 53,
   "id": "3a37f10a462845e3",
   "metadata": {
    "ExecuteTime": {
     "end_time": "2023-12-03T01:26:41.812170700Z",
     "start_time": "2023-12-03T01:25:26.545837100Z"
    },
    "collapsed": false
   },
   "outputs": [
    {
     "name": "stdout",
     "output_type": "stream",
     "text": [
      "Number of missing values in combined dataset:\n",
      " clean_text    4\n",
      "category      7\n",
      "dtype: int64\n",
      "Shape of the combined dataset: (179239, 2)\n",
      "First five rows of the combined dataset:\n",
      "                                           clean_text  category\n",
      "0  when modi promised “minimum government maximum...  Negative\n",
      "1  talk all the nonsense and continue all the dra...   Neutral\n",
      "2  what did just say vote for modi  welcome bjp t...  Positive\n",
      "3  asking his supporters prefix chowkidar their n...  Positive\n",
      "4  answer who among these the most powerful world...  Positive\n"
     ]
    },
    {
     "data": {
      "image/png": "[encoded data removed]",
      "text/plain": [
       "<Figure size 800x600 with 1 Axes>"
      ]
     },
     "metadata": {},
     "output_type": "display_data"
    },
    {
     "name": "stdout",
     "output_type": "stream",
     "text": [
      "Running Preprocessing\n",
      "Finished Preprocessing\n",
      "Elapsed time: 144.50438499450684 seconds\n",
      "['modi', 'promis', 'minimum', 'govern', 'maximum', 'govern', 'expect', 'begin', 'difficult', 'job', 'reform', 'state', 'take', 'year', 'get', 'justic', 'state', 'busi', 'exit', 'psu', 'templ']\n",
      "0\n"
     ]
    }
   ],
   "source": [
    "# Load Datasets\n",
    "df = load_datasets()\n",
    "\n",
    "# Visualize Data\n",
    "visualize_Data(df)\n",
    "\n",
    "# Preprocessing\n",
    "X, Y = preprocessing(df)"
   ]
  },
  {
   "cell_type": "code",
   "execution_count": 54,
   "id": "b6ae55c9113ac5c1",
   "metadata": {
    "ExecuteTime": {
     "end_time": "2023-11-28T21:58:42.515225300Z",
     "start_time": "2023-11-28T21:58:35.426409800Z"
    },
    "collapsed": false
   },
   "outputs": [
    {
     "name": "stderr",
     "output_type": "stream",
     "text": [
      "/opt/homebrew/lib/python3.11/site-packages/sklearn/feature_extraction/text.py:525: UserWarning: The parameter 'token_pattern' will not be used since 'tokenizer' is not None'\n",
      "  warnings.warn(\n"
     ]
    },
    {
     "data": {
      "image/png": "[encoded data removed]",
      "text/plain": [
       "<Figure size 640x480 with 1 Axes>"
      ]
     },
     "metadata": {},
     "output_type": "display_data"
    },
    {
     "name": "stdout",
     "output_type": "stream",
     "text": [
      "Before Tokenization & Padding \n",
      " when modi promised “minimum government maximum governance” expected him begin the difficult job reforming the state why does take years get justice state should and not business and should exit psus and temples\n",
      "After Tokenization & Padding \n",
      " [  41    1  346   72 1888 1161   44 2450    2 1275  219    2  241   31\n",
      "  163  102   53   58 1171  241   50    3    6  534    3   50 3755    3\n",
      " 3041    0    0    0    0    0    0    0    0    0    0    0    0    0\n",
      "    0    0    0    0    0    0    0    0    0    0    0    0    0    0\n",
      "    0    0    0    0    0    0    0    0    0    0    0    0    0    0\n",
      "    0    0    0    0    0    0    0    0    0    0    0    0    0    0\n",
      "    0    0    0    0    0    0    0    0    0    0    0    0    0    0\n",
      "    0    0]\n"
     ]
    }
   ],
   "source": [
    "# ---Tokenizing & Padding---\n",
    "# Train and test split\n",
    "# TODO place these 3 lines in function (Used multiple times)\n",
    "y = pd.get_dummies(df['category'])\n",
    "X_train, X_test, y_train, y_test = train_test_split(X, y, test_size=0.2, random_state=1)\n",
    "X_train, X_val, y_train, y_val = train_test_split(X_train, y_train, test_size=0.25, random_state=1)\n",
    "\n",
    "vocabulary_size = 5000\n",
    "\n",
    "# Tweets have already been preprocessed hence dummy function will be passed in\n",
    "# to preprocessor & tokenizer step\n",
    "count_vector = CountVectorizer(max_features=vocabulary_size,\n",
    "                                   #                               ngram_range=(1,2),    # unigram and bigram\n",
    "                                   preprocessor=lambda x: x,\n",
    "                                   tokenizer=lambda x: x)\n",
    "# tfidf_vector = TfidfVectorizer(lowercase=True, stop_words='english')\n",
    "\n",
    "# Fit the training data\n",
    "X_train = count_vector.fit_transform(X_train).toarray()\n",
    "\n",
    "# Transform testing data\n",
    "X_test = count_vector.transform(X_test).toarray()\n",
    "\n",
    "# Plot the BoW feature vector\n",
    "plt.plot(X_train[2, :])\n",
    "plt.xlabel('Word')\n",
    "plt.ylabel('Count')\n",
    "plt.show()\n",
    "\n",
    "print('Before Tokenization & Padding \\n', df['clean_text'][0])\n",
    "max_words = 5000\n",
    "max_len = 100 # changed from 50 to 100\n",
    "X, tokenizer = tokenize_pad_sequences(df['clean_text'], max_words, max_len)\n",
    "print('After Tokenization & Padding \\n', X[0])"
   ]
  },
  {
   "cell_type": "code",
   "execution_count": 55,
   "id": "80b680a2d28c5806",
   "metadata": {
    "ExecuteTime": {
     "end_time": "2023-11-28T21:58:54.358980300Z",
     "start_time": "2023-11-28T21:58:54.337663800Z"
    },
    "collapsed": false
   },
   "outputs": [
    {
     "data": {
      "text/plain": [
       "'\\nfile_path = \"tokenizer.pickle\"\\n\\nif os.path.exists(file_path):\\n    print(\"Loading tokenizer file\")\\n    # loading\\n    with open(\\'tokenizer.pickle\\', \\'rb\\') as handle:\\n        tokenizer = pickle.load(handle)\\nelse:\\n    print(\"Tokenizer does not exist\")\\n    # saving\\n    with open(\\'tokenizer.pickle\\', \\'wb\\') as handle:\\n        pickle.dump(tokenizer, handle, protocol=pickle.HIGHEST_PROTOCOL)\\n'"
      ]
     },
     "execution_count": 55,
     "metadata": {},
     "output_type": "execute_result"
    }
   ],
   "source": [
    "# TODO Fix Loading Issue\n",
    "'''\n",
    "file_path = \"tokenizer.pickle\"\n",
    "\n",
    "if os.path.exists(file_path):\n",
    "    print(\"Loading tokenizer file\")\n",
    "    # loading\n",
    "    with open('tokenizer.pickle', 'rb') as handle:\n",
    "        tokenizer = pickle.load(handle)\n",
    "else:\n",
    "    print(\"Tokenizer does not exist\")\n",
    "    # saving\n",
    "    with open('tokenizer.pickle', 'wb') as handle:\n",
    "        pickle.dump(tokenizer, handle, protocol=pickle.HIGHEST_PROTOCOL)\n",
    "'''"
   ]
  },
  {
   "cell_type": "code",
   "execution_count": 56,
   "id": "51331e6e1315e77f",
   "metadata": {
    "ExecuteTime": {
     "end_time": "2023-11-28T22:39:02.925206100Z",
     "start_time": "2023-11-28T22:39:02.459023Z"
    },
    "collapsed": false
   },
   "outputs": [
    {
     "name": "stderr",
     "output_type": "stream",
     "text": [
      "WARNING:absl:At this time, the v2.11+ optimizer `tf.keras.optimizers.SGD` runs slowly on M1/M2 Macs, please use the legacy Keras optimizer instead, located at `tf.keras.optimizers.legacy.SGD`.\n",
      "WARNING:absl:`lr` is deprecated in Keras optimizer, please use `learning_rate` or use the legacy optimizer, e.g.,tf.keras.optimizers.legacy.SGD.\n"
     ]
    },
    {
     "name": "stdout",
     "output_type": "stream",
     "text": [
      "Train Set -> (107543, 100) (107543, 3)\n",
      "Validation Set -> (35848, 100) (35848, 3)\n",
      "Test Set -> (35848, 100) (35848, 3)\n",
      "You must install pydot (`pip install pydot`) and install graphviz (see instructions at https://graphviz.gitlab.io/download/) for plot_model to work.\n",
      "Model: \"sequential_1\"\n",
      "_________________________________________________________________\n",
      " Layer (type)                Output Shape              Param #   \n",
      "=================================================================\n",
      " embedding_1 (Embedding)     (None, 100, 64)           320000    \n",
      "                                                                 \n",
      " conv1d_1 (Conv1D)           (None, 100, 32)           6176      \n",
      "                                                                 \n",
      " max_pooling1d_1 (MaxPoolin  (None, 50, 32)            0         \n",
      " g1D)                                                            \n",
      "                                                                 \n",
      " bidirectional_1 (Bidirecti  (None, 64)                16640     \n",
      " onal)                                                           \n",
      "                                                                 \n",
      " dropout_1 (Dropout)         (None, 64)                0         \n",
      "                                                                 \n",
      " dense_1 (Dense)             (None, 3)                 195       \n",
      "                                                                 \n",
      "=================================================================\n",
      "Total params: 343011 (1.31 MB)\n",
      "Trainable params: 343011 (1.31 MB)\n",
      "Non-trainable params: 0 (0.00 Byte)\n",
      "_________________________________________________________________\n",
      "None\n"
     ]
    }
   ],
   "source": [
    "# ---BuildModel---\n",
    "y = pd.get_dummies(df['category'])\n",
    "X_train, X_test, y_train, y_test = train_test_split(X, y, test_size=0.2, random_state=1)\n",
    "X_train, X_val, y_train, y_val = train_test_split(X_train, y_train, test_size=0.25, random_state=1)\n",
    "print('Train Set ->', X_train.shape, y_train.shape)\n",
    "print('Validation Set ->', X_val.shape, y_val.shape)\n",
    "print('Test Set ->', X_test.shape, y_test.shape)\n",
    "\n",
    "vocab_size = 5000\n",
    "embedding_size = 64 # changed from 32 to 64\n",
    "epochs = 20\n",
    "learning_rate = 0.01\n",
    "decay_rate = learning_rate / epochs\n",
    "momentum = 0.8\n",
    "\n",
    "# Removed decay rate\n",
    "# decay=decay_rate,\n",
    "sgd = SGD(lr=learning_rate, momentum=momentum, nesterov=False)\n",
    "\n",
    "# Build model\n",
    "model = Sequential()\n",
    "model.add(Embedding(vocab_size, embedding_size, input_length=max_len))\n",
    "model.add(Conv1D(filters=32, kernel_size=3, padding='same', activation='relu'))\n",
    "model.add(MaxPooling1D(pool_size=2))\n",
    "model.add(Bidirectional(LSTM(32)))\n",
    "model.add(Dropout(0.4))\n",
    "model.add(Dense(3, activation='softmax'))\n",
    "\n",
    "tf.keras.utils.plot_model(model, show_shapes=True)\n",
    "\n",
    "print(model.summary())"
   ]
  },
  {
   "cell_type": "code",
   "execution_count": 57,
   "id": "7821a804ca504005",
   "metadata": {
    "ExecuteTime": {
     "end_time": "2023-11-28T22:39:05.859548500Z",
     "start_time": "2023-11-28T22:39:05.843304400Z"
    },
    "collapsed": false
   },
   "outputs": [],
   "source": [
    "# Compile model\n",
    "model.compile(loss='categorical_crossentropy', optimizer=sgd, metrics=['accuracy', Precision(), Recall()])"
   ]
  },
  {
   "cell_type": "code",
   "execution_count": 58,
   "id": "dab8b2c1ee022fc8",
   "metadata": {
    "ExecuteTime": {
     "end_time": "2023-11-28T22:43:39.761038800Z",
     "start_time": "2023-11-28T22:39:07.403514Z"
    },
    "collapsed": false
   },
   "outputs": [
    {
     "name": "stdout",
     "output_type": "stream",
     "text": [
      "Epoch 1/20\n",
      "1681/1681 [==============================] - 20s 11ms/step - loss: 1.0120 - accuracy: 0.4913 - precision_1: 0.5659 - recall_1: 0.2043 - val_loss: 0.9891 - val_accuracy: 0.5100 - val_precision_1: 0.5955 - val_recall_1: 0.2581\n",
      "Epoch 2/20\n",
      "1681/1681 [==============================] - 19s 11ms/step - loss: 0.9672 - accuracy: 0.5232 - precision_1: 0.5978 - recall_1: 0.2972 - val_loss: 0.8902 - val_accuracy: 0.5895 - val_precision_1: 0.6802 - val_recall_1: 0.3667\n",
      "Epoch 3/20\n",
      "1681/1681 [==============================] - 21s 12ms/step - loss: 0.7326 - accuracy: 0.6813 - precision_1: 0.7383 - recall_1: 0.5901 - val_loss: 0.5487 - val_accuracy: 0.7819 - val_precision_1: 0.8095 - val_recall_1: 0.7509\n",
      "Epoch 4/20\n",
      "1681/1681 [==============================] - 20s 12ms/step - loss: 0.4962 - accuracy: 0.8265 - precision_1: 0.8458 - recall_1: 0.8017 - val_loss: 0.3761 - val_accuracy: 0.8869 - val_precision_1: 0.8962 - val_recall_1: 0.8739\n",
      "Epoch 5/20\n",
      "1681/1681 [==============================] - 20s 12ms/step - loss: 0.3448 - accuracy: 0.8964 - precision_1: 0.9027 - recall_1: 0.8881 - val_loss: 0.3488 - val_accuracy: 0.8898 - val_precision_1: 0.8950 - val_recall_1: 0.8828\n",
      "Epoch 6/20\n",
      "1681/1681 [==============================] - 20s 12ms/step - loss: 0.2993 - accuracy: 0.9135 - precision_1: 0.9181 - recall_1: 0.9080 - val_loss: 0.2797 - val_accuracy: 0.9170 - val_precision_1: 0.9211 - val_recall_1: 0.9131\n",
      "Epoch 7/20\n",
      "1681/1681 [==============================] - 20s 12ms/step - loss: 0.2770 - accuracy: 0.9201 - precision_1: 0.9242 - recall_1: 0.9155 - val_loss: 0.2731 - val_accuracy: 0.9197 - val_precision_1: 0.9224 - val_recall_1: 0.9153\n",
      "Epoch 8/20\n",
      "1681/1681 [==============================] - 20s 12ms/step - loss: 0.2657 - accuracy: 0.9240 - precision_1: 0.9286 - recall_1: 0.9194 - val_loss: 0.2698 - val_accuracy: 0.9188 - val_precision_1: 0.9227 - val_recall_1: 0.9147\n",
      "Epoch 9/20\n",
      "1681/1681 [==============================] - 20s 12ms/step - loss: 0.2542 - accuracy: 0.9281 - precision_1: 0.9323 - recall_1: 0.9231 - val_loss: 0.2672 - val_accuracy: 0.9211 - val_precision_1: 0.9244 - val_recall_1: 0.9174\n",
      "Epoch 10/20\n",
      "1681/1681 [==============================] - 20s 12ms/step - loss: 0.2475 - accuracy: 0.9301 - precision_1: 0.9343 - recall_1: 0.9259 - val_loss: 0.2707 - val_accuracy: 0.9164 - val_precision_1: 0.9212 - val_recall_1: 0.9127\n",
      "Epoch 11/20\n",
      "1681/1681 [==============================] - 20s 12ms/step - loss: 0.2395 - accuracy: 0.9321 - precision_1: 0.9363 - recall_1: 0.9277 - val_loss: 0.2649 - val_accuracy: 0.9222 - val_precision_1: 0.9258 - val_recall_1: 0.9177\n",
      "Epoch 12/20\n",
      "1681/1681 [==============================] - 21s 12ms/step - loss: 0.2349 - accuracy: 0.9336 - precision_1: 0.9379 - recall_1: 0.9296 - val_loss: 0.2622 - val_accuracy: 0.9200 - val_precision_1: 0.9244 - val_recall_1: 0.9160\n",
      "Epoch 13/20\n",
      "1681/1681 [==============================] - 21s 12ms/step - loss: 0.2275 - accuracy: 0.9356 - precision_1: 0.9396 - recall_1: 0.9314 - val_loss: 0.2595 - val_accuracy: 0.9215 - val_precision_1: 0.9259 - val_recall_1: 0.9177\n",
      "Epoch 14/20\n",
      "1681/1681 [==============================] - 21s 12ms/step - loss: 0.2233 - accuracy: 0.9363 - precision_1: 0.9410 - recall_1: 0.9323 - val_loss: 0.2577 - val_accuracy: 0.9223 - val_precision_1: 0.9274 - val_recall_1: 0.9180\n",
      "Epoch 15/20\n",
      "1681/1681 [==============================] - 21s 12ms/step - loss: 0.2148 - accuracy: 0.9390 - precision_1: 0.9435 - recall_1: 0.9344 - val_loss: 0.2668 - val_accuracy: 0.9214 - val_precision_1: 0.9253 - val_recall_1: 0.9172\n",
      "Epoch 16/20\n",
      "1681/1681 [==============================] - 21s 12ms/step - loss: 0.2105 - accuracy: 0.9403 - precision_1: 0.9447 - recall_1: 0.9354 - val_loss: 0.2645 - val_accuracy: 0.9225 - val_precision_1: 0.9276 - val_recall_1: 0.9184\n",
      "Epoch 17/20\n",
      "1681/1681 [==============================] - 363s 216ms/step - loss: 0.2056 - accuracy: 0.9413 - precision_1: 0.9461 - recall_1: 0.9369 - val_loss: 0.2661 - val_accuracy: 0.9187 - val_precision_1: 0.9240 - val_recall_1: 0.9129\n",
      "Epoch 18/20\n",
      "1681/1681 [==============================] - 20s 12ms/step - loss: 0.2000 - accuracy: 0.9426 - precision_1: 0.9480 - recall_1: 0.9378 - val_loss: 0.2542 - val_accuracy: 0.9236 - val_precision_1: 0.9288 - val_recall_1: 0.9189\n",
      "Epoch 19/20\n",
      "1681/1681 [==============================] - 20s 12ms/step - loss: 0.1941 - accuracy: 0.9441 - precision_1: 0.9490 - recall_1: 0.9390 - val_loss: 0.2637 - val_accuracy: 0.9240 - val_precision_1: 0.9288 - val_recall_1: 0.9192\n",
      "Epoch 20/20\n",
      "1681/1681 [==============================] - 20s 12ms/step - loss: 0.1898 - accuracy: 0.9450 - precision_1: 0.9503 - recall_1: 0.9397 - val_loss: 0.2639 - val_accuracy: 0.9200 - val_precision_1: 0.9264 - val_recall_1: 0.9147\n"
     ]
    }
   ],
   "source": [
    " # Train model\n",
    "batch_size = 64\n",
    "history = model.fit(X_train, y_train, validation_data=(X_val, y_val), batch_size=batch_size, epochs=epochs, verbose=1)"
   ]
  },
  {
   "cell_type": "code",
   "execution_count": 59,
   "id": "939991392310a84d",
   "metadata": {
    "ExecuteTime": {
     "end_time": "2023-11-28T22:44:48.276185200Z",
     "start_time": "2023-11-28T22:44:45.985004800Z"
    },
    "collapsed": false
   },
   "outputs": [
    {
     "name": "stdout",
     "output_type": "stream",
     "text": [
      "\n",
      "Accuracy  : 0.9182\n",
      "Precision : 0.9240\n",
      "Recall    : 0.9115\n",
      "F1 Score  : 0.9178\n"
     ]
    }
   ],
   "source": [
    "# Evaluate model on the test set\n",
    "loss, accuracy, precision, recall = model.evaluate(X_test, y_test, verbose=0)\n",
    "# Print metrics\n",
    "print('')\n",
    "print('Accuracy  : {:.4f}'.format(accuracy))\n",
    "print('Precision : {:.4f}'.format(precision))\n",
    "print('Recall    : {:.4f}'.format(recall))\n",
    "print('F1 Score  : {:.4f}'.format(f1_score(precision, recall)))"
   ]
  },
  {
   "cell_type": "code",
   "execution_count": 60,
   "id": "15fa09e239d37fa6",
   "metadata": {
    "ExecuteTime": {
     "end_time": "2023-11-28T22:11:11.111056900Z",
     "start_time": "2023-11-28T22:11:10.857776Z"
    },
    "collapsed": false
   },
   "outputs": [
    {
     "data": {
      "image/png": "[encoded data removed]",
      "text/plain": [
       "<Figure size 1000x400 with 2 Axes>"
      ]
     },
     "metadata": {},
     "output_type": "display_data"
    }
   ],
   "source": [
    "def plot_training_hist(history):\n",
    "    '''Function to plot history for accuracy and loss'''\n",
    "    \n",
    "    fig, ax = plt.subplots(1, 2, figsize=(10,4))\n",
    "    # first plot\n",
    "    ax[0].plot(history.history['accuracy'])\n",
    "    ax[0].plot(history.history['val_accuracy'])\n",
    "    ax[0].set_title('Model Accuracy')\n",
    "    ax[0].set_xlabel('epoch')\n",
    "    ax[0].set_ylabel('accuracy')\n",
    "    ax[0].legend(['train', 'validation'], loc='best')\n",
    "    # second plot\n",
    "    ax[1].plot(history.history['loss'])\n",
    "    ax[1].plot(history.history['val_loss'])\n",
    "    ax[1].set_title('Model Loss')\n",
    "    ax[1].set_xlabel('epoch')\n",
    "    ax[1].set_ylabel('loss')\n",
    "    ax[1].legend(['train', 'validation'], loc='best')\n",
    "    \n",
    "plot_training_hist(history)"
   ]
  },
  {
   "cell_type": "code",
   "execution_count": 61,
   "id": "a7d14f0df94f3ef3",
   "metadata": {
    "ExecuteTime": {
     "end_time": "2023-11-28T22:12:23.937406700Z",
     "start_time": "2023-11-28T22:12:21.360936300Z"
    },
    "collapsed": false
   },
   "outputs": [
    {
     "name": "stdout",
     "output_type": "stream",
     "text": [
      "1121/1121 [==============================] - 3s 2ms/step\n"
     ]
    },
    {
     "data": {
      "image/png": "[encoded data removed]",
      "text/plain": [
       "<Figure size 800x600 with 2 Axes>"
      ]
     },
     "metadata": {},
     "output_type": "display_data"
    }
   ],
   "source": [
    "from sklearn.metrics import confusion_matrix\n",
    "\n",
    "def plot_confusion_matrix(model, X_test, y_test):\n",
    "    '''Function to plot confusion matrix for the passed model and the data'''\n",
    "    \n",
    "    sentiment_classes = ['Negative', 'Neutral', 'Positive']\n",
    "    # use model to do the prediction\n",
    "    y_pred = model.predict(X_test)\n",
    "    # compute confusion matrix\n",
    "    cm = confusion_matrix(np.argmax(np.array(y_test),axis=1), np.argmax(y_pred, axis=1))\n",
    "    # plot confusion matrix\n",
    "    plt.figure(figsize=(8,6))\n",
    "    sns.heatmap(cm, cmap=plt.cm.Blues, annot=True, fmt='d', \n",
    "                xticklabels=sentiment_classes,\n",
    "                yticklabels=sentiment_classes)\n",
    "    plt.title('Confusion matrix', fontsize=16)\n",
    "    plt.xlabel('Actual label', fontsize=12)\n",
    "    plt.ylabel('Predicted label', fontsize=12)\n",
    "    \n",
    "plot_confusion_matrix(model, X_test, y_test)"
   ]
  }
 ],
 "metadata": {
  "kernelspec": {
   "display_name": "Python 3",
   "language": "python",
   "name": "python3"
  },
  "language_info": {
   "codemirror_mode": {
    "name": "ipython",
    "version": 3
   },
   "file_extension": ".py",
   "mimetype": "text/x-python",
   "name": "python",
   "nbconvert_exporter": "python",
   "pygments_lexer": "ipython3",
   "version": "3.11.6"
  }
 },
 "nbformat": 4,
 "nbformat_minor": 5
}
