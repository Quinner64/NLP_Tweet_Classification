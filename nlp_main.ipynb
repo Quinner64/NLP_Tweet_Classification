{
 "cells": [
  {
   "cell_type": "markdown",
   "id": "849176a839229329",
   "metadata": {
    "collapsed": false
   },
   "source": [
    "## CMPE/CISC 452 NLP Text Classification\n",
    "##### Hayden Murphy\n",
    "##### Liam Seagram\n",
    "##### Taylor Fiorelli\n",
    "##### Andrew Mun-Shimoda"
   ]
  },
  {
   "cell_type": "code",
   "execution_count": 16,
   "id": "d7523af2c3627bab",
   "metadata": {
    "ExecuteTime": {
     "end_time": "2023-12-06T22:06:16.700837100Z",
     "start_time": "2023-12-06T22:06:16.676200500Z"
    },
    "collapsed": false
   },
   "outputs": [],
   "source": [
    "# Data Visualization\n",
    "import pandas as pd\n",
    "import matplotlib.pyplot as plt\n",
    "import numpy as np\n",
    "from sklearn.metrics import confusion_matrix"
   ]
  },
  {
   "cell_type": "code",
   "execution_count": 17,
   "id": "cd718a926474c55a",
   "metadata": {
    "ExecuteTime": {
     "end_time": "2023-12-06T22:06:16.734001500Z",
     "start_time": "2023-12-06T22:06:16.679841500Z"
    },
    "collapsed": false
   },
   "outputs": [
    {
     "name": "stderr",
     "output_type": "stream",
     "text": [
      "[nltk_data] Downloading package stopwords to C:\\Users\\Hayden\n",
      "[nltk_data]     Murphy\\AppData\\Roaming\\nltk_data...\n",
      "[nltk_data]   Package stopwords is already up-to-date!\n"
     ]
    }
   ],
   "source": [
    "# Preprocessing Imports\n",
    "import re    # RegEx for removing non-letter characters\n",
    "import nltk  # natural language processing\n",
    "\n",
    "nltk.download(\"stopwords\")\n",
    "from nltk.corpus import stopwords\n",
    "from nltk.stem.porter import *\n",
    "from sklearn.feature_extraction.text import CountVectorizer\n",
    "import time"
   ]
  },
  {
   "cell_type": "code",
   "execution_count": 18,
   "id": "7ab75522ecefdc18",
   "metadata": {
    "ExecuteTime": {
     "end_time": "2023-12-06T22:06:16.735004900Z",
     "start_time": "2023-12-06T22:06:16.694740400Z"
    },
    "collapsed": false
   },
   "outputs": [],
   "source": [
    "# Tokenizing & Padding Imports\n",
    "from keras.preprocessing.text import Tokenizer\n",
    "from keras.preprocessing.sequence import pad_sequences"
   ]
  },
  {
   "cell_type": "code",
   "execution_count": 19,
   "id": "d757e3687fe43eb4",
   "metadata": {
    "ExecuteTime": {
     "end_time": "2023-12-06T22:06:16.736016400Z",
     "start_time": "2023-12-06T22:06:16.710077500Z"
    },
    "collapsed": false
   },
   "outputs": [],
   "source": [
    "# For Building the model imports\n",
    "from sklearn.model_selection import train_test_split\n",
    "import tensorflow as tf\n",
    "import seaborn as sns\n",
    "import keras.backend as K"
   ]
  },
  {
   "cell_type": "code",
   "execution_count": 20,
   "id": "c54688b2b1a67931",
   "metadata": {
    "ExecuteTime": {
     "end_time": "2023-12-06T22:06:16.747315300Z",
     "start_time": "2023-12-06T22:06:16.728860600Z"
    },
    "collapsed": false
   },
   "outputs": [],
   "source": [
    "# Bidirectional LSTM Using NN\n",
    "from keras.models import Sequential\n",
    "from keras.layers import Embedding, Conv1D, MaxPooling1D, Bidirectional, LSTM, Dense, Dropout\n",
    "from keras.metrics import Precision, Recall\n",
    "from keras.optimizers import SGD\n",
    "from keras.models import load_model"
   ]
  },
  {
   "cell_type": "code",
   "execution_count": 21,
   "id": "22eb489649c1f49d",
   "metadata": {
    "ExecuteTime": {
     "end_time": "2023-12-06T22:06:16.766399800Z",
     "start_time": "2023-12-06T22:06:16.745781600Z"
    },
    "collapsed": false
   },
   "outputs": [],
   "source": [
    "# Completed by Hayden & Taylor, collaboratively \n",
    "def load_datasets():\n",
    "    \"\"\"\n",
    "    Loads the datasets and combines them into one dataframe\n",
    "\n",
    "    Parameters:\n",
    "    none\n",
    "    \"\"\"\n",
    "    # Load Mobi Tweet dataset\n",
    "    mobi_tweets = pd.read_csv('dataset/Twitter_Data.csv')\n",
    "    \n",
    "    # Load Apple Tweet dataset\n",
    "    apple_tweets = pd.read_csv('dataset/apple-twitter-sentiment-texts.csv')\n",
    "    apple_tweets = apple_tweets.rename(columns={'text': 'clean_text', 'sentiment': 'category'})\n",
    "    apple_tweets['category'] = apple_tweets['category'].map({-1: -1.0, 0: 0.0, 1: 1.0})\n",
    "    \n",
    "    # Load Airplane Tweet dataset\n",
    "    airplane_tweets = pd.read_csv('dataset/Tweets.csv')\n",
    "    airplane_tweets = airplane_tweets.rename(columns={'text': 'clean_text', 'airline_sentiment': 'category'})\n",
    "    airplane_tweets['category'] = airplane_tweets['category'].map({'negative': -1.0, 'neutral': 0.0, 'positive': 1.0})\n",
    "    airplane_tweets = airplane_tweets[['category', 'clean_text']]\n",
    "    \n",
    "    # Combine datasets\n",
    "    combined_tweets = pd.concat([mobi_tweets, apple_tweets, airplane_tweets], ignore_index=True)\n",
    "    \n",
    "    # Check for missing values\n",
    "    print(\"Number of missing values in combined dataset:\\n\", combined_tweets.isnull().sum())\n",
    "    \n",
    "    # Drop missing rows\n",
    "    combined_tweets.dropna(axis=0, inplace=True)\n",
    "    \n",
    "    # Print the shape of the dataset\n",
    "    print(\"Shape of the combined dataset:\", combined_tweets.shape)\n",
    "    \n",
    "    # Map tweet categories\n",
    "    combined_tweets['category'] = combined_tweets['category'].map({-1.0: 'Negative', 0.0: 'Neutral', 1.0: 'Positive'})\n",
    "    \n",
    "    # Output first five rows\n",
    "    print(\"First five rows of the combined dataset:\\n\", combined_tweets.head())\n",
    "    \n",
    "    # Return the combined Data Frame\n",
    "    return combined_tweets\n",
    "   "
   ]
  },
  {
   "cell_type": "code",
   "execution_count": 22,
   "id": "4e2e595998db8edd",
   "metadata": {
    "ExecuteTime": {
     "end_time": "2023-12-06T22:06:16.773030700Z",
     "start_time": "2023-12-06T22:06:16.758045500Z"
    },
    "collapsed": false
   },
   "outputs": [],
   "source": [
    "# Completed by Hayden\n",
    "def visualize_Data (df):\n",
    "    \"\"\"\n",
    "    Visualizes the distribution of sentiments in the provided DataFrame.\n",
    "\n",
    "    Parameters:\n",
    "    df (pandas.DataFrame): DataFrame containing tweet data.\n",
    "    \"\"\"\n",
    "    \n",
    "    # Grouping by 'category' and counting occurrences\n",
    "    sentiment_counts = df['category'].value_counts()\n",
    "\n",
    "    # Plotting the counts as a bar plot\n",
    "    plt.figure(figsize=(8, 6))\n",
    "    sns.barplot(x=sentiment_counts.index, y=sentiment_counts.values)\n",
    "    \n",
    "    # Setting plot labels and title\n",
    "    plt.xlabel('Category')\n",
    "    plt.ylabel('Number of Tweets')\n",
    "    plt.title('Distribution of Sentiments in Tweet Data')\n",
    "    plt.show()"
   ]
  },
  {
   "cell_type": "code",
   "execution_count": 23,
   "id": "3e447fd62829af31",
   "metadata": {
    "ExecuteTime": {
     "end_time": "2023-12-06T22:06:16.797026Z",
     "start_time": "2023-12-06T22:06:16.775063900Z"
    },
    "collapsed": false
   },
   "outputs": [],
   "source": [
    "# Completed by Liam\n",
    "def tweet_to_words(tweet):\n",
    "    \"\"\"\n",
    "    Converts the text from a tweet into a list of words for further use.\n",
    "\n",
    "    Parameters:\n",
    "    tweet: String that forms a tweet to be converted into seperate words.\n",
    "    \"\"\"\n",
    "\n",
    "    # Convert the tweet to lowercase\n",
    "    text = tweet.lower()\n",
    "    # Remove any non letter characters\n",
    "    text = re.sub(r\"[^a-zA-Z0-9]\", \" \", text)\n",
    "    # Tokenize the tweet\n",
    "    words = text.split()\n",
    "    # Remove the stopwords, leaving only words that may indicate sentement \n",
    "    words = [w for w in words if w not in stopwords.words(\"english\")]\n",
    "    # Apply stemming\n",
    "    words = [PorterStemmer().stem(w) for w in words]\n",
    "\n",
    "    return words"
   ]
  },
  {
   "cell_type": "code",
   "execution_count": 24,
   "id": "a925863028ef4a74",
   "metadata": {
    "ExecuteTime": {
     "end_time": "2023-12-06T22:06:16.822837500Z",
     "start_time": "2023-12-06T22:06:16.798532400Z"
    },
    "collapsed": false
   },
   "outputs": [],
   "source": [
    "# Completed by Liam & Hayden, collaboratively\n",
    "def preprocessing(df):\n",
    "    \"\"\"\n",
    "    Preprocesses the data in the given DataFrame using tweet_to_words function\n",
    "\n",
    "    Parameters:\n",
    "    df (pandas.DataFrame): DataFrame containing tweet data. \n",
    "    \"\"\"\n",
    "    \n",
    "    # Tracking the start time of the tweet_to_words function\n",
    "    start_time = time.time()\n",
    "\n",
    "    print(\"Running Preprocessing\")\n",
    "    # Apply data preprocessing to each tweet\n",
    "    X = list(map(tweet_to_words, df['clean_text']))\n",
    "\n",
    "    # Calculate End time of tweet_to_words function\n",
    "    end_time = time.time()\n",
    "\n",
    "    # Calculate elapsed time\n",
    "    elapsed_time = end_time - start_time\n",
    "    print(\"Finished Preprocessing\")\n",
    "    print(f\"Elapsed time: {elapsed_time} seconds\")\n",
    "\n",
    "    print(X[0])\n",
    "   \n",
    "    return X"
   ]
  },
  {
   "cell_type": "code",
   "execution_count": 25,
   "id": "3a37f10a462845e3",
   "metadata": {
    "ExecuteTime": {
     "end_time": "2023-12-06T22:15:46.317212100Z",
     "start_time": "2023-12-06T22:06:16.823842900Z"
    },
    "collapsed": false
   },
   "outputs": [
    {
     "name": "stdout",
     "output_type": "stream",
     "text": [
      "Number of missing values in combined dataset:\n",
      " clean_text    4\n",
      "category      7\n",
      "dtype: int64\n",
      "Shape of the combined dataset: (179239, 2)\n",
      "First five rows of the combined dataset:\n",
      "                                           clean_text  category\n",
      "0  when modi promised “minimum government maximum...  Negative\n",
      "1  talk all the nonsense and continue all the dra...   Neutral\n",
      "2  what did just say vote for modi  welcome bjp t...  Positive\n",
      "3  asking his supporters prefix chowkidar their n...  Positive\n",
      "4  answer who among these the most powerful world...  Positive\n"
     ]
    },
    {
     "name": "stderr",
     "output_type": "stream",
     "text": [
      "G:\\Conda\\envs\\school\\Lib\\site-packages\\seaborn\\_oldcore.py:1498: FutureWarning: is_categorical_dtype is deprecated and will be removed in a future version. Use isinstance(dtype, CategoricalDtype) instead\n",
      "  if pd.api.types.is_categorical_dtype(vector):\n",
      "G:\\Conda\\envs\\school\\Lib\\site-packages\\seaborn\\_oldcore.py:1498: FutureWarning: is_categorical_dtype is deprecated and will be removed in a future version. Use isinstance(dtype, CategoricalDtype) instead\n",
      "  if pd.api.types.is_categorical_dtype(vector):\n",
      "G:\\Conda\\envs\\school\\Lib\\site-packages\\seaborn\\_oldcore.py:1498: FutureWarning: is_categorical_dtype is deprecated and will be removed in a future version. Use isinstance(dtype, CategoricalDtype) instead\n",
      "  if pd.api.types.is_categorical_dtype(vector):\n"
     ]
    },
    {
     "data": {
      "image/png": "[encoded data removed]",
      "text/plain": [
       "<Figure size 800x600 with 1 Axes>"
      ]
     },
     "metadata": {},
     "output_type": "display_data"
    },
    {
     "name": "stdout",
     "output_type": "stream",
     "text": [
      "Running Preprocessing\n",
      "Finished Preprocessing\n",
      "Elapsed time: 569.0607223510742 seconds\n",
      "['modi', 'promis', 'minimum', 'govern', 'maximum', 'govern', 'expect', 'begin', 'difficult', 'job', 'reform', 'state', 'take', 'year', 'get', 'justic', 'state', 'busi', 'exit', 'psu', 'templ']\n"
     ]
    }
   ],
   "source": [
    "# Load Datasets\n",
    "df = load_datasets()\n",
    "\n",
    "# Visualize Data\n",
    "visualize_Data(df)\n",
    "\n",
    "# Preprocessing\n",
    "X = preprocessing(df)"
   ]
  },
  {
   "cell_type": "code",
   "execution_count": 26,
   "id": "d2c6963b1ba22343",
   "metadata": {
    "ExecuteTime": {
     "end_time": "2023-12-06T22:15:46.317212100Z",
     "start_time": "2023-12-06T22:15:46.309586900Z"
    }
   },
   "outputs": [],
   "source": [
    "# Completed by Andrew & Liam, Collaboratively\n",
    "def tokenize_pad_sequences(text, max_words, max_len):\n",
    "    \"\"\"\n",
    "    Tokenize the input text into sequnences of intergers, then pad each sequence to the same length.\n",
    "\n",
    "    Parameters: \n",
    "    text: Dataset containing all the tweets.\n",
    "    max_words: maximum amount of words that can be tokenized \n",
    "    max_len: maximum length of sequences\n",
    "    \"\"\"\n",
    "    \n",
    "    # Text tokenization\n",
    "    tokenizer = Tokenizer(num_words=max_words, lower=True, split=' ')\n",
    "    tokenizer.fit_on_texts(text)\n",
    "    # Transforms text to a sequence of integers\n",
    "    X = tokenizer.texts_to_sequences(text)\n",
    "    # Pad sequences to the same length\n",
    "    X = pad_sequences(X, padding='post', maxlen=max_len)\n",
    "    # return sequences\n",
    "    return X, tokenizer"
   ]
  },
  {
   "cell_type": "code",
   "execution_count": 27,
   "id": "b6ae55c9113ac5c1",
   "metadata": {
    "ExecuteTime": {
     "end_time": "2023-12-06T22:15:52.231604800Z",
     "start_time": "2023-12-06T22:15:46.315706700Z"
    },
    "collapsed": false
   },
   "outputs": [
    {
     "name": "stderr",
     "output_type": "stream",
     "text": [
      "G:\\Conda\\envs\\school\\Lib\\site-packages\\sklearn\\feature_extraction\\text.py:528: UserWarning: The parameter 'token_pattern' will not be used since 'tokenizer' is not None'\n",
      "  warnings.warn(\n"
     ]
    },
    {
     "data": {
      "image/png": "[encoded data removed]",
      "text/plain": [
       "<Figure size 640x480 with 1 Axes>"
      ]
     },
     "metadata": {},
     "output_type": "display_data"
    },
    {
     "name": "stdout",
     "output_type": "stream",
     "text": [
      "Before Tokenization & Padding \n",
      " ['modi', 'promis', 'minimum', 'govern', 'maximum', 'govern', 'expect', 'begin', 'difficult', 'job', 'reform', 'state', 'take', 'year', 'get', 'justic', 'state', 'busi', 'exit', 'psu', 'templ']\n",
      "After Tokenization & Padding \n",
      " [   1   63  758   27 1631   27  273  920 1143   61 1273  123   28   17\n",
      "   15 1047  123  250 2728 2791 1189    0    0    0    0    0    0    0\n",
      "    0    0    0    0    0    0    0    0    0    0    0    0    0    0\n",
      "    0    0    0    0    0    0    0    0    0    0    0    0    0    0\n",
      "    0    0    0    0    0    0    0    0    0    0    0    0    0    0\n",
      "    0    0    0    0    0    0    0    0    0    0    0    0    0    0\n",
      "    0    0    0    0    0    0    0    0    0    0    0    0    0    0\n",
      "    0    0]\n"
     ]
    }
   ],
   "source": [
    "# Completed by Hayden & Andrew, Collaboratively\n",
    "\"\"\"\n",
    "Tokenizing & Padding the data to prepare it to train the model.\n",
    "\n",
    "\"\"\"\n",
    "# Train and test split\n",
    "y = pd.get_dummies(df['category'])\n",
    "X_train, X_test, y_train, y_test = train_test_split(X, y, test_size=0.2, random_state=1)\n",
    "X_train, X_val, y_train, y_val = train_test_split(X_train, y_train, test_size=0.25, random_state=1)\n",
    "\n",
    "vocabulary_size = 5000\n",
    "\n",
    "# Tweets have already been preprocessed hence dummy function will be passed into preprocessor & tokenizer step\n",
    "count_vector = CountVectorizer(max_features=vocabulary_size, preprocessor=lambda x: x, tokenizer=lambda x: x)\n",
    "\n",
    "# Fit the training data\n",
    "X_train = count_vector.fit_transform(X_train).toarray()\n",
    "\n",
    "# Transform testing data\n",
    "X_test = count_vector.transform(X_test).toarray()\n",
    "\n",
    "# Plot the BoW feature vector\n",
    "plt.plot(X_train[2, :])\n",
    "plt.xlabel('Word')\n",
    "plt.ylabel('Count')\n",
    "plt.show()\n",
    "\n",
    "print('Before Tokenization & Padding \\n', X[0])\n",
    "max_words = 5000\n",
    "max_len = 100 # changed from 50 to 100\n",
    "X, tokenizer = tokenize_pad_sequences(X, max_words, max_len)\n",
    "print('After Tokenization & Padding \\n', X[0])"
   ]
  },
  {
   "cell_type": "code",
   "execution_count": 28,
   "id": "51331e6e1315e77f",
   "metadata": {
    "ExecuteTime": {
     "end_time": "2023-12-06T22:15:53.187190Z",
     "start_time": "2023-12-06T22:15:52.224465300Z"
    },
    "collapsed": false
   },
   "outputs": [
    {
     "name": "stderr",
     "output_type": "stream",
     "text": [
      "WARNING:absl:`lr` is deprecated in Keras optimizer, please use `learning_rate` or use the legacy optimizer, e.g.,tf.keras.optimizers.legacy.SGD.\n"
     ]
    },
    {
     "name": "stdout",
     "output_type": "stream",
     "text": [
      "Train Set -> (107543, 100) (107543, 3)\n",
      "Validation Set -> (35848, 100) (35848, 3)\n",
      "Test Set -> (35848, 100) (35848, 3)\n",
      "You must install pydot (`pip install pydot`) and install graphviz (see instructions at https://graphviz.gitlab.io/download/) for plot_model to work.\n",
      "Model: \"sequential_1\"\n",
      "_________________________________________________________________\n",
      " Layer (type)                Output Shape              Param #   \n",
      "=================================================================\n",
      " embedding_1 (Embedding)     (None, 100, 64)           320000    \n",
      "                                                                 \n",
      " conv1d_1 (Conv1D)           (None, 100, 32)           6176      \n",
      "                                                                 \n",
      " max_pooling1d_1 (MaxPoolin  (None, 50, 32)            0         \n",
      " g1D)                                                            \n",
      "                                                                 \n",
      " bidirectional_1 (Bidirecti  (None, 64)                16640     \n",
      " onal)                                                           \n",
      "                                                                 \n",
      " dropout_1 (Dropout)         (None, 64)                0         \n",
      "                                                                 \n",
      " dense_1 (Dense)             (None, 3)                 195       \n",
      "                                                                 \n",
      "=================================================================\n",
      "Total params: 343011 (1.31 MB)\n",
      "Trainable params: 343011 (1.31 MB)\n",
      "Non-trainable params: 0 (0.00 Byte)\n",
      "_________________________________________________________________\n",
      "None\n"
     ]
    }
   ],
   "source": [
    "# Completed by mainly by Hayden & Liam, Collaboratively, but the whole group had input\n",
    "# ---BuildModel---\n",
    "y = pd.get_dummies(df['category'])\n",
    "X_train, X_test, y_train, y_test = train_test_split(X, y, test_size=0.2, random_state=1)\n",
    "X_train, X_val, y_train, y_val = train_test_split(X_train, y_train, test_size=0.25, random_state=1)\n",
    "print('Train Set ->', X_train.shape, y_train.shape)\n",
    "print('Validation Set ->', X_val.shape, y_val.shape)\n",
    "print('Test Set ->', X_test.shape, y_test.shape)\n",
    "\n",
    "vocab_size = 5000\n",
    "embedding_size = 64 # changed from 32 to 64\n",
    "epochs = 20\n",
    "learning_rate = 0.01\n",
    "decay_rate = learning_rate / epochs\n",
    "momentum = 0.8\n",
    "\n",
    "# Removed decay rate\n",
    "# decay=decay_rate,\n",
    "sgd = SGD(lr=learning_rate, momentum=momentum, nesterov=False)\n",
    "\n",
    "# Build model\n",
    "model = Sequential()\n",
    "model.add(Embedding(vocab_size, embedding_size, input_length=max_len))\n",
    "model.add(Conv1D(filters=32, kernel_size=3, padding='same', activation='relu'))\n",
    "model.add(MaxPooling1D(pool_size=2))\n",
    "model.add(Bidirectional(LSTM(32)))\n",
    "model.add(Dropout(0.4))\n",
    "model.add(Dense(3, activation='softmax'))\n",
    "\n",
    "tf.keras.utils.plot_model(model, show_shapes=True)\n",
    "\n",
    "print(model.summary())"
   ]
  },
  {
   "cell_type": "code",
   "execution_count": 29,
   "id": "7821a804ca504005",
   "metadata": {
    "ExecuteTime": {
     "end_time": "2023-12-06T22:15:53.206475300Z",
     "start_time": "2023-12-06T22:15:53.188704800Z"
    },
    "collapsed": false
   },
   "outputs": [],
   "source": [
    "# Compile model\n",
    "model.compile(loss='categorical_crossentropy', optimizer=sgd, metrics=['accuracy', Precision(), Recall()])"
   ]
  },
  {
   "cell_type": "code",
   "execution_count": 30,
   "id": "dab8b2c1ee022fc8",
   "metadata": {
    "ExecuteTime": {
     "end_time": "2023-12-06T22:24:57.395248900Z",
     "start_time": "2023-12-06T22:15:53.202421Z"
    },
    "collapsed": false
   },
   "outputs": [
    {
     "name": "stdout",
     "output_type": "stream",
     "text": [
      "Epoch 1/20\n",
      "1681/1681 [==============================] - 31s 17ms/step - loss: 1.0320 - accuracy: 0.4746 - precision_1: 0.5753 - recall_1: 0.1586 - val_loss: 0.9982 - val_accuracy: 0.5075 - val_precision_1: 0.5803 - val_recall_1: 0.3044\n",
      "Epoch 2/20\n",
      "1681/1681 [==============================] - 27s 16ms/step - loss: 0.9882 - accuracy: 0.5111 - precision_1: 0.5906 - recall_1: 0.2867 - val_loss: 0.9452 - val_accuracy: 0.5409 - val_precision_1: 0.6231 - val_recall_1: 0.3407\n",
      "Epoch 3/20\n",
      "1681/1681 [==============================] - 27s 16ms/step - loss: 0.8235 - accuracy: 0.6284 - precision_1: 0.7077 - recall_1: 0.4941 - val_loss: 0.6867 - val_accuracy: 0.7272 - val_precision_1: 0.7904 - val_recall_1: 0.6368\n",
      "Epoch 4/20\n",
      "1681/1681 [==============================] - 27s 16ms/step - loss: 0.5961 - accuracy: 0.7732 - precision_1: 0.8096 - recall_1: 0.7248 - val_loss: 0.5190 - val_accuracy: 0.8146 - val_precision_1: 0.8407 - val_recall_1: 0.7814\n",
      "Epoch 5/20\n",
      "1681/1681 [==============================] - 27s 16ms/step - loss: 0.4993 - accuracy: 0.8231 - precision_1: 0.8416 - recall_1: 0.7993 - val_loss: 0.4774 - val_accuracy: 0.8293 - val_precision_1: 0.8439 - val_recall_1: 0.8113\n",
      "Epoch 6/20\n",
      "1681/1681 [==============================] - 27s 16ms/step - loss: 0.4644 - accuracy: 0.8384 - precision_1: 0.8529 - recall_1: 0.8200 - val_loss: 0.4698 - val_accuracy: 0.8313 - val_precision_1: 0.8457 - val_recall_1: 0.8148\n",
      "Epoch 7/20\n",
      "1681/1681 [==============================] - 27s 16ms/step - loss: 0.4475 - accuracy: 0.8459 - precision_1: 0.8589 - recall_1: 0.8293 - val_loss: 0.4624 - val_accuracy: 0.8368 - val_precision_1: 0.8468 - val_recall_1: 0.8236\n",
      "Epoch 8/20\n",
      "1681/1681 [==============================] - 27s 16ms/step - loss: 0.4352 - accuracy: 0.8495 - precision_1: 0.8624 - recall_1: 0.8341 - val_loss: 0.4527 - val_accuracy: 0.8378 - val_precision_1: 0.8504 - val_recall_1: 0.8247\n",
      "Epoch 9/20\n",
      "1681/1681 [==============================] - 27s 16ms/step - loss: 0.4281 - accuracy: 0.8523 - precision_1: 0.8646 - recall_1: 0.8368 - val_loss: 0.4505 - val_accuracy: 0.8380 - val_precision_1: 0.8491 - val_recall_1: 0.8242\n",
      "Epoch 10/20\n",
      "1681/1681 [==============================] - 27s 16ms/step - loss: 0.4181 - accuracy: 0.8558 - precision_1: 0.8672 - recall_1: 0.8416 - val_loss: 0.4503 - val_accuracy: 0.8396 - val_precision_1: 0.8526 - val_recall_1: 0.8252\n",
      "Epoch 11/20\n",
      "1681/1681 [==============================] - 27s 16ms/step - loss: 0.4121 - accuracy: 0.8577 - precision_1: 0.8697 - recall_1: 0.8442 - val_loss: 0.4512 - val_accuracy: 0.8411 - val_precision_1: 0.8517 - val_recall_1: 0.8288\n",
      "Epoch 12/20\n",
      "1681/1681 [==============================] - 27s 16ms/step - loss: 0.4053 - accuracy: 0.8596 - precision_1: 0.8714 - recall_1: 0.8462 - val_loss: 0.4560 - val_accuracy: 0.8388 - val_precision_1: 0.8492 - val_recall_1: 0.8282\n",
      "Epoch 13/20\n",
      "1681/1681 [==============================] - 27s 16ms/step - loss: 0.3983 - accuracy: 0.8628 - precision_1: 0.8747 - recall_1: 0.8499 - val_loss: 0.4492 - val_accuracy: 0.8416 - val_precision_1: 0.8511 - val_recall_1: 0.8298\n",
      "Epoch 14/20\n",
      "1681/1681 [==============================] - 27s 16ms/step - loss: 0.3925 - accuracy: 0.8645 - precision_1: 0.8758 - recall_1: 0.8510 - val_loss: 0.4491 - val_accuracy: 0.8401 - val_precision_1: 0.8511 - val_recall_1: 0.8264\n",
      "Epoch 15/20\n",
      "1681/1681 [==============================] - 27s 16ms/step - loss: 0.3865 - accuracy: 0.8675 - precision_1: 0.8784 - recall_1: 0.8545 - val_loss: 0.4601 - val_accuracy: 0.8342 - val_precision_1: 0.8467 - val_recall_1: 0.8199\n",
      "Epoch 16/20\n",
      "1681/1681 [==============================] - 27s 16ms/step - loss: 0.3783 - accuracy: 0.8704 - precision_1: 0.8812 - recall_1: 0.8578 - val_loss: 0.4562 - val_accuracy: 0.8378 - val_precision_1: 0.8490 - val_recall_1: 0.8242\n",
      "Epoch 17/20\n",
      "1681/1681 [==============================] - 27s 16ms/step - loss: 0.3702 - accuracy: 0.8732 - precision_1: 0.8838 - recall_1: 0.8609 - val_loss: 0.4657 - val_accuracy: 0.8322 - val_precision_1: 0.8451 - val_recall_1: 0.8175\n",
      "Epoch 18/20\n",
      "1681/1681 [==============================] - 27s 16ms/step - loss: 0.3627 - accuracy: 0.8767 - precision_1: 0.8873 - recall_1: 0.8643 - val_loss: 0.4522 - val_accuracy: 0.8392 - val_precision_1: 0.8497 - val_recall_1: 0.8290\n",
      "Epoch 19/20\n",
      "1681/1681 [==============================] - 27s 16ms/step - loss: 0.3553 - accuracy: 0.8788 - precision_1: 0.8894 - recall_1: 0.8667 - val_loss: 0.4692 - val_accuracy: 0.8341 - val_precision_1: 0.8438 - val_recall_1: 0.8225\n",
      "Epoch 20/20\n",
      "1681/1681 [==============================] - 27s 16ms/step - loss: 0.3476 - accuracy: 0.8819 - precision_1: 0.8920 - recall_1: 0.8707 - val_loss: 0.4566 - val_accuracy: 0.8374 - val_precision_1: 0.8487 - val_recall_1: 0.8251\n"
     ]
    }
   ],
   "source": [
    " # Train model\n",
    "batch_size = 64\n",
    "history = model.fit(X_train, y_train, validation_data=(X_val, y_val), batch_size=batch_size, epochs=epochs, verbose=1)"
   ]
  },
  {
   "cell_type": "code",
   "execution_count": 31,
   "id": "56eca16db18029f7",
   "metadata": {
    "ExecuteTime": {
     "end_time": "2023-12-06T22:24:57.401361Z",
     "start_time": "2023-12-06T22:24:57.395248900Z"
    }
   },
   "outputs": [],
   "source": [
    "# Completed by Taylor\n",
    "def f1_score(precision, recall):\n",
    "    \"\"\"\n",
    "    Calculate the f1 score.\n",
    "\n",
    "    Parameters:\n",
    "    precision: Precision score from the trained model\n",
    "    recall: Recall score from the trained model\n",
    "    \"\"\"\n",
    "\n",
    "    f1_val = 2 * (precision * recall) / (precision + recall + K.epsilon())\n",
    "    return f1_val"
   ]
  },
  {
   "cell_type": "code",
   "execution_count": 32,
   "id": "939991392310a84d",
   "metadata": {
    "ExecuteTime": {
     "end_time": "2023-12-06T22:25:01.860242100Z",
     "start_time": "2023-12-06T22:24:57.400346800Z"
    },
    "collapsed": false
   },
   "outputs": [
    {
     "name": "stdout",
     "output_type": "stream",
     "text": [
      "\n",
      "Accuracy  : 0.8356\n",
      "Precision : 0.8474\n",
      "Recall    : 0.8240\n",
      "F1 Score  : 0.8355\n"
     ]
    }
   ],
   "source": [
    "# Evaluate model on the test set\n",
    "loss, accuracy, precision, recall = model.evaluate(X_test, y_test, verbose=0)\n",
    "# Print metrics\n",
    "print('')\n",
    "print('Accuracy  : {:.4f}'.format(accuracy))\n",
    "print('Precision : {:.4f}'.format(precision))\n",
    "print('Recall    : {:.4f}'.format(recall))\n",
    "print('F1 Score  : {:.4f}'.format(f1_score(precision, recall)))"
   ]
  },
  {
   "cell_type": "code",
   "execution_count": 33,
   "id": "15fa09e239d37fa6",
   "metadata": {
    "ExecuteTime": {
     "end_time": "2023-12-06T22:25:02.144254900Z",
     "start_time": "2023-12-06T22:25:01.859223Z"
    },
    "collapsed": false
   },
   "outputs": [
    {
     "data": {
      "image/png": "[encoded data removed]",
      "text/plain": [
       "<Figure size 1000x400 with 2 Axes>"
      ]
     },
     "metadata": {},
     "output_type": "display_data"
    }
   ],
   "source": [
    "# Completed by Taylor & Andrew\n",
    "def plot_training_hist(history):\n",
    "    \"\"\"\n",
    "    Plot the training history, using accuracy and loss. \n",
    "\n",
    "    Parameters:\n",
    "    history: trained model object.\n",
    "    \"\"\"\n",
    "    \n",
    "    fig, ax = plt.subplots(1, 2, figsize=(10,4))\n",
    "    # first plot\n",
    "    ax[0].plot(history.history['accuracy'])\n",
    "    ax[0].plot(history.history['val_accuracy'])\n",
    "    ax[0].set_title('Model Accuracy')\n",
    "    ax[0].set_xlabel('epoch')\n",
    "    ax[0].set_ylabel('accuracy')\n",
    "    ax[0].legend(['train', 'validation'], loc='best')\n",
    "    # second plot\n",
    "    ax[1].plot(history.history['loss'])\n",
    "    ax[1].plot(history.history['val_loss'])\n",
    "    ax[1].set_title('Model Loss')\n",
    "    ax[1].set_xlabel('epoch')\n",
    "    ax[1].set_ylabel('loss')\n",
    "    ax[1].legend(['train', 'validation'], loc='best')\n",
    "    \n",
    "plot_training_hist(history)"
   ]
  },
  {
   "cell_type": "code",
   "execution_count": 34,
   "id": "a7d14f0df94f3ef3",
   "metadata": {
    "ExecuteTime": {
     "end_time": "2023-12-06T22:25:07.622353Z",
     "start_time": "2023-12-06T22:25:02.146794400Z"
    },
    "collapsed": false
   },
   "outputs": [
    {
     "name": "stdout",
     "output_type": "stream",
     "text": [
      "1121/1121 [==============================] - 5s 4ms/step\n"
     ]
    },
    {
     "data": {
      "image/png": "[encoded data removed]",
      "text/plain": [
       "<Figure size 800x600 with 2 Axes>"
      ]
     },
     "metadata": {},
     "output_type": "display_data"
    }
   ],
   "source": [
    "# Completed by Taylor & Andrew\n",
    "def plot_confusion_matrix(model, X_test, y_test):\n",
    "    \"\"\"\n",
    "    Plot the confusion matrix for the passed model and the data. \n",
    "\n",
    "    Parameters:\n",
    "    model: trained model object.\n",
    "    X_test: Predicted Labels\n",
    "    y_test: Training Data\n",
    "    \"\"\"\n",
    "    \n",
    "    sentiment_classes = ['Negative', 'Neutral', 'Positive']\n",
    "    # use model to do the prediction\n",
    "    y_pred = model.predict(X_test)\n",
    "    # compute confusion matrix\n",
    "    cm = confusion_matrix(np.argmax(np.array(y_test),axis=1), np.argmax(y_pred, axis=1))\n",
    "    # plot confusion matrix\n",
    "    plt.figure(figsize=(8,6))\n",
    "    sns.heatmap(cm, cmap=plt.cm.Blues, annot=True, fmt='d', \n",
    "                xticklabels=sentiment_classes,\n",
    "                yticklabels=sentiment_classes)\n",
    "    plt.title('Confusion matrix', fontsize=16)\n",
    "    plt.xlabel('Actual label', fontsize=12)\n",
    "    plt.ylabel('Predicted label', fontsize=12)\n",
    "    \n",
    "plot_confusion_matrix(model, X_test, y_test)"
   ]
  },
  {
   "cell_type": "code",
   "execution_count": 35,
   "id": "969451044570ab1",
   "metadata": {
    "ExecuteTime": {
     "end_time": "2023-12-06T22:25:07.695500Z",
     "start_time": "2023-12-06T22:25:07.617278600Z"
    },
    "collapsed": false
   },
   "outputs": [
    {
     "name": "stdout",
     "output_type": "stream",
     "text": [
      "Best model saved\n"
     ]
    },
    {
     "name": "stderr",
     "output_type": "stream",
     "text": [
      "G:\\Conda\\envs\\school\\Lib\\site-packages\\keras\\src\\engine\\training.py:3000: UserWarning: You are saving your model as an HDF5 file via `model.save()`. This file format is considered legacy. We recommend using instead the native Keras format, e.g. `model.save('my_model.keras')`.\n",
      "  saving_api.save_model(\n"
     ]
    }
   ],
   "source": [
    "# Save the model architecture & the weights\n",
    "model.save('best_model.h5')\n",
    "print('Best model saved')"
   ]
  },
  {
   "cell_type": "code",
   "execution_count": 36,
   "id": "a9cd94b5da2c7c6c",
   "metadata": {
    "ExecuteTime": {
     "end_time": "2023-12-06T22:25:08.098343100Z",
     "start_time": "2023-12-06T22:25:07.650397500Z"
    },
    "collapsed": false
   },
   "outputs": [],
   "source": [
    "# Completed by Hayden & Liam\n",
    "# Load model\n",
    "model = load_model('best_model.h5')\n",
    "\n",
    "def predict_class(text):\n",
    "    \"\"\"\n",
    "    Predict sentiment class of the passed in text. \n",
    "\n",
    "    Parameters:\n",
    "    text: passed string that is preprocessed as a tweet and evaluated with the trained model.\n",
    "    \"\"\"\n",
    "    \n",
    "    sentiment_classes = ['Negative', 'Neutral', 'Positive']\n",
    "    max_len=100\n",
    "    \n",
    "    # Transforms text to a sequence of integers using a tokenizer object\n",
    "    xt = tokenizer.texts_to_sequences(text)\n",
    "    # Pad sequences to the same length\n",
    "    xt = pad_sequences(xt, padding='post', maxlen=max_len)\n",
    "    # Do the prediction using the loaded model\n",
    "    yt = model.predict(xt).argmax(axis=1)\n",
    "    # Print the predicted sentiment\n",
    "    print('The predicted sentiment is', sentiment_classes[yt[0]])"
   ]
  },
  {
   "cell_type": "code",
   "execution_count": 37,
   "id": "afd01c8b38c838c",
   "metadata": {
    "ExecuteTime": {
     "end_time": "2023-12-06T22:25:09.017240Z",
     "start_time": "2023-12-06T22:25:08.099363Z"
    },
    "collapsed": false
   },
   "outputs": [
    {
     "name": "stdout",
     "output_type": "stream",
     "text": [
      "1/1 [==============================] - 1s 800ms/step\n",
      "The predicted sentiment is Negative\n",
      "1/1 [==============================] - 0s 15ms/step\n",
      "The predicted sentiment is Neutral\n",
      "1/1 [==============================] - 0s 13ms/step\n",
      "The predicted sentiment is Positive\n"
     ]
    }
   ],
   "source": [
    "# Negative Statement Test\n",
    "predict_class(['I hate flying'])\n",
    "# Neutral Statement Test\n",
    "predict_class(['I saw Mobi today'])\n",
    "# Positive Statement Test\n",
    "predict_class(['I love the new iphone'])\n"
   ]
  }
 ],
 "metadata": {
  "kernelspec": {
   "display_name": "Python 3",
   "language": "python",
   "name": "python3"
  },
  "language_info": {
   "codemirror_mode": {
    "name": "ipython",
    "version": 3
   },
   "file_extension": ".py",
   "mimetype": "text/x-python",
   "name": "python",
   "nbconvert_exporter": "python",
   "pygments_lexer": "ipython3",
   "version": "3.11.6"
  }
 },
 "nbformat": 4,
 "nbformat_minor": 5
}
